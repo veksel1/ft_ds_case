{
 "cells": [
  {
   "cell_type": "markdown",
   "metadata": {},
   "source": [
    "\n",
    "# Jupyter notebook for the case study (using Python 3)"
   ]
  },
  {
   "cell_type": "markdown",
   "metadata": {},
   "source": [
    "Importing the necessary libraries: \n",
    "* Pandas package to efficiently work with DataFrames\n",
    "* NumPy package for math / linear algebra\n",
    "* Datetime to work with date/time data\n",
    "* Ridge (ridge regression) - ML-model to determine key factors\n",
    "* Train_test_split - to split data in training and test set\n",
    "* cros_val_score to perform cross-validation when calibrating the model\n",
    "* StandardScaler to normalize the data\n",
    "* matplotlib (plt) for visualisations"
   ]
  },
  {
   "cell_type": "code",
   "execution_count": 1,
   "metadata": {},
   "outputs": [],
   "source": [
    "import pandas as pd\n",
    "import numpy as np\n",
    "import datetime as dt\n",
    "from sklearn.preprocessing import StandardScaler\n",
    "from sklearn.linear_model import LogisticRegression\n",
    "from sklearn.model_selection import train_test_split\n",
    "#from sklearn.model_selection import KFold ---- delete?\n",
    "from sklearn.model_selection import cross_val_score\n",
    "import matplotlib.pyplot as plt\n"
   ]
  },
  {
   "cell_type": "markdown",
   "metadata": {},
   "source": [
    "## Task 1"
   ]
  },
  {
   "cell_type": "markdown",
   "metadata": {},
   "source": [
    "**_1) Setup_**"
   ]
  },
  {
   "cell_type": "markdown",
   "metadata": {},
   "source": [
    "defining dataset names. Can change names to add other datasets."
   ]
  },
  {
   "cell_type": "code",
   "execution_count": 2,
   "metadata": {
    "collapsed": true
   },
   "outputs": [],
   "source": [
    "#uncomment for testing with small datasets\n",
    "name_dataset_0 = 'small_app_dataset.csv' # 'app_dataset.csv'\n",
    "name_dataset_1 = 'small_dataset_1.csv' # 'dataset_1.csv'\n",
    "name_dataset_2 = 'small_dataset_2.csv' # 'dataset_2.csv'"
   ]
  },
  {
   "cell_type": "code",
   "execution_count": 3,
   "metadata": {
    "collapsed": true
   },
   "outputs": [],
   "source": [
    "name_dataset_0 = 'app_dataset.csv'\n",
    "name_dataset_1 = 'dataset_1.csv'\n",
    "name_dataset_2 = 'dataset_2.csv'"
   ]
  },
  {
   "cell_type": "markdown",
   "metadata": {},
   "source": [
    "defining key names"
   ]
  },
  {
   "cell_type": "code",
   "execution_count": 4,
   "metadata": {
    "collapsed": true
   },
   "outputs": [],
   "source": [
    "key1 = 'key1'\n",
    "key2 = 'key2'\n",
    "key_names = [key1, key2]"
   ]
  },
  {
   "cell_type": "markdown",
   "metadata": {},
   "source": [
    "saving CSV fomratted datasets as Pandas dataframes"
   ]
  },
  {
   "cell_type": "code",
   "execution_count": 5,
   "metadata": {
    "collapsed": true
   },
   "outputs": [],
   "source": [
    "dataset_0 = pd.read_csv(name_dataset_0, sep=';')\n",
    "dataset_1 = pd.read_csv(name_dataset_1, sep=';')\n",
    "dataset_2 = pd.read_csv(name_dataset_2, sep=';')"
   ]
  },
  {
   "cell_type": "markdown",
   "metadata": {},
   "source": [
    "**_2) Investigating the datasets - checking how many rows, columns and elements they have_**"
   ]
  },
  {
   "cell_type": "markdown",
   "metadata": {},
   "source": [
    "function to print the number of columns, rows and elements for each dataset"
   ]
  },
  {
   "cell_type": "code",
   "execution_count": 6,
   "metadata": {
    "collapsed": true
   },
   "outputs": [],
   "source": [
    "def print_col_row_and_cell_count(df):\n",
    "    row_count, column_count = df.shape\n",
    "    element_count = column_count*row_count\n",
    "    print('column count:  ', column_count)\n",
    "    print('row count:     ', row_count)\n",
    "    print('element count: ', element_count)\n",
    "    print()"
   ]
  },
  {
   "cell_type": "markdown",
   "metadata": {},
   "source": [
    "total number of row and column count for each dataset (including NA values)"
   ]
  },
  {
   "cell_type": "code",
   "execution_count": 7,
   "metadata": {},
   "outputs": [
    {
     "name": "stdout",
     "output_type": "stream",
     "text": [
      "1) dataset 0\n",
      "column count:   5\n",
      "row count:      798\n",
      "element count:  3990\n",
      "\n",
      "2) dataset 1\n",
      "column count:   169\n",
      "row count:      14571\n",
      "element count:  2462499\n",
      "\n",
      "3) dataset 2\n",
      "column count:   37\n",
      "row count:      10137\n",
      "element count:  375069\n",
      "\n"
     ]
    }
   ],
   "source": [
    "print('1) dataset 0')\n",
    "print_col_row_and_cell_count(dataset_0)\n",
    "print('2) dataset 1')\n",
    "print_col_row_and_cell_count(dataset_1)\n",
    "print('3) dataset 2')\n",
    "print_col_row_and_cell_count(dataset_2)"
   ]
  },
  {
   "cell_type": "markdown",
   "metadata": {},
   "source": [
    "**_3) Joining the datasets_**"
   ]
  },
  {
   "cell_type": "code",
   "execution_count": 8,
   "metadata": {
    "collapsed": true
   },
   "outputs": [],
   "source": [
    "dataset_0_and_1 = pd.merge(dataset_0, dataset_1, how='left', on=key2)"
   ]
  },
  {
   "cell_type": "code",
   "execution_count": 9,
   "metadata": {
    "collapsed": true
   },
   "outputs": [],
   "source": [
    "dataset_full_not_cleaned = pd.merge(dataset_0_and_1, dataset_2, how='left', on=key1)"
   ]
  },
  {
   "cell_type": "code",
   "execution_count": 10,
   "metadata": {},
   "outputs": [
    {
     "name": "stdout",
     "output_type": "stream",
     "text": [
      "dataset_full - before cleaning NAs\n",
      "column count:   209\n",
      "row count:      798\n",
      "element count:  166782\n",
      "\n"
     ]
    }
   ],
   "source": [
    "print('dataset_full - before cleaning NAs')\n",
    "print_col_row_and_cell_count(dataset_full_not_cleaned)"
   ]
  },
  {
   "cell_type": "markdown",
   "metadata": {},
   "source": [
    "**_4) Dropping columns with keys. Removing columns and rows containing many NA values. Saving the final dateset to CSV file_**"
   ]
  },
  {
   "cell_type": "markdown",
   "metadata": {},
   "source": [
    "After the join is done, keys are not needed. Dropping them."
   ]
  },
  {
   "cell_type": "code",
   "execution_count": 11,
   "metadata": {
    "collapsed": true
   },
   "outputs": [],
   "source": [
    "dataset_full_not_cleaned_keys_dropped = dataset_full_not_cleaned.drop(key_names, axis=1)"
   ]
  },
  {
   "cell_type": "markdown",
   "metadata": {},
   "source": [
    "Function to deal with NA values. It will drop rows and columns if the amount of non-NA values in a given column or row is below a given threshold. By default it is 20% for columns and 5% for rows."
   ]
  },
  {
   "cell_type": "code",
   "execution_count": 12,
   "metadata": {
    "collapsed": true
   },
   "outputs": [],
   "source": [
    "def drop_rows_and_cols_with_NA_below_thresholds(input_df, key_names=key_names, col_thresh=0.20, row_thresh=0.05):\n",
    "    df = input_df.copy(deep=True)\n",
    "    \n",
    "    number_of_cols = len(list(df.columns))\n",
    "    row_threshold_integer = round(row_thresh * number_of_cols)\n",
    "    df = df.dropna(axis=0, thresh=row_threshold_integer) # droping rows that have non-NA cell count below threshold\n",
    "    \n",
    "    number_of_rows = len(df)\n",
    "    col_threshold_integer = round(col_thresh * number_of_rows)\n",
    "    output_df = df.dropna(axis=1, thresh=col_threshold_integer).loc[:] # droping columns that have non-NA cell count below threshold\n",
    "    return output_df"
   ]
  },
  {
   "cell_type": "code",
   "execution_count": 13,
   "metadata": {
    "collapsed": true
   },
   "outputs": [],
   "source": [
    "dataset_full_clean = drop_rows_and_cols_with_NA_below_thresholds(dataset_full_not_cleaned_keys_dropped, \n",
    "                                                                 col_thresh=0.20, row_thresh=0.05)"
   ]
  },
  {
   "cell_type": "code",
   "execution_count": 14,
   "metadata": {},
   "outputs": [
    {
     "name": "stdout",
     "output_type": "stream",
     "text": [
      "dataset_full_clean - after some columns and rows with many missing values are removed\n",
      "column count:   60\n",
      "row count:      772\n",
      "element count:  46320\n",
      "\n"
     ]
    }
   ],
   "source": [
    "print('dataset_full_clean - after some columns and rows with many missing values are removed')\n",
    "print_col_row_and_cell_count(dataset_full_clean)"
   ]
  },
  {
   "cell_type": "markdown",
   "metadata": {},
   "source": [
    "Saving the final dataset as a CSV file"
   ]
  },
  {
   "cell_type": "code",
   "execution_count": 15,
   "metadata": {
    "collapsed": true
   },
   "outputs": [],
   "source": [
    "dataset_full_clean.to_csv('output_dataset_full_clean.csv')"
   ]
  },
  {
   "cell_type": "markdown",
   "metadata": {},
   "source": [
    "**_5) Observations on data integrity _**"
   ]
  },
  {
   "cell_type": "markdown",
   "metadata": {},
   "source": [
    "Overall, we see that a lot of data is not used. In the final table we have 798 rows (the same as in the 'master' dataset_0, because that dataset is used in left outer join). Dataset1 has 14571 rows, and dataset2 - 10137. Since response variable is available only for these 798 rows, we have to ignore most of the rows from dataset1 and dataset2. \n",
    "\n",
    "On top of that, there are a lot of missing values (NA), especially in the dataset1. The combined dataset has 209 columns, before the columns with many NAs are removed. After I remove them, applying 20% threshold, only 62 columns remain. [UPDATE - provide counts on NA in each table. Maybe update print function to show NA cells as well]"
   ]
  },
  {
   "cell_type": "markdown",
   "metadata": {},
   "source": [
    " "
   ]
  },
  {
   "cell_type": "markdown",
   "metadata": {},
   "source": [
    "## Task 2"
   ]
  },
  {
   "cell_type": "markdown",
   "metadata": {},
   "source": [
    "**_1) Setup_**"
   ]
  },
  {
   "cell_type": "markdown",
   "metadata": {},
   "source": [
    "It is important to clean the dataset and to make various transformations before performing any analysis on it."
   ]
  },
  {
   "cell_type": "markdown",
   "metadata": {},
   "source": [
    "(a) Defining the name of the target variable"
   ]
  },
  {
   "cell_type": "code",
   "execution_count": 16,
   "metadata": {
    "collapsed": true
   },
   "outputs": [],
   "source": [
    "target = 'response'"
   ]
  },
  {
   "cell_type": "markdown",
   "metadata": {},
   "source": [
    "(b) Defining function to get all column names except for the target and key columns. Will allow to dynamically analyze dataframes without the need to know exact columns they have"
   ]
  },
  {
   "cell_type": "code",
   "execution_count": 17,
   "metadata": {
    "collapsed": true
   },
   "outputs": [],
   "source": [
    "def get_col_names_without_target(dataframe, target = target):\n",
    "    column_names_list = list(dataframe.columns)\n",
    "    if target in column_names_list:\n",
    "        column_names_list.remove(target)\n",
    "    return column_names_list"
   ]
  },
  {
   "cell_type": "markdown",
   "metadata": {},
   "source": [
    "(c) We want to determine which factors are the most important in predicting target variable (response). Many variables still has too many NAs, so I will use more agressive column threshold (60%) to remove columns/factors with many missing values. Otherwise, we would introduce too much bias if we would try to impute them all."
   ]
  },
  {
   "cell_type": "code",
   "execution_count": 18,
   "metadata": {},
   "outputs": [
    {
     "name": "stdout",
     "output_type": "stream",
     "text": [
      "column count:   38\n",
      "row count:      772\n",
      "element count:  29336\n",
      "\n"
     ]
    }
   ],
   "source": [
    "dataset_full = drop_rows_and_cols_with_NA_below_thresholds(dataset_full_clean, col_thresh=0.60, row_thresh=0.05)\n",
    "print_col_row_and_cell_count(dataset_full)"
   ]
  },
  {
   "cell_type": "markdown",
   "metadata": {},
   "source": [
    "(d) Python uses '.' as a decimal point. However, in datasets sometimes we get ',' as a decimal point. Need to replace ',' with '.'. After this is done, will need to convert floats stored as string to Python floats. "
   ]
  },
  {
   "cell_type": "code",
   "execution_count": 19,
   "metadata": {
    "collapsed": true
   },
   "outputs": [],
   "source": [
    "def replace_commas_with_dots_in_string(single_string):\n",
    "    if type(single_string) == str:\n",
    "        single_string = single_string.replace(',','.')\n",
    "    return single_string"
   ]
  },
  {
   "cell_type": "code",
   "execution_count": 20,
   "metadata": {
    "collapsed": true
   },
   "outputs": [],
   "source": [
    "# applying a function on each cell of a dataframe\n",
    "dataset_full = dataset_full.applymap(replace_commas_with_dots_in_string)"
   ]
  },
  {
   "cell_type": "code",
   "execution_count": 21,
   "metadata": {
    "collapsed": true
   },
   "outputs": [],
   "source": [
    "#function to convert floats stored as string to floats\n",
    "def convert_floats_in_string_to_floats(element):\n",
    "    if type(element) == str:\n",
    "        try:\n",
    "            return float(element)\n",
    "        except (ValueError, TypeError):\n",
    "            return element\n",
    "    return element"
   ]
  },
  {
   "cell_type": "code",
   "execution_count": 22,
   "metadata": {
    "collapsed": true
   },
   "outputs": [],
   "source": [
    "dataset_full = dataset_full.applymap(convert_floats_in_string_to_floats)"
   ]
  },
  {
   "cell_type": "markdown",
   "metadata": {
    "collapsed": true
   },
   "source": [
    "(e) Some columns might contain dates in string format. I will convert those to floats. It is done by firstly converting string dates to datetime format. Then from those datetimes I substract epoch date (1 jan 1970) and convert it to seconds, which is in float format. Essentially, each cell with a date after the transformation will show how many seconds has passed after 1 jan 1970 till this cell's initial date. This number is in float, so regression ML algorithms (logistic regression, random forest classifier, etc) can be applied on it.\n",
    "\n",
    "The function below will do this transformation. It is a vectorized function, so it is efficient. Also, it will convert only those columns, that initially contain dates in string, otherwise it will not change the columns. Thus, it is very general and would work on various datasets."
   ]
  },
  {
   "cell_type": "code",
   "execution_count": 23,
   "metadata": {
    "collapsed": true
   },
   "outputs": [],
   "source": [
    "def string_dates_to_sec_after_epoch_as_float(input_col):\n",
    "    if input_col.dtype=='O': #in pandas dataframe columns containing Strings, has type Object, or 'O'\n",
    "        col_datetime=pd.to_datetime(input_col, format='%Y-%m-%d %H:%M', errors='ignore') #convert to datetime only if format is '%Y-%m-%d %H:%M'\n",
    "        if col_datetime.dtype=='datetime64[ns]': \n",
    "            epoch_timestamp_col = col_datetime - dt.datetime(1970, 1, 1)\n",
    "            sec_float_col = epoch_timestamp_col / np.timedelta64(1, 's')\n",
    "            return sec_float_col\n",
    "        return col_datetime\n",
    "    else:\n",
    "        return input_col           "
   ]
  },
  {
   "cell_type": "code",
   "execution_count": 24,
   "metadata": {
    "collapsed": true
   },
   "outputs": [],
   "source": [
    "dataset_full_time_converted = dataset_full.apply(string_dates_to_sec_after_epoch_as_float)"
   ]
  },
  {
   "cell_type": "markdown",
   "metadata": {},
   "source": [
    "(f) We have converted string columns that contain dates and floats. Now, the remaining columns with string (text) contain only categorical variables (e.g. 'big', 'small' and 'medium'). We need to convert this information to numerical data. I will do it by  creating a binary variable for each category. Binary variable (dummy) being 1 means that a given record belongs to a given category, and 0 indicates that it does not belong. If the value is missing, then a new category ('missing') is created. The initial column with strings is dropped. For example, column B contains 'yes', 'no' and 'N/A', then column B is dropped, and 3 new columns are created: B_yes, B_no and B_NA."
   ]
  },
  {
   "cell_type": "code",
   "execution_count": 25,
   "metadata": {
    "collapsed": true
   },
   "outputs": [],
   "source": [
    "# !!!!!!!! temp solution !!!!!!!!!!!! manually dropping column v179. Need to find a generic solution\n",
    "dataset_full_time_converted = dataset_full_time_converted.drop(['v179'], axis=1)"
   ]
  },
  {
   "cell_type": "code",
   "execution_count": 26,
   "metadata": {
    "collapsed": true
   },
   "outputs": [],
   "source": [
    "dataset_full_with_dummies = pd.get_dummies(dataset_full_time_converted, dummy_na=True)"
   ]
  },
  {
   "cell_type": "code",
   "execution_count": null,
   "metadata": {
    "collapsed": true
   },
   "outputs": [],
   "source": []
  },
  {
   "cell_type": "markdown",
   "metadata": {},
   "source": [
    "(g) Imputing remaining missing values."
   ]
  },
  {
   "cell_type": "markdown",
   "metadata": {},
   "source": [
    "There are still many missing values. In order to use Machine Learning models in Task 2 and 3, I need to remove or impute missing values (NAs). In the previous parts I have removed some. The remaining will be imputed."
   ]
  },
  {
   "cell_type": "markdown",
   "metadata": {},
   "source": [
    "I am imputing missing values with a median value for each feature, as it is less biased than mean (outliers have a significant impact on mean, but not on median)."
   ]
  },
  {
   "cell_type": "code",
   "execution_count": 27,
   "metadata": {
    "collapsed": true
   },
   "outputs": [],
   "source": [
    "dataset_filled = dataset_full_with_dummies.fillna(dataset_full_with_dummies.median())"
   ]
  },
  {
   "cell_type": "markdown",
   "metadata": {},
   "source": [
    "(h) Normalizing the data"
   ]
  },
  {
   "cell_type": "code",
   "execution_count": 28,
   "metadata": {},
   "outputs": [],
   "source": [
    "#saving target column separately, as it should not be transformed (we need 1 and 0 for classification)\n",
    "y = pd.DataFrame(dataset_filled[target].values)\n",
    "predictors = get_col_names_without_target(dataset_filled)\n",
    "\n",
    "scaler = StandardScaler() #creating an instance fo StandardScaler\n",
    "scaler.fit(dataset_filled[predictors]) #normalizing only predictors\n",
    "dataset_normalized_np_array = scaler.transform(dataset_filled[predictors].values) #creating numpy dataframe\n",
    "dataset_normalized = pd.DataFrame(dataset_normalized_np_array, columns=predictors) #converting numpy to pandas dataframe. Adding columns\n",
    "dataset_normalized[target] = y #adding target back\n",
    "dataset_normalized = dataset_normalized[[target] + predictors] #for convenience putting target as a first columns"
   ]
  },
  {
   "cell_type": "code",
   "execution_count": null,
   "metadata": {
    "collapsed": true
   },
   "outputs": [],
   "source": []
  },
  {
   "cell_type": "markdown",
   "metadata": {},
   "source": [
    "**_2) Looking at correlations_**"
   ]
  },
  {
   "cell_type": "markdown",
   "metadata": {},
   "source": [
    "creating a correlation matrix between target and all features"
   ]
  },
  {
   "cell_type": "code",
   "execution_count": 30,
   "metadata": {},
   "outputs": [
    {
     "data": {
      "text/html": [
       "<div>\n",
       "<style>\n",
       "    .dataframe thead tr:only-child th {\n",
       "        text-align: right;\n",
       "    }\n",
       "\n",
       "    .dataframe thead th {\n",
       "        text-align: left;\n",
       "    }\n",
       "\n",
       "    .dataframe tbody tr th {\n",
       "        vertical-align: top;\n",
       "    }\n",
       "</style>\n",
       "<table border=\"1\" class=\"dataframe\">\n",
       "  <thead>\n",
       "    <tr style=\"text-align: right;\">\n",
       "      <th></th>\n",
       "      <th>response</th>\n",
       "      <th>v001</th>\n",
       "      <th>v002</th>\n",
       "      <th>v4</th>\n",
       "      <th>v5</th>\n",
       "      <th>v14</th>\n",
       "      <th>v29</th>\n",
       "      <th>v120</th>\n",
       "      <th>v123</th>\n",
       "      <th>v173</th>\n",
       "      <th>...</th>\n",
       "      <th>v204_mobile</th>\n",
       "      <th>v204_residential</th>\n",
       "      <th>v204_wifi</th>\n",
       "      <th>v204_wired</th>\n",
       "      <th>v204_nan</th>\n",
       "      <th>v172.1_N</th>\n",
       "      <th>v172.1_P</th>\n",
       "      <th>v172.1_U</th>\n",
       "      <th>v172.1_Y</th>\n",
       "      <th>v172.1_nan</th>\n",
       "    </tr>\n",
       "  </thead>\n",
       "  <tbody>\n",
       "    <tr>\n",
       "      <th>response</th>\n",
       "      <td>1.000000</td>\n",
       "      <td>0.016594</td>\n",
       "      <td>-0.072353</td>\n",
       "      <td>-0.007668</td>\n",
       "      <td>-0.013845</td>\n",
       "      <td>-0.017492</td>\n",
       "      <td>-0.172579</td>\n",
       "      <td>0.051613</td>\n",
       "      <td>0.001951</td>\n",
       "      <td>0.042317</td>\n",
       "      <td>...</td>\n",
       "      <td>-0.024923</td>\n",
       "      <td>0.077241</td>\n",
       "      <td>-0.148913</td>\n",
       "      <td>-0.002650</td>\n",
       "      <td>0.005322</td>\n",
       "      <td>-0.045414</td>\n",
       "      <td>-0.010143</td>\n",
       "      <td>0.009589</td>\n",
       "      <td>-0.032629</td>\n",
       "      <td>0.010840</td>\n",
       "    </tr>\n",
       "    <tr>\n",
       "      <th>v001</th>\n",
       "      <td>0.016594</td>\n",
       "      <td>1.000000</td>\n",
       "      <td>-0.028172</td>\n",
       "      <td>0.026159</td>\n",
       "      <td>0.042749</td>\n",
       "      <td>0.026423</td>\n",
       "      <td>-0.042262</td>\n",
       "      <td>0.062640</td>\n",
       "      <td>0.065808</td>\n",
       "      <td>-0.023079</td>\n",
       "      <td>...</td>\n",
       "      <td>0.021698</td>\n",
       "      <td>0.017588</td>\n",
       "      <td>-0.037195</td>\n",
       "      <td>-0.082489</td>\n",
       "      <td>0.053279</td>\n",
       "      <td>0.018721</td>\n",
       "      <td>0.039101</td>\n",
       "      <td>-0.055188</td>\n",
       "      <td>-0.057636</td>\n",
       "      <td>0.060728</td>\n",
       "    </tr>\n",
       "    <tr>\n",
       "      <th>v002</th>\n",
       "      <td>-0.072353</td>\n",
       "      <td>-0.028172</td>\n",
       "      <td>1.000000</td>\n",
       "      <td>0.161154</td>\n",
       "      <td>0.089772</td>\n",
       "      <td>0.156599</td>\n",
       "      <td>0.150948</td>\n",
       "      <td>-0.019944</td>\n",
       "      <td>0.015985</td>\n",
       "      <td>0.056365</td>\n",
       "      <td>...</td>\n",
       "      <td>-0.010204</td>\n",
       "      <td>-0.090875</td>\n",
       "      <td>0.104379</td>\n",
       "      <td>0.067423</td>\n",
       "      <td>0.046851</td>\n",
       "      <td>-0.035833</td>\n",
       "      <td>-0.040280</td>\n",
       "      <td>-0.022865</td>\n",
       "      <td>0.002458</td>\n",
       "      <td>0.039053</td>\n",
       "    </tr>\n",
       "    <tr>\n",
       "      <th>v4</th>\n",
       "      <td>-0.007668</td>\n",
       "      <td>0.026159</td>\n",
       "      <td>0.161154</td>\n",
       "      <td>1.000000</td>\n",
       "      <td>0.738650</td>\n",
       "      <td>0.985423</td>\n",
       "      <td>0.302075</td>\n",
       "      <td>0.209135</td>\n",
       "      <td>0.277026</td>\n",
       "      <td>0.010641</td>\n",
       "      <td>...</td>\n",
       "      <td>0.016620</td>\n",
       "      <td>-0.061750</td>\n",
       "      <td>0.043348</td>\n",
       "      <td>-0.044838</td>\n",
       "      <td>0.061015</td>\n",
       "      <td>-0.023792</td>\n",
       "      <td>-0.031783</td>\n",
       "      <td>-0.048033</td>\n",
       "      <td>-0.000563</td>\n",
       "      <td>0.061561</td>\n",
       "    </tr>\n",
       "    <tr>\n",
       "      <th>v5</th>\n",
       "      <td>-0.013845</td>\n",
       "      <td>0.042749</td>\n",
       "      <td>0.089772</td>\n",
       "      <td>0.738650</td>\n",
       "      <td>1.000000</td>\n",
       "      <td>0.739335</td>\n",
       "      <td>0.312050</td>\n",
       "      <td>0.329635</td>\n",
       "      <td>0.383194</td>\n",
       "      <td>0.022785</td>\n",
       "      <td>...</td>\n",
       "      <td>0.017533</td>\n",
       "      <td>-0.120228</td>\n",
       "      <td>0.070998</td>\n",
       "      <td>-0.036415</td>\n",
       "      <td>0.075617</td>\n",
       "      <td>-0.008706</td>\n",
       "      <td>-0.048088</td>\n",
       "      <td>-0.061443</td>\n",
       "      <td>-0.012874</td>\n",
       "      <td>0.079078</td>\n",
       "    </tr>\n",
       "    <tr>\n",
       "      <th>v14</th>\n",
       "      <td>-0.017492</td>\n",
       "      <td>0.026423</td>\n",
       "      <td>0.156599</td>\n",
       "      <td>0.985423</td>\n",
       "      <td>0.739335</td>\n",
       "      <td>1.000000</td>\n",
       "      <td>0.303795</td>\n",
       "      <td>0.225246</td>\n",
       "      <td>0.289810</td>\n",
       "      <td>0.016430</td>\n",
       "      <td>...</td>\n",
       "      <td>0.019737</td>\n",
       "      <td>-0.059451</td>\n",
       "      <td>0.048794</td>\n",
       "      <td>-0.043985</td>\n",
       "      <td>0.051670</td>\n",
       "      <td>-0.023801</td>\n",
       "      <td>-0.032463</td>\n",
       "      <td>-0.039713</td>\n",
       "      <td>0.001402</td>\n",
       "      <td>0.052564</td>\n",
       "    </tr>\n",
       "    <tr>\n",
       "      <th>v29</th>\n",
       "      <td>-0.172579</td>\n",
       "      <td>-0.042262</td>\n",
       "      <td>0.150948</td>\n",
       "      <td>0.302075</td>\n",
       "      <td>0.312050</td>\n",
       "      <td>0.303795</td>\n",
       "      <td>1.000000</td>\n",
       "      <td>0.157450</td>\n",
       "      <td>0.163382</td>\n",
       "      <td>0.058766</td>\n",
       "      <td>...</td>\n",
       "      <td>0.033399</td>\n",
       "      <td>-0.048993</td>\n",
       "      <td>0.101896</td>\n",
       "      <td>0.056682</td>\n",
       "      <td>-0.012713</td>\n",
       "      <td>-0.013708</td>\n",
       "      <td>-0.061391</td>\n",
       "      <td>0.019671</td>\n",
       "      <td>0.023207</td>\n",
       "      <td>-0.010858</td>\n",
       "    </tr>\n",
       "    <tr>\n",
       "      <th>v120</th>\n",
       "      <td>0.051613</td>\n",
       "      <td>0.062640</td>\n",
       "      <td>-0.019944</td>\n",
       "      <td>0.209135</td>\n",
       "      <td>0.329635</td>\n",
       "      <td>0.225246</td>\n",
       "      <td>0.157450</td>\n",
       "      <td>1.000000</td>\n",
       "      <td>0.733878</td>\n",
       "      <td>0.017526</td>\n",
       "      <td>...</td>\n",
       "      <td>-0.030635</td>\n",
       "      <td>-0.050454</td>\n",
       "      <td>-0.033850</td>\n",
       "      <td>-0.037192</td>\n",
       "      <td>0.143450</td>\n",
       "      <td>-0.024368</td>\n",
       "      <td>-0.015127</td>\n",
       "      <td>-0.134820</td>\n",
       "      <td>0.006430</td>\n",
       "      <td>0.145945</td>\n",
       "    </tr>\n",
       "    <tr>\n",
       "      <th>v123</th>\n",
       "      <td>0.001951</td>\n",
       "      <td>0.065808</td>\n",
       "      <td>0.015985</td>\n",
       "      <td>0.277026</td>\n",
       "      <td>0.383194</td>\n",
       "      <td>0.289810</td>\n",
       "      <td>0.163382</td>\n",
       "      <td>0.733878</td>\n",
       "      <td>1.000000</td>\n",
       "      <td>0.051716</td>\n",
       "      <td>...</td>\n",
       "      <td>0.003460</td>\n",
       "      <td>-0.049136</td>\n",
       "      <td>0.017068</td>\n",
       "      <td>-0.029950</td>\n",
       "      <td>0.063949</td>\n",
       "      <td>-0.018716</td>\n",
       "      <td>-0.016883</td>\n",
       "      <td>-0.055532</td>\n",
       "      <td>-0.007136</td>\n",
       "      <td>0.066902</td>\n",
       "    </tr>\n",
       "    <tr>\n",
       "      <th>v173</th>\n",
       "      <td>0.042317</td>\n",
       "      <td>-0.023079</td>\n",
       "      <td>0.056365</td>\n",
       "      <td>0.010641</td>\n",
       "      <td>0.022785</td>\n",
       "      <td>0.016430</td>\n",
       "      <td>0.058766</td>\n",
       "      <td>0.017526</td>\n",
       "      <td>0.051716</td>\n",
       "      <td>1.000000</td>\n",
       "      <td>...</td>\n",
       "      <td>0.017673</td>\n",
       "      <td>-0.099213</td>\n",
       "      <td>0.031243</td>\n",
       "      <td>0.045614</td>\n",
       "      <td>0.059518</td>\n",
       "      <td>-0.074746</td>\n",
       "      <td>-0.059899</td>\n",
       "      <td>-0.015655</td>\n",
       "      <td>-0.058134</td>\n",
       "      <td>0.060699</td>\n",
       "    </tr>\n",
       "    <tr>\n",
       "      <th>v174</th>\n",
       "      <td>-0.044762</td>\n",
       "      <td>0.023308</td>\n",
       "      <td>-0.054430</td>\n",
       "      <td>-0.009915</td>\n",
       "      <td>-0.020723</td>\n",
       "      <td>-0.015724</td>\n",
       "      <td>-0.056870</td>\n",
       "      <td>-0.016925</td>\n",
       "      <td>-0.050899</td>\n",
       "      <td>-0.999832</td>\n",
       "      <td>...</td>\n",
       "      <td>-0.011385</td>\n",
       "      <td>0.086854</td>\n",
       "      <td>-0.025317</td>\n",
       "      <td>-0.042905</td>\n",
       "      <td>-0.055338</td>\n",
       "      <td>0.074804</td>\n",
       "      <td>0.058405</td>\n",
       "      <td>0.011945</td>\n",
       "      <td>0.057632</td>\n",
       "      <td>-0.056421</td>\n",
       "    </tr>\n",
       "    <tr>\n",
       "      <th>v175</th>\n",
       "      <td>0.016363</td>\n",
       "      <td>0.001833</td>\n",
       "      <td>0.036745</td>\n",
       "      <td>0.022826</td>\n",
       "      <td>0.022109</td>\n",
       "      <td>0.020325</td>\n",
       "      <td>-0.002560</td>\n",
       "      <td>0.011377</td>\n",
       "      <td>0.010423</td>\n",
       "      <td>0.096303</td>\n",
       "      <td>...</td>\n",
       "      <td>0.009334</td>\n",
       "      <td>-0.098594</td>\n",
       "      <td>-0.037143</td>\n",
       "      <td>-0.022360</td>\n",
       "      <td>0.165227</td>\n",
       "      <td>-0.215025</td>\n",
       "      <td>-0.271529</td>\n",
       "      <td>0.040504</td>\n",
       "      <td>-0.369961</td>\n",
       "      <td>0.163113</td>\n",
       "    </tr>\n",
       "    <tr>\n",
       "      <th>v176</th>\n",
       "      <td>-0.019849</td>\n",
       "      <td>-0.002542</td>\n",
       "      <td>-0.034321</td>\n",
       "      <td>-0.022698</td>\n",
       "      <td>-0.020502</td>\n",
       "      <td>-0.020099</td>\n",
       "      <td>0.005673</td>\n",
       "      <td>-0.012557</td>\n",
       "      <td>-0.010168</td>\n",
       "      <td>-0.094509</td>\n",
       "      <td>...</td>\n",
       "      <td>0.004150</td>\n",
       "      <td>0.084703</td>\n",
       "      <td>0.050265</td>\n",
       "      <td>0.028594</td>\n",
       "      <td>-0.173165</td>\n",
       "      <td>0.215696</td>\n",
       "      <td>0.269962</td>\n",
       "      <td>-0.032460</td>\n",
       "      <td>0.369446</td>\n",
       "      <td>-0.171096</td>\n",
       "    </tr>\n",
       "    <tr>\n",
       "      <th>v177</th>\n",
       "      <td>0.048428</td>\n",
       "      <td>-0.002857</td>\n",
       "      <td>-0.021130</td>\n",
       "      <td>0.009787</td>\n",
       "      <td>0.030602</td>\n",
       "      <td>0.006996</td>\n",
       "      <td>-0.045187</td>\n",
       "      <td>0.001383</td>\n",
       "      <td>-0.001916</td>\n",
       "      <td>-0.069621</td>\n",
       "      <td>...</td>\n",
       "      <td>-0.040159</td>\n",
       "      <td>-0.023157</td>\n",
       "      <td>-0.060555</td>\n",
       "      <td>-0.029300</td>\n",
       "      <td>0.121614</td>\n",
       "      <td>-0.150750</td>\n",
       "      <td>0.016069</td>\n",
       "      <td>-0.030689</td>\n",
       "      <td>-0.217245</td>\n",
       "      <td>0.120156</td>\n",
       "    </tr>\n",
       "    <tr>\n",
       "      <th>v180</th>\n",
       "      <td>0.022540</td>\n",
       "      <td>0.034855</td>\n",
       "      <td>0.036069</td>\n",
       "      <td>0.018493</td>\n",
       "      <td>0.031174</td>\n",
       "      <td>0.016046</td>\n",
       "      <td>-0.021656</td>\n",
       "      <td>0.013454</td>\n",
       "      <td>-0.003963</td>\n",
       "      <td>0.065332</td>\n",
       "      <td>...</td>\n",
       "      <td>-0.023473</td>\n",
       "      <td>-0.132832</td>\n",
       "      <td>-0.054981</td>\n",
       "      <td>-0.029743</td>\n",
       "      <td>0.227068</td>\n",
       "      <td>-0.170986</td>\n",
       "      <td>-0.175666</td>\n",
       "      <td>-0.053170</td>\n",
       "      <td>-0.348206</td>\n",
       "      <td>0.224360</td>\n",
       "    </tr>\n",
       "    <tr>\n",
       "      <th>v181</th>\n",
       "      <td>0.026332</td>\n",
       "      <td>-0.013670</td>\n",
       "      <td>0.046281</td>\n",
       "      <td>0.040124</td>\n",
       "      <td>0.032608</td>\n",
       "      <td>0.042488</td>\n",
       "      <td>0.034544</td>\n",
       "      <td>-0.011165</td>\n",
       "      <td>-0.008010</td>\n",
       "      <td>0.096625</td>\n",
       "      <td>...</td>\n",
       "      <td>0.103508</td>\n",
       "      <td>-0.010617</td>\n",
       "      <td>0.010018</td>\n",
       "      <td>0.099824</td>\n",
       "      <td>-0.140203</td>\n",
       "      <td>-0.053073</td>\n",
       "      <td>-0.053073</td>\n",
       "      <td>0.163087</td>\n",
       "      <td>-0.027995</td>\n",
       "      <td>-0.138417</td>\n",
       "    </tr>\n",
       "    <tr>\n",
       "      <th>v182</th>\n",
       "      <td>0.066963</td>\n",
       "      <td>0.027891</td>\n",
       "      <td>0.049610</td>\n",
       "      <td>-0.013755</td>\n",
       "      <td>0.037750</td>\n",
       "      <td>-0.017427</td>\n",
       "      <td>0.010566</td>\n",
       "      <td>0.037434</td>\n",
       "      <td>0.028961</td>\n",
       "      <td>0.514751</td>\n",
       "      <td>...</td>\n",
       "      <td>-0.117849</td>\n",
       "      <td>-0.152248</td>\n",
       "      <td>-0.138372</td>\n",
       "      <td>-0.071711</td>\n",
       "      <td>0.435554</td>\n",
       "      <td>-0.054048</td>\n",
       "      <td>-0.085544</td>\n",
       "      <td>-0.364803</td>\n",
       "      <td>-0.108406</td>\n",
       "      <td>0.436544</td>\n",
       "    </tr>\n",
       "    <tr>\n",
       "      <th>v183</th>\n",
       "      <td>0.021228</td>\n",
       "      <td>0.031512</td>\n",
       "      <td>0.023708</td>\n",
       "      <td>-0.007962</td>\n",
       "      <td>-0.008904</td>\n",
       "      <td>-0.009189</td>\n",
       "      <td>-0.039029</td>\n",
       "      <td>-0.008797</td>\n",
       "      <td>-0.017028</td>\n",
       "      <td>0.052509</td>\n",
       "      <td>...</td>\n",
       "      <td>0.023692</td>\n",
       "      <td>-0.101339</td>\n",
       "      <td>-0.016571</td>\n",
       "      <td>0.034264</td>\n",
       "      <td>0.093479</td>\n",
       "      <td>-0.075338</td>\n",
       "      <td>-0.075338</td>\n",
       "      <td>-0.017642</td>\n",
       "      <td>-0.152879</td>\n",
       "      <td>0.092288</td>\n",
       "    </tr>\n",
       "    <tr>\n",
       "      <th>v185</th>\n",
       "      <td>0.018609</td>\n",
       "      <td>0.032782</td>\n",
       "      <td>0.030687</td>\n",
       "      <td>0.016085</td>\n",
       "      <td>0.026678</td>\n",
       "      <td>0.013559</td>\n",
       "      <td>-0.022860</td>\n",
       "      <td>0.010256</td>\n",
       "      <td>-0.006240</td>\n",
       "      <td>0.057240</td>\n",
       "      <td>...</td>\n",
       "      <td>-0.023946</td>\n",
       "      <td>-0.124233</td>\n",
       "      <td>-0.055139</td>\n",
       "      <td>-0.017898</td>\n",
       "      <td>0.214553</td>\n",
       "      <td>-0.162560</td>\n",
       "      <td>-0.190442</td>\n",
       "      <td>-0.041469</td>\n",
       "      <td>-0.341731</td>\n",
       "      <td>0.211820</td>\n",
       "    </tr>\n",
       "    <tr>\n",
       "      <th>v191</th>\n",
       "      <td>0.194025</td>\n",
       "      <td>-0.026984</td>\n",
       "      <td>-0.011798</td>\n",
       "      <td>-0.017876</td>\n",
       "      <td>-0.017656</td>\n",
       "      <td>-0.013643</td>\n",
       "      <td>-0.074641</td>\n",
       "      <td>-0.006081</td>\n",
       "      <td>0.005703</td>\n",
       "      <td>-0.004563</td>\n",
       "      <td>...</td>\n",
       "      <td>0.001890</td>\n",
       "      <td>0.070954</td>\n",
       "      <td>0.032342</td>\n",
       "      <td>0.018522</td>\n",
       "      <td>-0.122082</td>\n",
       "      <td>-0.018557</td>\n",
       "      <td>-0.018557</td>\n",
       "      <td>0.130693</td>\n",
       "      <td>-0.024377</td>\n",
       "      <td>-0.120527</td>\n",
       "    </tr>\n",
       "    <tr>\n",
       "      <th>v192</th>\n",
       "      <td>0.194025</td>\n",
       "      <td>-0.026984</td>\n",
       "      <td>-0.011798</td>\n",
       "      <td>-0.017876</td>\n",
       "      <td>-0.017656</td>\n",
       "      <td>-0.013643</td>\n",
       "      <td>-0.074641</td>\n",
       "      <td>-0.006081</td>\n",
       "      <td>0.005703</td>\n",
       "      <td>-0.004563</td>\n",
       "      <td>...</td>\n",
       "      <td>0.001890</td>\n",
       "      <td>0.070954</td>\n",
       "      <td>0.032342</td>\n",
       "      <td>0.018522</td>\n",
       "      <td>-0.122082</td>\n",
       "      <td>-0.018557</td>\n",
       "      <td>-0.018557</td>\n",
       "      <td>0.130693</td>\n",
       "      <td>-0.024377</td>\n",
       "      <td>-0.120527</td>\n",
       "    </tr>\n",
       "    <tr>\n",
       "      <th>v196</th>\n",
       "      <td>0.034318</td>\n",
       "      <td>-0.003731</td>\n",
       "      <td>-0.003506</td>\n",
       "      <td>0.004440</td>\n",
       "      <td>0.008439</td>\n",
       "      <td>0.003290</td>\n",
       "      <td>0.002975</td>\n",
       "      <td>-0.014796</td>\n",
       "      <td>-0.011881</td>\n",
       "      <td>0.229137</td>\n",
       "      <td>...</td>\n",
       "      <td>0.037737</td>\n",
       "      <td>-0.002411</td>\n",
       "      <td>0.063331</td>\n",
       "      <td>-0.026424</td>\n",
       "      <td>-0.072091</td>\n",
       "      <td>-0.010958</td>\n",
       "      <td>-0.010958</td>\n",
       "      <td>0.077176</td>\n",
       "      <td>-0.014395</td>\n",
       "      <td>-0.071173</td>\n",
       "    </tr>\n",
       "    <tr>\n",
       "      <th>v197</th>\n",
       "      <td>0.034318</td>\n",
       "      <td>-0.003731</td>\n",
       "      <td>-0.003506</td>\n",
       "      <td>0.004440</td>\n",
       "      <td>0.008439</td>\n",
       "      <td>0.003290</td>\n",
       "      <td>0.002975</td>\n",
       "      <td>-0.014796</td>\n",
       "      <td>-0.011881</td>\n",
       "      <td>0.229137</td>\n",
       "      <td>...</td>\n",
       "      <td>0.037737</td>\n",
       "      <td>-0.002411</td>\n",
       "      <td>0.063331</td>\n",
       "      <td>-0.026424</td>\n",
       "      <td>-0.072091</td>\n",
       "      <td>-0.010958</td>\n",
       "      <td>-0.010958</td>\n",
       "      <td>0.077176</td>\n",
       "      <td>-0.014395</td>\n",
       "      <td>-0.071173</td>\n",
       "    </tr>\n",
       "    <tr>\n",
       "      <th>v198</th>\n",
       "      <td>NaN</td>\n",
       "      <td>NaN</td>\n",
       "      <td>NaN</td>\n",
       "      <td>NaN</td>\n",
       "      <td>NaN</td>\n",
       "      <td>NaN</td>\n",
       "      <td>NaN</td>\n",
       "      <td>NaN</td>\n",
       "      <td>NaN</td>\n",
       "      <td>NaN</td>\n",
       "      <td>...</td>\n",
       "      <td>NaN</td>\n",
       "      <td>NaN</td>\n",
       "      <td>NaN</td>\n",
       "      <td>NaN</td>\n",
       "      <td>NaN</td>\n",
       "      <td>NaN</td>\n",
       "      <td>NaN</td>\n",
       "      <td>NaN</td>\n",
       "      <td>NaN</td>\n",
       "      <td>NaN</td>\n",
       "    </tr>\n",
       "    <tr>\n",
       "      <th>v200</th>\n",
       "      <td>0.029653</td>\n",
       "      <td>0.030867</td>\n",
       "      <td>0.000895</td>\n",
       "      <td>-0.013900</td>\n",
       "      <td>0.011399</td>\n",
       "      <td>-0.011734</td>\n",
       "      <td>0.000951</td>\n",
       "      <td>0.007363</td>\n",
       "      <td>0.009828</td>\n",
       "      <td>0.008125</td>\n",
       "      <td>...</td>\n",
       "      <td>0.028754</td>\n",
       "      <td>0.032062</td>\n",
       "      <td>0.029781</td>\n",
       "      <td>0.014407</td>\n",
       "      <td>-0.099252</td>\n",
       "      <td>0.005975</td>\n",
       "      <td>0.005975</td>\n",
       "      <td>-0.042078</td>\n",
       "      <td>0.007848</td>\n",
       "      <td>0.038805</td>\n",
       "    </tr>\n",
       "    <tr>\n",
       "      <th>v178_Certified</th>\n",
       "      <td>-0.024196</td>\n",
       "      <td>0.020057</td>\n",
       "      <td>0.001343</td>\n",
       "      <td>-0.007672</td>\n",
       "      <td>0.023338</td>\n",
       "      <td>-0.007340</td>\n",
       "      <td>-0.024240</td>\n",
       "      <td>-0.011752</td>\n",
       "      <td>-0.014852</td>\n",
       "      <td>-0.085115</td>\n",
       "      <td>...</td>\n",
       "      <td>-0.023462</td>\n",
       "      <td>-0.026161</td>\n",
       "      <td>-0.024300</td>\n",
       "      <td>-0.011756</td>\n",
       "      <td>-0.032072</td>\n",
       "      <td>0.263955</td>\n",
       "      <td>0.263955</td>\n",
       "      <td>-0.075650</td>\n",
       "      <td>-0.006404</td>\n",
       "      <td>-0.031664</td>\n",
       "    </tr>\n",
       "    <tr>\n",
       "      <th>v178_EmailInexistent</th>\n",
       "      <td>0.012306</td>\n",
       "      <td>0.005338</td>\n",
       "      <td>0.012175</td>\n",
       "      <td>-0.018744</td>\n",
       "      <td>-0.036280</td>\n",
       "      <td>-0.018398</td>\n",
       "      <td>-0.034325</td>\n",
       "      <td>-0.019692</td>\n",
       "      <td>-0.013774</td>\n",
       "      <td>0.039195</td>\n",
       "      <td>...</td>\n",
       "      <td>0.061771</td>\n",
       "      <td>-0.037046</td>\n",
       "      <td>0.012032</td>\n",
       "      <td>0.065733</td>\n",
       "      <td>-0.045416</td>\n",
       "      <td>-0.006903</td>\n",
       "      <td>-0.006903</td>\n",
       "      <td>0.048620</td>\n",
       "      <td>-0.009068</td>\n",
       "      <td>-0.044837</td>\n",
       "    </tr>\n",
       "    <tr>\n",
       "      <th>v178_ValidDomain</th>\n",
       "      <td>0.021854</td>\n",
       "      <td>-0.012438</td>\n",
       "      <td>0.045308</td>\n",
       "      <td>0.043204</td>\n",
       "      <td>0.042259</td>\n",
       "      <td>0.045596</td>\n",
       "      <td>0.038166</td>\n",
       "      <td>-0.009455</td>\n",
       "      <td>-0.007618</td>\n",
       "      <td>0.081651</td>\n",
       "      <td>...</td>\n",
       "      <td>0.092262</td>\n",
       "      <td>-0.007678</td>\n",
       "      <td>0.005244</td>\n",
       "      <td>0.089239</td>\n",
       "      <td>-0.139178</td>\n",
       "      <td>-0.021156</td>\n",
       "      <td>-0.021156</td>\n",
       "      <td>0.148996</td>\n",
       "      <td>-0.027790</td>\n",
       "      <td>-0.137405</td>\n",
       "    </tr>\n",
       "    <tr>\n",
       "      <th>v178_Verified</th>\n",
       "      <td>-0.019354</td>\n",
       "      <td>-0.055177</td>\n",
       "      <td>-0.059419</td>\n",
       "      <td>-0.074205</td>\n",
       "      <td>-0.091117</td>\n",
       "      <td>-0.066806</td>\n",
       "      <td>0.001096</td>\n",
       "      <td>-0.130327</td>\n",
       "      <td>-0.056529</td>\n",
       "      <td>-0.091060</td>\n",
       "      <td>...</td>\n",
       "      <td>0.223900</td>\n",
       "      <td>0.315263</td>\n",
       "      <td>0.280222</td>\n",
       "      <td>0.087643</td>\n",
       "      <td>-0.866443</td>\n",
       "      <td>0.038576</td>\n",
       "      <td>0.038576</td>\n",
       "      <td>0.811306</td>\n",
       "      <td>0.088766</td>\n",
       "      <td>-0.879486</td>\n",
       "    </tr>\n",
       "    <tr>\n",
       "      <th>v178_nan</th>\n",
       "      <td>0.010840</td>\n",
       "      <td>0.060728</td>\n",
       "      <td>0.039053</td>\n",
       "      <td>0.061561</td>\n",
       "      <td>0.079078</td>\n",
       "      <td>0.052564</td>\n",
       "      <td>-0.010858</td>\n",
       "      <td>0.145945</td>\n",
       "      <td>0.066902</td>\n",
       "      <td>0.060699</td>\n",
       "      <td>...</td>\n",
       "      <td>-0.286015</td>\n",
       "      <td>-0.318922</td>\n",
       "      <td>-0.296234</td>\n",
       "      <td>-0.143308</td>\n",
       "      <td>0.987261</td>\n",
       "      <td>-0.059431</td>\n",
       "      <td>-0.059431</td>\n",
       "      <td>-0.922211</td>\n",
       "      <td>-0.078068</td>\n",
       "      <td>1.000000</td>\n",
       "    </tr>\n",
       "    <tr>\n",
       "      <th>...</th>\n",
       "      <td>...</td>\n",
       "      <td>...</td>\n",
       "      <td>...</td>\n",
       "      <td>...</td>\n",
       "      <td>...</td>\n",
       "      <td>...</td>\n",
       "      <td>...</td>\n",
       "      <td>...</td>\n",
       "      <td>...</td>\n",
       "      <td>...</td>\n",
       "      <td>...</td>\n",
       "      <td>...</td>\n",
       "      <td>...</td>\n",
       "      <td>...</td>\n",
       "      <td>...</td>\n",
       "      <td>...</td>\n",
       "      <td>...</td>\n",
       "      <td>...</td>\n",
       "      <td>...</td>\n",
       "      <td>...</td>\n",
       "      <td>...</td>\n",
       "    </tr>\n",
       "    <tr>\n",
       "      <th>v193_nan</th>\n",
       "      <td>0.010840</td>\n",
       "      <td>0.060728</td>\n",
       "      <td>0.039053</td>\n",
       "      <td>0.061561</td>\n",
       "      <td>0.079078</td>\n",
       "      <td>0.052564</td>\n",
       "      <td>-0.010858</td>\n",
       "      <td>0.145945</td>\n",
       "      <td>0.066902</td>\n",
       "      <td>0.060699</td>\n",
       "      <td>...</td>\n",
       "      <td>-0.286015</td>\n",
       "      <td>-0.318922</td>\n",
       "      <td>-0.296234</td>\n",
       "      <td>-0.143308</td>\n",
       "      <td>0.987261</td>\n",
       "      <td>-0.059431</td>\n",
       "      <td>-0.059431</td>\n",
       "      <td>-0.922211</td>\n",
       "      <td>-0.078068</td>\n",
       "      <td>1.000000</td>\n",
       "    </tr>\n",
       "    <tr>\n",
       "      <th>v194_Yes</th>\n",
       "      <td>-0.010840</td>\n",
       "      <td>-0.060728</td>\n",
       "      <td>-0.039053</td>\n",
       "      <td>-0.061561</td>\n",
       "      <td>-0.079078</td>\n",
       "      <td>-0.052564</td>\n",
       "      <td>0.010858</td>\n",
       "      <td>-0.145945</td>\n",
       "      <td>-0.066902</td>\n",
       "      <td>-0.060699</td>\n",
       "      <td>...</td>\n",
       "      <td>0.286015</td>\n",
       "      <td>0.318922</td>\n",
       "      <td>0.296234</td>\n",
       "      <td>0.143308</td>\n",
       "      <td>-0.987261</td>\n",
       "      <td>0.059431</td>\n",
       "      <td>0.059431</td>\n",
       "      <td>0.922211</td>\n",
       "      <td>0.078068</td>\n",
       "      <td>-1.000000</td>\n",
       "    </tr>\n",
       "    <tr>\n",
       "      <th>v194_nan</th>\n",
       "      <td>0.010840</td>\n",
       "      <td>0.060728</td>\n",
       "      <td>0.039053</td>\n",
       "      <td>0.061561</td>\n",
       "      <td>0.079078</td>\n",
       "      <td>0.052564</td>\n",
       "      <td>-0.010858</td>\n",
       "      <td>0.145945</td>\n",
       "      <td>0.066902</td>\n",
       "      <td>0.060699</td>\n",
       "      <td>...</td>\n",
       "      <td>-0.286015</td>\n",
       "      <td>-0.318922</td>\n",
       "      <td>-0.296234</td>\n",
       "      <td>-0.143308</td>\n",
       "      <td>0.987261</td>\n",
       "      <td>-0.059431</td>\n",
       "      <td>-0.059431</td>\n",
       "      <td>-0.922211</td>\n",
       "      <td>-0.078068</td>\n",
       "      <td>1.000000</td>\n",
       "    </tr>\n",
       "    <tr>\n",
       "      <th>v195_Low</th>\n",
       "      <td>0.034318</td>\n",
       "      <td>-0.003731</td>\n",
       "      <td>-0.003506</td>\n",
       "      <td>0.004440</td>\n",
       "      <td>0.008439</td>\n",
       "      <td>0.003290</td>\n",
       "      <td>0.002975</td>\n",
       "      <td>-0.014796</td>\n",
       "      <td>-0.011881</td>\n",
       "      <td>0.229137</td>\n",
       "      <td>...</td>\n",
       "      <td>0.037737</td>\n",
       "      <td>-0.002411</td>\n",
       "      <td>0.063331</td>\n",
       "      <td>-0.026424</td>\n",
       "      <td>-0.072091</td>\n",
       "      <td>-0.010958</td>\n",
       "      <td>-0.010958</td>\n",
       "      <td>0.077176</td>\n",
       "      <td>-0.014395</td>\n",
       "      <td>-0.071173</td>\n",
       "    </tr>\n",
       "    <tr>\n",
       "      <th>v195_Moderate</th>\n",
       "      <td>-0.019232</td>\n",
       "      <td>-0.058975</td>\n",
       "      <td>-0.037650</td>\n",
       "      <td>-0.061829</td>\n",
       "      <td>-0.080104</td>\n",
       "      <td>-0.052669</td>\n",
       "      <td>0.009971</td>\n",
       "      <td>-0.140282</td>\n",
       "      <td>-0.063038</td>\n",
       "      <td>-0.116889</td>\n",
       "      <td>...</td>\n",
       "      <td>0.272741</td>\n",
       "      <td>0.315191</td>\n",
       "      <td>0.276453</td>\n",
       "      <td>0.147937</td>\n",
       "      <td>-0.955916</td>\n",
       "      <td>0.061350</td>\n",
       "      <td>0.061350</td>\n",
       "      <td>0.890484</td>\n",
       "      <td>0.080590</td>\n",
       "      <td>-0.968711</td>\n",
       "    </tr>\n",
       "    <tr>\n",
       "      <th>v195_nan</th>\n",
       "      <td>0.010840</td>\n",
       "      <td>0.060728</td>\n",
       "      <td>0.039053</td>\n",
       "      <td>0.061561</td>\n",
       "      <td>0.079078</td>\n",
       "      <td>0.052564</td>\n",
       "      <td>-0.010858</td>\n",
       "      <td>0.145945</td>\n",
       "      <td>0.066902</td>\n",
       "      <td>0.060699</td>\n",
       "      <td>...</td>\n",
       "      <td>-0.286015</td>\n",
       "      <td>-0.318922</td>\n",
       "      <td>-0.296234</td>\n",
       "      <td>-0.143308</td>\n",
       "      <td>0.987261</td>\n",
       "      <td>-0.059431</td>\n",
       "      <td>-0.059431</td>\n",
       "      <td>-0.922211</td>\n",
       "      <td>-0.078068</td>\n",
       "      <td>1.000000</td>\n",
       "    </tr>\n",
       "    <tr>\n",
       "      <th>v199_Moderate</th>\n",
       "      <td>-0.010840</td>\n",
       "      <td>-0.060728</td>\n",
       "      <td>-0.039053</td>\n",
       "      <td>-0.061561</td>\n",
       "      <td>-0.079078</td>\n",
       "      <td>-0.052564</td>\n",
       "      <td>0.010858</td>\n",
       "      <td>-0.145945</td>\n",
       "      <td>-0.066902</td>\n",
       "      <td>-0.060699</td>\n",
       "      <td>...</td>\n",
       "      <td>0.286015</td>\n",
       "      <td>0.318922</td>\n",
       "      <td>0.296234</td>\n",
       "      <td>0.143308</td>\n",
       "      <td>-0.987261</td>\n",
       "      <td>0.059431</td>\n",
       "      <td>0.059431</td>\n",
       "      <td>0.922211</td>\n",
       "      <td>0.078068</td>\n",
       "      <td>-1.000000</td>\n",
       "    </tr>\n",
       "    <tr>\n",
       "      <th>v199_nan</th>\n",
       "      <td>0.010840</td>\n",
       "      <td>0.060728</td>\n",
       "      <td>0.039053</td>\n",
       "      <td>0.061561</td>\n",
       "      <td>0.079078</td>\n",
       "      <td>0.052564</td>\n",
       "      <td>-0.010858</td>\n",
       "      <td>0.145945</td>\n",
       "      <td>0.066902</td>\n",
       "      <td>0.060699</td>\n",
       "      <td>...</td>\n",
       "      <td>-0.286015</td>\n",
       "      <td>-0.318922</td>\n",
       "      <td>-0.296234</td>\n",
       "      <td>-0.143308</td>\n",
       "      <td>0.987261</td>\n",
       "      <td>-0.059431</td>\n",
       "      <td>-0.059431</td>\n",
       "      <td>-0.922211</td>\n",
       "      <td>-0.078068</td>\n",
       "      <td>1.000000</td>\n",
       "    </tr>\n",
       "    <tr>\n",
       "      <th>v201_Moderate By Proxy Reputation And Country Code</th>\n",
       "      <td>0.005017</td>\n",
       "      <td>-0.042998</td>\n",
       "      <td>-0.071517</td>\n",
       "      <td>-0.061615</td>\n",
       "      <td>-0.074577</td>\n",
       "      <td>-0.052634</td>\n",
       "      <td>-0.010972</td>\n",
       "      <td>-0.124272</td>\n",
       "      <td>-0.061635</td>\n",
       "      <td>-0.059972</td>\n",
       "      <td>...</td>\n",
       "      <td>0.253272</td>\n",
       "      <td>0.347911</td>\n",
       "      <td>0.222648</td>\n",
       "      <td>0.118130</td>\n",
       "      <td>-0.922318</td>\n",
       "      <td>0.035408</td>\n",
       "      <td>0.064833</td>\n",
       "      <td>0.843522</td>\n",
       "      <td>0.085165</td>\n",
       "      <td>-0.916677</td>\n",
       "    </tr>\n",
       "    <tr>\n",
       "      <th>v201_Moderate Risk</th>\n",
       "      <td>-0.029653</td>\n",
       "      <td>-0.030867</td>\n",
       "      <td>-0.000895</td>\n",
       "      <td>0.013900</td>\n",
       "      <td>-0.011399</td>\n",
       "      <td>0.011734</td>\n",
       "      <td>-0.000951</td>\n",
       "      <td>-0.007363</td>\n",
       "      <td>-0.009828</td>\n",
       "      <td>-0.008125</td>\n",
       "      <td>...</td>\n",
       "      <td>-0.028754</td>\n",
       "      <td>-0.032062</td>\n",
       "      <td>-0.029781</td>\n",
       "      <td>-0.014407</td>\n",
       "      <td>0.099252</td>\n",
       "      <td>-0.005975</td>\n",
       "      <td>-0.005975</td>\n",
       "      <td>0.042078</td>\n",
       "      <td>-0.007848</td>\n",
       "      <td>-0.038805</td>\n",
       "    </tr>\n",
       "    <tr>\n",
       "      <th>v201_Moderate+By+Proxy+Reputation+And+Country+Code</th>\n",
       "      <td>-0.030191</td>\n",
       "      <td>-0.030123</td>\n",
       "      <td>0.089054</td>\n",
       "      <td>0.000878</td>\n",
       "      <td>-0.000583</td>\n",
       "      <td>0.000859</td>\n",
       "      <td>0.056616</td>\n",
       "      <td>-0.040948</td>\n",
       "      <td>-0.004257</td>\n",
       "      <td>0.006491</td>\n",
       "      <td>...</td>\n",
       "      <td>0.069895</td>\n",
       "      <td>-0.093908</td>\n",
       "      <td>0.176480</td>\n",
       "      <td>0.058038</td>\n",
       "      <td>-0.115125</td>\n",
       "      <td>0.059699</td>\n",
       "      <td>-0.017500</td>\n",
       "      <td>0.107454</td>\n",
       "      <td>-0.022988</td>\n",
       "      <td>-0.113658</td>\n",
       "    </tr>\n",
       "    <tr>\n",
       "      <th>v201_nan</th>\n",
       "      <td>0.010840</td>\n",
       "      <td>0.060728</td>\n",
       "      <td>0.039053</td>\n",
       "      <td>0.061561</td>\n",
       "      <td>0.079078</td>\n",
       "      <td>0.052564</td>\n",
       "      <td>-0.010858</td>\n",
       "      <td>0.145945</td>\n",
       "      <td>0.066902</td>\n",
       "      <td>0.060699</td>\n",
       "      <td>...</td>\n",
       "      <td>-0.286015</td>\n",
       "      <td>-0.318922</td>\n",
       "      <td>-0.296234</td>\n",
       "      <td>-0.143308</td>\n",
       "      <td>0.987261</td>\n",
       "      <td>-0.059431</td>\n",
       "      <td>-0.059431</td>\n",
       "      <td>-0.922211</td>\n",
       "      <td>-0.078068</td>\n",
       "      <td>1.000000</td>\n",
       "    </tr>\n",
       "    <tr>\n",
       "      <th>v202_Good</th>\n",
       "      <td>-0.010840</td>\n",
       "      <td>-0.060728</td>\n",
       "      <td>-0.039053</td>\n",
       "      <td>-0.061561</td>\n",
       "      <td>-0.079078</td>\n",
       "      <td>-0.052564</td>\n",
       "      <td>0.010858</td>\n",
       "      <td>-0.145945</td>\n",
       "      <td>-0.066902</td>\n",
       "      <td>-0.060699</td>\n",
       "      <td>...</td>\n",
       "      <td>0.286015</td>\n",
       "      <td>0.318922</td>\n",
       "      <td>0.296234</td>\n",
       "      <td>0.143308</td>\n",
       "      <td>-0.987261</td>\n",
       "      <td>0.059431</td>\n",
       "      <td>0.059431</td>\n",
       "      <td>0.922211</td>\n",
       "      <td>0.078068</td>\n",
       "      <td>-1.000000</td>\n",
       "    </tr>\n",
       "    <tr>\n",
       "      <th>v202_nan</th>\n",
       "      <td>0.010840</td>\n",
       "      <td>0.060728</td>\n",
       "      <td>0.039053</td>\n",
       "      <td>0.061561</td>\n",
       "      <td>0.079078</td>\n",
       "      <td>0.052564</td>\n",
       "      <td>-0.010858</td>\n",
       "      <td>0.145945</td>\n",
       "      <td>0.066902</td>\n",
       "      <td>0.060699</td>\n",
       "      <td>...</td>\n",
       "      <td>-0.286015</td>\n",
       "      <td>-0.318922</td>\n",
       "      <td>-0.296234</td>\n",
       "      <td>-0.143308</td>\n",
       "      <td>0.987261</td>\n",
       "      <td>-0.059431</td>\n",
       "      <td>-0.059431</td>\n",
       "      <td>-0.922211</td>\n",
       "      <td>-0.078068</td>\n",
       "      <td>1.000000</td>\n",
       "    </tr>\n",
       "    <tr>\n",
       "      <th>v203_No</th>\n",
       "      <td>-0.010840</td>\n",
       "      <td>-0.060728</td>\n",
       "      <td>-0.039053</td>\n",
       "      <td>-0.061561</td>\n",
       "      <td>-0.079078</td>\n",
       "      <td>-0.052564</td>\n",
       "      <td>0.010858</td>\n",
       "      <td>-0.145945</td>\n",
       "      <td>-0.066902</td>\n",
       "      <td>-0.060699</td>\n",
       "      <td>...</td>\n",
       "      <td>0.286015</td>\n",
       "      <td>0.318922</td>\n",
       "      <td>0.296234</td>\n",
       "      <td>0.143308</td>\n",
       "      <td>-0.987261</td>\n",
       "      <td>0.059431</td>\n",
       "      <td>0.059431</td>\n",
       "      <td>0.922211</td>\n",
       "      <td>0.078068</td>\n",
       "      <td>-1.000000</td>\n",
       "    </tr>\n",
       "    <tr>\n",
       "      <th>v203_nan</th>\n",
       "      <td>0.010840</td>\n",
       "      <td>0.060728</td>\n",
       "      <td>0.039053</td>\n",
       "      <td>0.061561</td>\n",
       "      <td>0.079078</td>\n",
       "      <td>0.052564</td>\n",
       "      <td>-0.010858</td>\n",
       "      <td>0.145945</td>\n",
       "      <td>0.066902</td>\n",
       "      <td>0.060699</td>\n",
       "      <td>...</td>\n",
       "      <td>-0.286015</td>\n",
       "      <td>-0.318922</td>\n",
       "      <td>-0.296234</td>\n",
       "      <td>-0.143308</td>\n",
       "      <td>0.987261</td>\n",
       "      <td>-0.059431</td>\n",
       "      <td>-0.059431</td>\n",
       "      <td>-0.922211</td>\n",
       "      <td>-0.078068</td>\n",
       "      <td>1.000000</td>\n",
       "    </tr>\n",
       "    <tr>\n",
       "      <th>v204_business</th>\n",
       "      <td>0.105443</td>\n",
       "      <td>0.028402</td>\n",
       "      <td>0.018046</td>\n",
       "      <td>-0.015789</td>\n",
       "      <td>0.015715</td>\n",
       "      <td>-0.015172</td>\n",
       "      <td>-0.038260</td>\n",
       "      <td>-0.007491</td>\n",
       "      <td>-0.013774</td>\n",
       "      <td>0.037171</td>\n",
       "      <td>...</td>\n",
       "      <td>-0.033224</td>\n",
       "      <td>-0.037046</td>\n",
       "      <td>-0.034411</td>\n",
       "      <td>-0.016647</td>\n",
       "      <td>-0.045416</td>\n",
       "      <td>-0.006903</td>\n",
       "      <td>-0.006903</td>\n",
       "      <td>0.048620</td>\n",
       "      <td>-0.009068</td>\n",
       "      <td>-0.044837</td>\n",
       "    </tr>\n",
       "    <tr>\n",
       "      <th>v204_cellular</th>\n",
       "      <td>0.097367</td>\n",
       "      <td>-0.031968</td>\n",
       "      <td>-0.139309</td>\n",
       "      <td>-0.051358</td>\n",
       "      <td>-0.044091</td>\n",
       "      <td>-0.052360</td>\n",
       "      <td>-0.120952</td>\n",
       "      <td>-0.033863</td>\n",
       "      <td>-0.031032</td>\n",
       "      <td>-0.070660</td>\n",
       "      <td>...</td>\n",
       "      <td>-0.144226</td>\n",
       "      <td>-0.160820</td>\n",
       "      <td>-0.149379</td>\n",
       "      <td>-0.072265</td>\n",
       "      <td>-0.197154</td>\n",
       "      <td>0.065831</td>\n",
       "      <td>0.065831</td>\n",
       "      <td>0.152270</td>\n",
       "      <td>0.034042</td>\n",
       "      <td>-0.194643</td>\n",
       "    </tr>\n",
       "    <tr>\n",
       "      <th>v204_college</th>\n",
       "      <td>-0.017098</td>\n",
       "      <td>0.010337</td>\n",
       "      <td>0.093237</td>\n",
       "      <td>-0.019185</td>\n",
       "      <td>-0.018105</td>\n",
       "      <td>-0.020001</td>\n",
       "      <td>-0.027601</td>\n",
       "      <td>-0.014393</td>\n",
       "      <td>-0.005667</td>\n",
       "      <td>0.003519</td>\n",
       "      <td>...</td>\n",
       "      <td>-0.016579</td>\n",
       "      <td>-0.018487</td>\n",
       "      <td>-0.017172</td>\n",
       "      <td>-0.008307</td>\n",
       "      <td>-0.022664</td>\n",
       "      <td>-0.003445</td>\n",
       "      <td>-0.003445</td>\n",
       "      <td>0.024262</td>\n",
       "      <td>-0.004525</td>\n",
       "      <td>-0.022375</td>\n",
       "    </tr>\n",
       "    <tr>\n",
       "      <th>v204_dialup</th>\n",
       "      <td>-0.017098</td>\n",
       "      <td>-0.005009</td>\n",
       "      <td>-0.015165</td>\n",
       "      <td>0.020140</td>\n",
       "      <td>0.016491</td>\n",
       "      <td>0.021903</td>\n",
       "      <td>-0.022365</td>\n",
       "      <td>-0.014393</td>\n",
       "      <td>-0.005667</td>\n",
       "      <td>0.055606</td>\n",
       "      <td>...</td>\n",
       "      <td>-0.016579</td>\n",
       "      <td>-0.018487</td>\n",
       "      <td>-0.017172</td>\n",
       "      <td>-0.008307</td>\n",
       "      <td>-0.022664</td>\n",
       "      <td>-0.003445</td>\n",
       "      <td>-0.003445</td>\n",
       "      <td>0.024262</td>\n",
       "      <td>-0.004525</td>\n",
       "      <td>-0.022375</td>\n",
       "    </tr>\n",
       "    <tr>\n",
       "      <th>v204_mobile</th>\n",
       "      <td>-0.024923</td>\n",
       "      <td>0.021698</td>\n",
       "      <td>-0.010204</td>\n",
       "      <td>0.016620</td>\n",
       "      <td>0.017533</td>\n",
       "      <td>0.019737</td>\n",
       "      <td>0.033399</td>\n",
       "      <td>-0.030635</td>\n",
       "      <td>0.003460</td>\n",
       "      <td>0.017673</td>\n",
       "      <td>...</td>\n",
       "      <td>1.000000</td>\n",
       "      <td>-0.236314</td>\n",
       "      <td>-0.219503</td>\n",
       "      <td>-0.106188</td>\n",
       "      <td>-0.289705</td>\n",
       "      <td>-0.008062</td>\n",
       "      <td>-0.008062</td>\n",
       "      <td>0.280704</td>\n",
       "      <td>-0.002714</td>\n",
       "      <td>-0.286015</td>\n",
       "    </tr>\n",
       "    <tr>\n",
       "      <th>v204_residential</th>\n",
       "      <td>0.077241</td>\n",
       "      <td>0.017588</td>\n",
       "      <td>-0.090875</td>\n",
       "      <td>-0.061750</td>\n",
       "      <td>-0.120228</td>\n",
       "      <td>-0.059451</td>\n",
       "      <td>-0.048993</td>\n",
       "      <td>-0.050454</td>\n",
       "      <td>-0.049136</td>\n",
       "      <td>-0.099213</td>\n",
       "      <td>...</td>\n",
       "      <td>-0.236314</td>\n",
       "      <td>1.000000</td>\n",
       "      <td>-0.244757</td>\n",
       "      <td>-0.118406</td>\n",
       "      <td>-0.323037</td>\n",
       "      <td>-0.015467</td>\n",
       "      <td>0.051805</td>\n",
       "      <td>0.290778</td>\n",
       "      <td>0.038595</td>\n",
       "      <td>-0.318922</td>\n",
       "    </tr>\n",
       "    <tr>\n",
       "      <th>v204_wifi</th>\n",
       "      <td>-0.148913</td>\n",
       "      <td>-0.037195</td>\n",
       "      <td>0.104379</td>\n",
       "      <td>0.043348</td>\n",
       "      <td>0.070998</td>\n",
       "      <td>0.048794</td>\n",
       "      <td>0.101896</td>\n",
       "      <td>-0.033850</td>\n",
       "      <td>0.017068</td>\n",
       "      <td>0.031243</td>\n",
       "      <td>...</td>\n",
       "      <td>-0.219503</td>\n",
       "      <td>-0.244757</td>\n",
       "      <td>1.000000</td>\n",
       "      <td>-0.109982</td>\n",
       "      <td>-0.300056</td>\n",
       "      <td>0.059917</td>\n",
       "      <td>-0.045610</td>\n",
       "      <td>0.270852</td>\n",
       "      <td>0.047903</td>\n",
       "      <td>-0.296234</td>\n",
       "    </tr>\n",
       "    <tr>\n",
       "      <th>v204_wired</th>\n",
       "      <td>-0.002650</td>\n",
       "      <td>-0.082489</td>\n",
       "      <td>0.067423</td>\n",
       "      <td>-0.044838</td>\n",
       "      <td>-0.036415</td>\n",
       "      <td>-0.043985</td>\n",
       "      <td>0.056682</td>\n",
       "      <td>-0.037192</td>\n",
       "      <td>-0.029950</td>\n",
       "      <td>0.045614</td>\n",
       "      <td>...</td>\n",
       "      <td>-0.106188</td>\n",
       "      <td>-0.118406</td>\n",
       "      <td>-0.109982</td>\n",
       "      <td>1.000000</td>\n",
       "      <td>-0.145158</td>\n",
       "      <td>-0.022065</td>\n",
       "      <td>0.040331</td>\n",
       "      <td>0.142633</td>\n",
       "      <td>-0.028984</td>\n",
       "      <td>-0.143308</td>\n",
       "    </tr>\n",
       "    <tr>\n",
       "      <th>v204_nan</th>\n",
       "      <td>0.005322</td>\n",
       "      <td>0.053279</td>\n",
       "      <td>0.046851</td>\n",
       "      <td>0.061015</td>\n",
       "      <td>0.075617</td>\n",
       "      <td>0.051670</td>\n",
       "      <td>-0.012713</td>\n",
       "      <td>0.143450</td>\n",
       "      <td>0.063949</td>\n",
       "      <td>0.059518</td>\n",
       "      <td>...</td>\n",
       "      <td>-0.289705</td>\n",
       "      <td>-0.323037</td>\n",
       "      <td>-0.300056</td>\n",
       "      <td>-0.145158</td>\n",
       "      <td>1.000000</td>\n",
       "      <td>-0.060197</td>\n",
       "      <td>-0.060197</td>\n",
       "      <td>-0.909306</td>\n",
       "      <td>-0.079076</td>\n",
       "      <td>0.987261</td>\n",
       "    </tr>\n",
       "    <tr>\n",
       "      <th>v172.1_N</th>\n",
       "      <td>-0.045414</td>\n",
       "      <td>0.018721</td>\n",
       "      <td>-0.035833</td>\n",
       "      <td>-0.023792</td>\n",
       "      <td>-0.008706</td>\n",
       "      <td>-0.023801</td>\n",
       "      <td>-0.013708</td>\n",
       "      <td>-0.024368</td>\n",
       "      <td>-0.018716</td>\n",
       "      <td>-0.074746</td>\n",
       "      <td>...</td>\n",
       "      <td>-0.008062</td>\n",
       "      <td>-0.015467</td>\n",
       "      <td>0.059917</td>\n",
       "      <td>-0.022065</td>\n",
       "      <td>-0.060197</td>\n",
       "      <td>1.000000</td>\n",
       "      <td>-0.009150</td>\n",
       "      <td>-0.141990</td>\n",
       "      <td>-0.012020</td>\n",
       "      <td>-0.059431</td>\n",
       "    </tr>\n",
       "    <tr>\n",
       "      <th>v172.1_P</th>\n",
       "      <td>-0.010143</td>\n",
       "      <td>0.039101</td>\n",
       "      <td>-0.040280</td>\n",
       "      <td>-0.031783</td>\n",
       "      <td>-0.048088</td>\n",
       "      <td>-0.032463</td>\n",
       "      <td>-0.061391</td>\n",
       "      <td>-0.015127</td>\n",
       "      <td>-0.016883</td>\n",
       "      <td>-0.059899</td>\n",
       "      <td>...</td>\n",
       "      <td>-0.008062</td>\n",
       "      <td>0.051805</td>\n",
       "      <td>-0.045610</td>\n",
       "      <td>0.040331</td>\n",
       "      <td>-0.060197</td>\n",
       "      <td>-0.009150</td>\n",
       "      <td>1.000000</td>\n",
       "      <td>-0.141990</td>\n",
       "      <td>-0.012020</td>\n",
       "      <td>-0.059431</td>\n",
       "    </tr>\n",
       "    <tr>\n",
       "      <th>v172.1_U</th>\n",
       "      <td>0.009589</td>\n",
       "      <td>-0.055188</td>\n",
       "      <td>-0.022865</td>\n",
       "      <td>-0.048033</td>\n",
       "      <td>-0.061443</td>\n",
       "      <td>-0.039713</td>\n",
       "      <td>0.019671</td>\n",
       "      <td>-0.134820</td>\n",
       "      <td>-0.055532</td>\n",
       "      <td>-0.015655</td>\n",
       "      <td>...</td>\n",
       "      <td>0.280704</td>\n",
       "      <td>0.290778</td>\n",
       "      <td>0.270852</td>\n",
       "      <td>0.142633</td>\n",
       "      <td>-0.909306</td>\n",
       "      <td>-0.141990</td>\n",
       "      <td>-0.141990</td>\n",
       "      <td>1.000000</td>\n",
       "      <td>-0.186519</td>\n",
       "      <td>-0.922211</td>\n",
       "    </tr>\n",
       "    <tr>\n",
       "      <th>v172.1_Y</th>\n",
       "      <td>-0.032629</td>\n",
       "      <td>-0.057636</td>\n",
       "      <td>0.002458</td>\n",
       "      <td>-0.000563</td>\n",
       "      <td>-0.012874</td>\n",
       "      <td>0.001402</td>\n",
       "      <td>0.023207</td>\n",
       "      <td>0.006430</td>\n",
       "      <td>-0.007136</td>\n",
       "      <td>-0.058134</td>\n",
       "      <td>...</td>\n",
       "      <td>-0.002714</td>\n",
       "      <td>0.038595</td>\n",
       "      <td>0.047903</td>\n",
       "      <td>-0.028984</td>\n",
       "      <td>-0.079076</td>\n",
       "      <td>-0.012020</td>\n",
       "      <td>-0.012020</td>\n",
       "      <td>-0.186519</td>\n",
       "      <td>1.000000</td>\n",
       "      <td>-0.078068</td>\n",
       "    </tr>\n",
       "    <tr>\n",
       "      <th>v172.1_nan</th>\n",
       "      <td>0.010840</td>\n",
       "      <td>0.060728</td>\n",
       "      <td>0.039053</td>\n",
       "      <td>0.061561</td>\n",
       "      <td>0.079078</td>\n",
       "      <td>0.052564</td>\n",
       "      <td>-0.010858</td>\n",
       "      <td>0.145945</td>\n",
       "      <td>0.066902</td>\n",
       "      <td>0.060699</td>\n",
       "      <td>...</td>\n",
       "      <td>-0.286015</td>\n",
       "      <td>-0.318922</td>\n",
       "      <td>-0.296234</td>\n",
       "      <td>-0.143308</td>\n",
       "      <td>0.987261</td>\n",
       "      <td>-0.059431</td>\n",
       "      <td>-0.059431</td>\n",
       "      <td>-0.922211</td>\n",
       "      <td>-0.078068</td>\n",
       "      <td>1.000000</td>\n",
       "    </tr>\n",
       "  </tbody>\n",
       "</table>\n",
       "<p>77 rows × 77 columns</p>\n",
       "</div>"
      ],
      "text/plain": [
       "                                                    response      v001  \\\n",
       "response                                            1.000000  0.016594   \n",
       "v001                                                0.016594  1.000000   \n",
       "v002                                               -0.072353 -0.028172   \n",
       "v4                                                 -0.007668  0.026159   \n",
       "v5                                                 -0.013845  0.042749   \n",
       "v14                                                -0.017492  0.026423   \n",
       "v29                                                -0.172579 -0.042262   \n",
       "v120                                                0.051613  0.062640   \n",
       "v123                                                0.001951  0.065808   \n",
       "v173                                                0.042317 -0.023079   \n",
       "v174                                               -0.044762  0.023308   \n",
       "v175                                                0.016363  0.001833   \n",
       "v176                                               -0.019849 -0.002542   \n",
       "v177                                                0.048428 -0.002857   \n",
       "v180                                                0.022540  0.034855   \n",
       "v181                                                0.026332 -0.013670   \n",
       "v182                                                0.066963  0.027891   \n",
       "v183                                                0.021228  0.031512   \n",
       "v185                                                0.018609  0.032782   \n",
       "v191                                                0.194025 -0.026984   \n",
       "v192                                                0.194025 -0.026984   \n",
       "v196                                                0.034318 -0.003731   \n",
       "v197                                                0.034318 -0.003731   \n",
       "v198                                                     NaN       NaN   \n",
       "v200                                                0.029653  0.030867   \n",
       "v178_Certified                                     -0.024196  0.020057   \n",
       "v178_EmailInexistent                                0.012306  0.005338   \n",
       "v178_ValidDomain                                    0.021854 -0.012438   \n",
       "v178_Verified                                      -0.019354 -0.055177   \n",
       "v178_nan                                            0.010840  0.060728   \n",
       "...                                                      ...       ...   \n",
       "v193_nan                                            0.010840  0.060728   \n",
       "v194_Yes                                           -0.010840 -0.060728   \n",
       "v194_nan                                            0.010840  0.060728   \n",
       "v195_Low                                            0.034318 -0.003731   \n",
       "v195_Moderate                                      -0.019232 -0.058975   \n",
       "v195_nan                                            0.010840  0.060728   \n",
       "v199_Moderate                                      -0.010840 -0.060728   \n",
       "v199_nan                                            0.010840  0.060728   \n",
       "v201_Moderate By Proxy Reputation And Country Code  0.005017 -0.042998   \n",
       "v201_Moderate Risk                                 -0.029653 -0.030867   \n",
       "v201_Moderate+By+Proxy+Reputation+And+Country+Code -0.030191 -0.030123   \n",
       "v201_nan                                            0.010840  0.060728   \n",
       "v202_Good                                          -0.010840 -0.060728   \n",
       "v202_nan                                            0.010840  0.060728   \n",
       "v203_No                                            -0.010840 -0.060728   \n",
       "v203_nan                                            0.010840  0.060728   \n",
       "v204_business                                       0.105443  0.028402   \n",
       "v204_cellular                                       0.097367 -0.031968   \n",
       "v204_college                                       -0.017098  0.010337   \n",
       "v204_dialup                                        -0.017098 -0.005009   \n",
       "v204_mobile                                        -0.024923  0.021698   \n",
       "v204_residential                                    0.077241  0.017588   \n",
       "v204_wifi                                          -0.148913 -0.037195   \n",
       "v204_wired                                         -0.002650 -0.082489   \n",
       "v204_nan                                            0.005322  0.053279   \n",
       "v172.1_N                                           -0.045414  0.018721   \n",
       "v172.1_P                                           -0.010143  0.039101   \n",
       "v172.1_U                                            0.009589 -0.055188   \n",
       "v172.1_Y                                           -0.032629 -0.057636   \n",
       "v172.1_nan                                          0.010840  0.060728   \n",
       "\n",
       "                                                        v002        v4  \\\n",
       "response                                           -0.072353 -0.007668   \n",
       "v001                                               -0.028172  0.026159   \n",
       "v002                                                1.000000  0.161154   \n",
       "v4                                                  0.161154  1.000000   \n",
       "v5                                                  0.089772  0.738650   \n",
       "v14                                                 0.156599  0.985423   \n",
       "v29                                                 0.150948  0.302075   \n",
       "v120                                               -0.019944  0.209135   \n",
       "v123                                                0.015985  0.277026   \n",
       "v173                                                0.056365  0.010641   \n",
       "v174                                               -0.054430 -0.009915   \n",
       "v175                                                0.036745  0.022826   \n",
       "v176                                               -0.034321 -0.022698   \n",
       "v177                                               -0.021130  0.009787   \n",
       "v180                                                0.036069  0.018493   \n",
       "v181                                                0.046281  0.040124   \n",
       "v182                                                0.049610 -0.013755   \n",
       "v183                                                0.023708 -0.007962   \n",
       "v185                                                0.030687  0.016085   \n",
       "v191                                               -0.011798 -0.017876   \n",
       "v192                                               -0.011798 -0.017876   \n",
       "v196                                               -0.003506  0.004440   \n",
       "v197                                               -0.003506  0.004440   \n",
       "v198                                                     NaN       NaN   \n",
       "v200                                                0.000895 -0.013900   \n",
       "v178_Certified                                      0.001343 -0.007672   \n",
       "v178_EmailInexistent                                0.012175 -0.018744   \n",
       "v178_ValidDomain                                    0.045308  0.043204   \n",
       "v178_Verified                                      -0.059419 -0.074205   \n",
       "v178_nan                                            0.039053  0.061561   \n",
       "...                                                      ...       ...   \n",
       "v193_nan                                            0.039053  0.061561   \n",
       "v194_Yes                                           -0.039053 -0.061561   \n",
       "v194_nan                                            0.039053  0.061561   \n",
       "v195_Low                                           -0.003506  0.004440   \n",
       "v195_Moderate                                      -0.037650 -0.061829   \n",
       "v195_nan                                            0.039053  0.061561   \n",
       "v199_Moderate                                      -0.039053 -0.061561   \n",
       "v199_nan                                            0.039053  0.061561   \n",
       "v201_Moderate By Proxy Reputation And Country Code -0.071517 -0.061615   \n",
       "v201_Moderate Risk                                 -0.000895  0.013900   \n",
       "v201_Moderate+By+Proxy+Reputation+And+Country+Code  0.089054  0.000878   \n",
       "v201_nan                                            0.039053  0.061561   \n",
       "v202_Good                                          -0.039053 -0.061561   \n",
       "v202_nan                                            0.039053  0.061561   \n",
       "v203_No                                            -0.039053 -0.061561   \n",
       "v203_nan                                            0.039053  0.061561   \n",
       "v204_business                                       0.018046 -0.015789   \n",
       "v204_cellular                                      -0.139309 -0.051358   \n",
       "v204_college                                        0.093237 -0.019185   \n",
       "v204_dialup                                        -0.015165  0.020140   \n",
       "v204_mobile                                        -0.010204  0.016620   \n",
       "v204_residential                                   -0.090875 -0.061750   \n",
       "v204_wifi                                           0.104379  0.043348   \n",
       "v204_wired                                          0.067423 -0.044838   \n",
       "v204_nan                                            0.046851  0.061015   \n",
       "v172.1_N                                           -0.035833 -0.023792   \n",
       "v172.1_P                                           -0.040280 -0.031783   \n",
       "v172.1_U                                           -0.022865 -0.048033   \n",
       "v172.1_Y                                            0.002458 -0.000563   \n",
       "v172.1_nan                                          0.039053  0.061561   \n",
       "\n",
       "                                                          v5       v14  \\\n",
       "response                                           -0.013845 -0.017492   \n",
       "v001                                                0.042749  0.026423   \n",
       "v002                                                0.089772  0.156599   \n",
       "v4                                                  0.738650  0.985423   \n",
       "v5                                                  1.000000  0.739335   \n",
       "v14                                                 0.739335  1.000000   \n",
       "v29                                                 0.312050  0.303795   \n",
       "v120                                                0.329635  0.225246   \n",
       "v123                                                0.383194  0.289810   \n",
       "v173                                                0.022785  0.016430   \n",
       "v174                                               -0.020723 -0.015724   \n",
       "v175                                                0.022109  0.020325   \n",
       "v176                                               -0.020502 -0.020099   \n",
       "v177                                                0.030602  0.006996   \n",
       "v180                                                0.031174  0.016046   \n",
       "v181                                                0.032608  0.042488   \n",
       "v182                                                0.037750 -0.017427   \n",
       "v183                                               -0.008904 -0.009189   \n",
       "v185                                                0.026678  0.013559   \n",
       "v191                                               -0.017656 -0.013643   \n",
       "v192                                               -0.017656 -0.013643   \n",
       "v196                                                0.008439  0.003290   \n",
       "v197                                                0.008439  0.003290   \n",
       "v198                                                     NaN       NaN   \n",
       "v200                                                0.011399 -0.011734   \n",
       "v178_Certified                                      0.023338 -0.007340   \n",
       "v178_EmailInexistent                               -0.036280 -0.018398   \n",
       "v178_ValidDomain                                    0.042259  0.045596   \n",
       "v178_Verified                                      -0.091117 -0.066806   \n",
       "v178_nan                                            0.079078  0.052564   \n",
       "...                                                      ...       ...   \n",
       "v193_nan                                            0.079078  0.052564   \n",
       "v194_Yes                                           -0.079078 -0.052564   \n",
       "v194_nan                                            0.079078  0.052564   \n",
       "v195_Low                                            0.008439  0.003290   \n",
       "v195_Moderate                                      -0.080104 -0.052669   \n",
       "v195_nan                                            0.079078  0.052564   \n",
       "v199_Moderate                                      -0.079078 -0.052564   \n",
       "v199_nan                                            0.079078  0.052564   \n",
       "v201_Moderate By Proxy Reputation And Country Code -0.074577 -0.052634   \n",
       "v201_Moderate Risk                                 -0.011399  0.011734   \n",
       "v201_Moderate+By+Proxy+Reputation+And+Country+Code -0.000583  0.000859   \n",
       "v201_nan                                            0.079078  0.052564   \n",
       "v202_Good                                          -0.079078 -0.052564   \n",
       "v202_nan                                            0.079078  0.052564   \n",
       "v203_No                                            -0.079078 -0.052564   \n",
       "v203_nan                                            0.079078  0.052564   \n",
       "v204_business                                       0.015715 -0.015172   \n",
       "v204_cellular                                      -0.044091 -0.052360   \n",
       "v204_college                                       -0.018105 -0.020001   \n",
       "v204_dialup                                         0.016491  0.021903   \n",
       "v204_mobile                                         0.017533  0.019737   \n",
       "v204_residential                                   -0.120228 -0.059451   \n",
       "v204_wifi                                           0.070998  0.048794   \n",
       "v204_wired                                         -0.036415 -0.043985   \n",
       "v204_nan                                            0.075617  0.051670   \n",
       "v172.1_N                                           -0.008706 -0.023801   \n",
       "v172.1_P                                           -0.048088 -0.032463   \n",
       "v172.1_U                                           -0.061443 -0.039713   \n",
       "v172.1_Y                                           -0.012874  0.001402   \n",
       "v172.1_nan                                          0.079078  0.052564   \n",
       "\n",
       "                                                         v29      v120  \\\n",
       "response                                           -0.172579  0.051613   \n",
       "v001                                               -0.042262  0.062640   \n",
       "v002                                                0.150948 -0.019944   \n",
       "v4                                                  0.302075  0.209135   \n",
       "v5                                                  0.312050  0.329635   \n",
       "v14                                                 0.303795  0.225246   \n",
       "v29                                                 1.000000  0.157450   \n",
       "v120                                                0.157450  1.000000   \n",
       "v123                                                0.163382  0.733878   \n",
       "v173                                                0.058766  0.017526   \n",
       "v174                                               -0.056870 -0.016925   \n",
       "v175                                               -0.002560  0.011377   \n",
       "v176                                                0.005673 -0.012557   \n",
       "v177                                               -0.045187  0.001383   \n",
       "v180                                               -0.021656  0.013454   \n",
       "v181                                                0.034544 -0.011165   \n",
       "v182                                                0.010566  0.037434   \n",
       "v183                                               -0.039029 -0.008797   \n",
       "v185                                               -0.022860  0.010256   \n",
       "v191                                               -0.074641 -0.006081   \n",
       "v192                                               -0.074641 -0.006081   \n",
       "v196                                                0.002975 -0.014796   \n",
       "v197                                                0.002975 -0.014796   \n",
       "v198                                                     NaN       NaN   \n",
       "v200                                                0.000951  0.007363   \n",
       "v178_Certified                                     -0.024240 -0.011752   \n",
       "v178_EmailInexistent                               -0.034325 -0.019692   \n",
       "v178_ValidDomain                                    0.038166 -0.009455   \n",
       "v178_Verified                                       0.001096 -0.130327   \n",
       "v178_nan                                           -0.010858  0.145945   \n",
       "...                                                      ...       ...   \n",
       "v193_nan                                           -0.010858  0.145945   \n",
       "v194_Yes                                            0.010858 -0.145945   \n",
       "v194_nan                                           -0.010858  0.145945   \n",
       "v195_Low                                            0.002975 -0.014796   \n",
       "v195_Moderate                                       0.009971 -0.140282   \n",
       "v195_nan                                           -0.010858  0.145945   \n",
       "v199_Moderate                                       0.010858 -0.145945   \n",
       "v199_nan                                           -0.010858  0.145945   \n",
       "v201_Moderate By Proxy Reputation And Country Code -0.010972 -0.124272   \n",
       "v201_Moderate Risk                                 -0.000951 -0.007363   \n",
       "v201_Moderate+By+Proxy+Reputation+And+Country+Code  0.056616 -0.040948   \n",
       "v201_nan                                           -0.010858  0.145945   \n",
       "v202_Good                                           0.010858 -0.145945   \n",
       "v202_nan                                           -0.010858  0.145945   \n",
       "v203_No                                             0.010858 -0.145945   \n",
       "v203_nan                                           -0.010858  0.145945   \n",
       "v204_business                                      -0.038260 -0.007491   \n",
       "v204_cellular                                      -0.120952 -0.033863   \n",
       "v204_college                                       -0.027601 -0.014393   \n",
       "v204_dialup                                        -0.022365 -0.014393   \n",
       "v204_mobile                                         0.033399 -0.030635   \n",
       "v204_residential                                   -0.048993 -0.050454   \n",
       "v204_wifi                                           0.101896 -0.033850   \n",
       "v204_wired                                          0.056682 -0.037192   \n",
       "v204_nan                                           -0.012713  0.143450   \n",
       "v172.1_N                                           -0.013708 -0.024368   \n",
       "v172.1_P                                           -0.061391 -0.015127   \n",
       "v172.1_U                                            0.019671 -0.134820   \n",
       "v172.1_Y                                            0.023207  0.006430   \n",
       "v172.1_nan                                         -0.010858  0.145945   \n",
       "\n",
       "                                                        v123      v173  \\\n",
       "response                                            0.001951  0.042317   \n",
       "v001                                                0.065808 -0.023079   \n",
       "v002                                                0.015985  0.056365   \n",
       "v4                                                  0.277026  0.010641   \n",
       "v5                                                  0.383194  0.022785   \n",
       "v14                                                 0.289810  0.016430   \n",
       "v29                                                 0.163382  0.058766   \n",
       "v120                                                0.733878  0.017526   \n",
       "v123                                                1.000000  0.051716   \n",
       "v173                                                0.051716  1.000000   \n",
       "v174                                               -0.050899 -0.999832   \n",
       "v175                                                0.010423  0.096303   \n",
       "v176                                               -0.010168 -0.094509   \n",
       "v177                                               -0.001916 -0.069621   \n",
       "v180                                               -0.003963  0.065332   \n",
       "v181                                               -0.008010  0.096625   \n",
       "v182                                                0.028961  0.514751   \n",
       "v183                                               -0.017028  0.052509   \n",
       "v185                                               -0.006240  0.057240   \n",
       "v191                                                0.005703 -0.004563   \n",
       "v192                                                0.005703 -0.004563   \n",
       "v196                                               -0.011881  0.229137   \n",
       "v197                                               -0.011881  0.229137   \n",
       "v198                                                     NaN       NaN   \n",
       "v200                                                0.009828  0.008125   \n",
       "v178_Certified                                     -0.014852 -0.085115   \n",
       "v178_EmailInexistent                               -0.013774  0.039195   \n",
       "v178_ValidDomain                                   -0.007618  0.081651   \n",
       "v178_Verified                                      -0.056529 -0.091060   \n",
       "v178_nan                                            0.066902  0.060699   \n",
       "...                                                      ...       ...   \n",
       "v193_nan                                            0.066902  0.060699   \n",
       "v194_Yes                                           -0.066902 -0.060699   \n",
       "v194_nan                                            0.066902  0.060699   \n",
       "v195_Low                                           -0.011881  0.229137   \n",
       "v195_Moderate                                      -0.063038 -0.116889   \n",
       "v195_nan                                            0.066902  0.060699   \n",
       "v199_Moderate                                      -0.066902 -0.060699   \n",
       "v199_nan                                            0.066902  0.060699   \n",
       "v201_Moderate By Proxy Reputation And Country Code -0.061635 -0.059972   \n",
       "v201_Moderate Risk                                 -0.009828 -0.008125   \n",
       "v201_Moderate+By+Proxy+Reputation+And+Country+Code -0.004257  0.006491   \n",
       "v201_nan                                            0.066902  0.060699   \n",
       "v202_Good                                          -0.066902 -0.060699   \n",
       "v202_nan                                            0.066902  0.060699   \n",
       "v203_No                                            -0.066902 -0.060699   \n",
       "v203_nan                                            0.066902  0.060699   \n",
       "v204_business                                      -0.013774  0.037171   \n",
       "v204_cellular                                      -0.031032 -0.070660   \n",
       "v204_college                                       -0.005667  0.003519   \n",
       "v204_dialup                                        -0.005667  0.055606   \n",
       "v204_mobile                                         0.003460  0.017673   \n",
       "v204_residential                                   -0.049136 -0.099213   \n",
       "v204_wifi                                           0.017068  0.031243   \n",
       "v204_wired                                         -0.029950  0.045614   \n",
       "v204_nan                                            0.063949  0.059518   \n",
       "v172.1_N                                           -0.018716 -0.074746   \n",
       "v172.1_P                                           -0.016883 -0.059899   \n",
       "v172.1_U                                           -0.055532 -0.015655   \n",
       "v172.1_Y                                           -0.007136 -0.058134   \n",
       "v172.1_nan                                          0.066902  0.060699   \n",
       "\n",
       "                                                       ...      v204_mobile  \\\n",
       "response                                               ...        -0.024923   \n",
       "v001                                                   ...         0.021698   \n",
       "v002                                                   ...        -0.010204   \n",
       "v4                                                     ...         0.016620   \n",
       "v5                                                     ...         0.017533   \n",
       "v14                                                    ...         0.019737   \n",
       "v29                                                    ...         0.033399   \n",
       "v120                                                   ...        -0.030635   \n",
       "v123                                                   ...         0.003460   \n",
       "v173                                                   ...         0.017673   \n",
       "v174                                                   ...        -0.011385   \n",
       "v175                                                   ...         0.009334   \n",
       "v176                                                   ...         0.004150   \n",
       "v177                                                   ...        -0.040159   \n",
       "v180                                                   ...        -0.023473   \n",
       "v181                                                   ...         0.103508   \n",
       "v182                                                   ...        -0.117849   \n",
       "v183                                                   ...         0.023692   \n",
       "v185                                                   ...        -0.023946   \n",
       "v191                                                   ...         0.001890   \n",
       "v192                                                   ...         0.001890   \n",
       "v196                                                   ...         0.037737   \n",
       "v197                                                   ...         0.037737   \n",
       "v198                                                   ...              NaN   \n",
       "v200                                                   ...         0.028754   \n",
       "v178_Certified                                         ...        -0.023462   \n",
       "v178_EmailInexistent                                   ...         0.061771   \n",
       "v178_ValidDomain                                       ...         0.092262   \n",
       "v178_Verified                                          ...         0.223900   \n",
       "v178_nan                                               ...        -0.286015   \n",
       "...                                                    ...              ...   \n",
       "v193_nan                                               ...        -0.286015   \n",
       "v194_Yes                                               ...         0.286015   \n",
       "v194_nan                                               ...        -0.286015   \n",
       "v195_Low                                               ...         0.037737   \n",
       "v195_Moderate                                          ...         0.272741   \n",
       "v195_nan                                               ...        -0.286015   \n",
       "v199_Moderate                                          ...         0.286015   \n",
       "v199_nan                                               ...        -0.286015   \n",
       "v201_Moderate By Proxy Reputation And Country Code     ...         0.253272   \n",
       "v201_Moderate Risk                                     ...        -0.028754   \n",
       "v201_Moderate+By+Proxy+Reputation+And+Country+Code     ...         0.069895   \n",
       "v201_nan                                               ...        -0.286015   \n",
       "v202_Good                                              ...         0.286015   \n",
       "v202_nan                                               ...        -0.286015   \n",
       "v203_No                                                ...         0.286015   \n",
       "v203_nan                                               ...        -0.286015   \n",
       "v204_business                                          ...        -0.033224   \n",
       "v204_cellular                                          ...        -0.144226   \n",
       "v204_college                                           ...        -0.016579   \n",
       "v204_dialup                                            ...        -0.016579   \n",
       "v204_mobile                                            ...         1.000000   \n",
       "v204_residential                                       ...        -0.236314   \n",
       "v204_wifi                                              ...        -0.219503   \n",
       "v204_wired                                             ...        -0.106188   \n",
       "v204_nan                                               ...        -0.289705   \n",
       "v172.1_N                                               ...        -0.008062   \n",
       "v172.1_P                                               ...        -0.008062   \n",
       "v172.1_U                                               ...         0.280704   \n",
       "v172.1_Y                                               ...        -0.002714   \n",
       "v172.1_nan                                             ...        -0.286015   \n",
       "\n",
       "                                                    v204_residential  \\\n",
       "response                                                    0.077241   \n",
       "v001                                                        0.017588   \n",
       "v002                                                       -0.090875   \n",
       "v4                                                         -0.061750   \n",
       "v5                                                         -0.120228   \n",
       "v14                                                        -0.059451   \n",
       "v29                                                        -0.048993   \n",
       "v120                                                       -0.050454   \n",
       "v123                                                       -0.049136   \n",
       "v173                                                       -0.099213   \n",
       "v174                                                        0.086854   \n",
       "v175                                                       -0.098594   \n",
       "v176                                                        0.084703   \n",
       "v177                                                       -0.023157   \n",
       "v180                                                       -0.132832   \n",
       "v181                                                       -0.010617   \n",
       "v182                                                       -0.152248   \n",
       "v183                                                       -0.101339   \n",
       "v185                                                       -0.124233   \n",
       "v191                                                        0.070954   \n",
       "v192                                                        0.070954   \n",
       "v196                                                       -0.002411   \n",
       "v197                                                       -0.002411   \n",
       "v198                                                             NaN   \n",
       "v200                                                        0.032062   \n",
       "v178_Certified                                             -0.026161   \n",
       "v178_EmailInexistent                                       -0.037046   \n",
       "v178_ValidDomain                                           -0.007678   \n",
       "v178_Verified                                               0.315263   \n",
       "v178_nan                                                   -0.318922   \n",
       "...                                                              ...   \n",
       "v193_nan                                                   -0.318922   \n",
       "v194_Yes                                                    0.318922   \n",
       "v194_nan                                                   -0.318922   \n",
       "v195_Low                                                   -0.002411   \n",
       "v195_Moderate                                               0.315191   \n",
       "v195_nan                                                   -0.318922   \n",
       "v199_Moderate                                               0.318922   \n",
       "v199_nan                                                   -0.318922   \n",
       "v201_Moderate By Proxy Reputation And Country Code          0.347911   \n",
       "v201_Moderate Risk                                         -0.032062   \n",
       "v201_Moderate+By+Proxy+Reputation+And+Country+Code         -0.093908   \n",
       "v201_nan                                                   -0.318922   \n",
       "v202_Good                                                   0.318922   \n",
       "v202_nan                                                   -0.318922   \n",
       "v203_No                                                     0.318922   \n",
       "v203_nan                                                   -0.318922   \n",
       "v204_business                                              -0.037046   \n",
       "v204_cellular                                              -0.160820   \n",
       "v204_college                                               -0.018487   \n",
       "v204_dialup                                                -0.018487   \n",
       "v204_mobile                                                -0.236314   \n",
       "v204_residential                                            1.000000   \n",
       "v204_wifi                                                  -0.244757   \n",
       "v204_wired                                                 -0.118406   \n",
       "v204_nan                                                   -0.323037   \n",
       "v172.1_N                                                   -0.015467   \n",
       "v172.1_P                                                    0.051805   \n",
       "v172.1_U                                                    0.290778   \n",
       "v172.1_Y                                                    0.038595   \n",
       "v172.1_nan                                                 -0.318922   \n",
       "\n",
       "                                                    v204_wifi  v204_wired  \\\n",
       "response                                            -0.148913   -0.002650   \n",
       "v001                                                -0.037195   -0.082489   \n",
       "v002                                                 0.104379    0.067423   \n",
       "v4                                                   0.043348   -0.044838   \n",
       "v5                                                   0.070998   -0.036415   \n",
       "v14                                                  0.048794   -0.043985   \n",
       "v29                                                  0.101896    0.056682   \n",
       "v120                                                -0.033850   -0.037192   \n",
       "v123                                                 0.017068   -0.029950   \n",
       "v173                                                 0.031243    0.045614   \n",
       "v174                                                -0.025317   -0.042905   \n",
       "v175                                                -0.037143   -0.022360   \n",
       "v176                                                 0.050265    0.028594   \n",
       "v177                                                -0.060555   -0.029300   \n",
       "v180                                                -0.054981   -0.029743   \n",
       "v181                                                 0.010018    0.099824   \n",
       "v182                                                -0.138372   -0.071711   \n",
       "v183                                                -0.016571    0.034264   \n",
       "v185                                                -0.055139   -0.017898   \n",
       "v191                                                 0.032342    0.018522   \n",
       "v192                                                 0.032342    0.018522   \n",
       "v196                                                 0.063331   -0.026424   \n",
       "v197                                                 0.063331   -0.026424   \n",
       "v198                                                      NaN         NaN   \n",
       "v200                                                 0.029781    0.014407   \n",
       "v178_Certified                                      -0.024300   -0.011756   \n",
       "v178_EmailInexistent                                 0.012032    0.065733   \n",
       "v178_ValidDomain                                     0.005244    0.089239   \n",
       "v178_Verified                                        0.280222    0.087643   \n",
       "v178_nan                                            -0.296234   -0.143308   \n",
       "...                                                       ...         ...   \n",
       "v193_nan                                            -0.296234   -0.143308   \n",
       "v194_Yes                                             0.296234    0.143308   \n",
       "v194_nan                                            -0.296234   -0.143308   \n",
       "v195_Low                                             0.063331   -0.026424   \n",
       "v195_Moderate                                        0.276453    0.147937   \n",
       "v195_nan                                            -0.296234   -0.143308   \n",
       "v199_Moderate                                        0.296234    0.143308   \n",
       "v199_nan                                            -0.296234   -0.143308   \n",
       "v201_Moderate By Proxy Reputation And Country Code   0.222648    0.118130   \n",
       "v201_Moderate Risk                                  -0.029781   -0.014407   \n",
       "v201_Moderate+By+Proxy+Reputation+And+Country+Code   0.176480    0.058038   \n",
       "v201_nan                                            -0.296234   -0.143308   \n",
       "v202_Good                                            0.296234    0.143308   \n",
       "v202_nan                                            -0.296234   -0.143308   \n",
       "v203_No                                              0.296234    0.143308   \n",
       "v203_nan                                            -0.296234   -0.143308   \n",
       "v204_business                                       -0.034411   -0.016647   \n",
       "v204_cellular                                       -0.149379   -0.072265   \n",
       "v204_college                                        -0.017172   -0.008307   \n",
       "v204_dialup                                         -0.017172   -0.008307   \n",
       "v204_mobile                                         -0.219503   -0.106188   \n",
       "v204_residential                                    -0.244757   -0.118406   \n",
       "v204_wifi                                            1.000000   -0.109982   \n",
       "v204_wired                                          -0.109982    1.000000   \n",
       "v204_nan                                            -0.300056   -0.145158   \n",
       "v172.1_N                                             0.059917   -0.022065   \n",
       "v172.1_P                                            -0.045610    0.040331   \n",
       "v172.1_U                                             0.270852    0.142633   \n",
       "v172.1_Y                                             0.047903   -0.028984   \n",
       "v172.1_nan                                          -0.296234   -0.143308   \n",
       "\n",
       "                                                    v204_nan  v172.1_N  \\\n",
       "response                                            0.005322 -0.045414   \n",
       "v001                                                0.053279  0.018721   \n",
       "v002                                                0.046851 -0.035833   \n",
       "v4                                                  0.061015 -0.023792   \n",
       "v5                                                  0.075617 -0.008706   \n",
       "v14                                                 0.051670 -0.023801   \n",
       "v29                                                -0.012713 -0.013708   \n",
       "v120                                                0.143450 -0.024368   \n",
       "v123                                                0.063949 -0.018716   \n",
       "v173                                                0.059518 -0.074746   \n",
       "v174                                               -0.055338  0.074804   \n",
       "v175                                                0.165227 -0.215025   \n",
       "v176                                               -0.173165  0.215696   \n",
       "v177                                                0.121614 -0.150750   \n",
       "v180                                                0.227068 -0.170986   \n",
       "v181                                               -0.140203 -0.053073   \n",
       "v182                                                0.435554 -0.054048   \n",
       "v183                                                0.093479 -0.075338   \n",
       "v185                                                0.214553 -0.162560   \n",
       "v191                                               -0.122082 -0.018557   \n",
       "v192                                               -0.122082 -0.018557   \n",
       "v196                                               -0.072091 -0.010958   \n",
       "v197                                               -0.072091 -0.010958   \n",
       "v198                                                     NaN       NaN   \n",
       "v200                                               -0.099252  0.005975   \n",
       "v178_Certified                                     -0.032072  0.263955   \n",
       "v178_EmailInexistent                               -0.045416 -0.006903   \n",
       "v178_ValidDomain                                   -0.139178 -0.021156   \n",
       "v178_Verified                                      -0.866443  0.038576   \n",
       "v178_nan                                            0.987261 -0.059431   \n",
       "...                                                      ...       ...   \n",
       "v193_nan                                            0.987261 -0.059431   \n",
       "v194_Yes                                           -0.987261  0.059431   \n",
       "v194_nan                                            0.987261 -0.059431   \n",
       "v195_Low                                           -0.072091 -0.010958   \n",
       "v195_Moderate                                      -0.955916  0.061350   \n",
       "v195_nan                                            0.987261 -0.059431   \n",
       "v199_Moderate                                      -0.987261  0.059431   \n",
       "v199_nan                                            0.987261 -0.059431   \n",
       "v201_Moderate By Proxy Reputation And Country Code -0.922318  0.035408   \n",
       "v201_Moderate Risk                                  0.099252 -0.005975   \n",
       "v201_Moderate+By+Proxy+Reputation+And+Country+Code -0.115125  0.059699   \n",
       "v201_nan                                            0.987261 -0.059431   \n",
       "v202_Good                                          -0.987261  0.059431   \n",
       "v202_nan                                            0.987261 -0.059431   \n",
       "v203_No                                            -0.987261  0.059431   \n",
       "v203_nan                                            0.987261 -0.059431   \n",
       "v204_business                                      -0.045416 -0.006903   \n",
       "v204_cellular                                      -0.197154  0.065831   \n",
       "v204_college                                       -0.022664 -0.003445   \n",
       "v204_dialup                                        -0.022664 -0.003445   \n",
       "v204_mobile                                        -0.289705 -0.008062   \n",
       "v204_residential                                   -0.323037 -0.015467   \n",
       "v204_wifi                                          -0.300056  0.059917   \n",
       "v204_wired                                         -0.145158 -0.022065   \n",
       "v204_nan                                            1.000000 -0.060197   \n",
       "v172.1_N                                           -0.060197  1.000000   \n",
       "v172.1_P                                           -0.060197 -0.009150   \n",
       "v172.1_U                                           -0.909306 -0.141990   \n",
       "v172.1_Y                                           -0.079076 -0.012020   \n",
       "v172.1_nan                                          0.987261 -0.059431   \n",
       "\n",
       "                                                    v172.1_P  v172.1_U  \\\n",
       "response                                           -0.010143  0.009589   \n",
       "v001                                                0.039101 -0.055188   \n",
       "v002                                               -0.040280 -0.022865   \n",
       "v4                                                 -0.031783 -0.048033   \n",
       "v5                                                 -0.048088 -0.061443   \n",
       "v14                                                -0.032463 -0.039713   \n",
       "v29                                                -0.061391  0.019671   \n",
       "v120                                               -0.015127 -0.134820   \n",
       "v123                                               -0.016883 -0.055532   \n",
       "v173                                               -0.059899 -0.015655   \n",
       "v174                                                0.058405  0.011945   \n",
       "v175                                               -0.271529  0.040504   \n",
       "v176                                                0.269962 -0.032460   \n",
       "v177                                                0.016069 -0.030689   \n",
       "v180                                               -0.175666 -0.053170   \n",
       "v181                                               -0.053073  0.163087   \n",
       "v182                                               -0.085544 -0.364803   \n",
       "v183                                               -0.075338 -0.017642   \n",
       "v185                                               -0.190442 -0.041469   \n",
       "v191                                               -0.018557  0.130693   \n",
       "v192                                               -0.018557  0.130693   \n",
       "v196                                               -0.010958  0.077176   \n",
       "v197                                               -0.010958  0.077176   \n",
       "v198                                                     NaN       NaN   \n",
       "v200                                                0.005975 -0.042078   \n",
       "v178_Certified                                      0.263955 -0.075650   \n",
       "v178_EmailInexistent                               -0.006903  0.048620   \n",
       "v178_ValidDomain                                   -0.021156  0.148996   \n",
       "v178_Verified                                       0.038576  0.811306   \n",
       "v178_nan                                           -0.059431 -0.922211   \n",
       "...                                                      ...       ...   \n",
       "v193_nan                                           -0.059431 -0.922211   \n",
       "v194_Yes                                            0.059431  0.922211   \n",
       "v194_nan                                           -0.059431 -0.922211   \n",
       "v195_Low                                           -0.010958  0.077176   \n",
       "v195_Moderate                                       0.061350  0.890484   \n",
       "v195_nan                                           -0.059431 -0.922211   \n",
       "v199_Moderate                                       0.059431  0.922211   \n",
       "v199_nan                                           -0.059431 -0.922211   \n",
       "v201_Moderate By Proxy Reputation And Country Code  0.064833  0.843522   \n",
       "v201_Moderate Risk                                 -0.005975  0.042078   \n",
       "v201_Moderate+By+Proxy+Reputation+And+Country+Code -0.017500  0.107454   \n",
       "v201_nan                                           -0.059431 -0.922211   \n",
       "v202_Good                                           0.059431  0.922211   \n",
       "v202_nan                                           -0.059431 -0.922211   \n",
       "v203_No                                             0.059431  0.922211   \n",
       "v203_nan                                           -0.059431 -0.922211   \n",
       "v204_business                                      -0.006903  0.048620   \n",
       "v204_cellular                                       0.065831  0.152270   \n",
       "v204_college                                       -0.003445  0.024262   \n",
       "v204_dialup                                        -0.003445  0.024262   \n",
       "v204_mobile                                        -0.008062  0.280704   \n",
       "v204_residential                                    0.051805  0.290778   \n",
       "v204_wifi                                          -0.045610  0.270852   \n",
       "v204_wired                                          0.040331  0.142633   \n",
       "v204_nan                                           -0.060197 -0.909306   \n",
       "v172.1_N                                           -0.009150 -0.141990   \n",
       "v172.1_P                                            1.000000 -0.141990   \n",
       "v172.1_U                                           -0.141990  1.000000   \n",
       "v172.1_Y                                           -0.012020 -0.186519   \n",
       "v172.1_nan                                         -0.059431 -0.922211   \n",
       "\n",
       "                                                    v172.1_Y  v172.1_nan  \n",
       "response                                           -0.032629    0.010840  \n",
       "v001                                               -0.057636    0.060728  \n",
       "v002                                                0.002458    0.039053  \n",
       "v4                                                 -0.000563    0.061561  \n",
       "v5                                                 -0.012874    0.079078  \n",
       "v14                                                 0.001402    0.052564  \n",
       "v29                                                 0.023207   -0.010858  \n",
       "v120                                                0.006430    0.145945  \n",
       "v123                                               -0.007136    0.066902  \n",
       "v173                                               -0.058134    0.060699  \n",
       "v174                                                0.057632   -0.056421  \n",
       "v175                                               -0.369961    0.163113  \n",
       "v176                                                0.369446   -0.171096  \n",
       "v177                                               -0.217245    0.120156  \n",
       "v180                                               -0.348206    0.224360  \n",
       "v181                                               -0.027995   -0.138417  \n",
       "v182                                               -0.108406    0.436544  \n",
       "v183                                               -0.152879    0.092288  \n",
       "v185                                               -0.341731    0.211820  \n",
       "v191                                               -0.024377   -0.120527  \n",
       "v192                                               -0.024377   -0.120527  \n",
       "v196                                               -0.014395   -0.071173  \n",
       "v197                                               -0.014395   -0.071173  \n",
       "v198                                                     NaN         NaN  \n",
       "v200                                                0.007848    0.038805  \n",
       "v178_Certified                                     -0.006404   -0.031664  \n",
       "v178_EmailInexistent                               -0.009068   -0.044837  \n",
       "v178_ValidDomain                                   -0.027790   -0.137405  \n",
       "v178_Verified                                       0.088766   -0.879486  \n",
       "v178_nan                                           -0.078068    1.000000  \n",
       "...                                                      ...         ...  \n",
       "v193_nan                                           -0.078068    1.000000  \n",
       "v194_Yes                                            0.078068   -1.000000  \n",
       "v194_nan                                           -0.078068    1.000000  \n",
       "v195_Low                                           -0.014395   -0.071173  \n",
       "v195_Moderate                                       0.080590   -0.968711  \n",
       "v195_nan                                           -0.078068    1.000000  \n",
       "v199_Moderate                                       0.078068   -1.000000  \n",
       "v199_nan                                           -0.078068    1.000000  \n",
       "v201_Moderate By Proxy Reputation And Country Code  0.085165   -0.916677  \n",
       "v201_Moderate Risk                                 -0.007848   -0.038805  \n",
       "v201_Moderate+By+Proxy+Reputation+And+Country+Code -0.022988   -0.113658  \n",
       "v201_nan                                           -0.078068    1.000000  \n",
       "v202_Good                                           0.078068   -1.000000  \n",
       "v202_nan                                           -0.078068    1.000000  \n",
       "v203_No                                             0.078068   -1.000000  \n",
       "v203_nan                                           -0.078068    1.000000  \n",
       "v204_business                                      -0.009068   -0.044837  \n",
       "v204_cellular                                       0.034042   -0.194643  \n",
       "v204_college                                       -0.004525   -0.022375  \n",
       "v204_dialup                                        -0.004525   -0.022375  \n",
       "v204_mobile                                        -0.002714   -0.286015  \n",
       "v204_residential                                    0.038595   -0.318922  \n",
       "v204_wifi                                           0.047903   -0.296234  \n",
       "v204_wired                                         -0.028984   -0.143308  \n",
       "v204_nan                                           -0.079076    0.987261  \n",
       "v172.1_N                                           -0.012020   -0.059431  \n",
       "v172.1_P                                           -0.012020   -0.059431  \n",
       "v172.1_U                                           -0.186519   -0.922211  \n",
       "v172.1_Y                                            1.000000   -0.078068  \n",
       "v172.1_nan                                         -0.078068    1.000000  \n",
       "\n",
       "[77 rows x 77 columns]"
      ]
     },
     "execution_count": 30,
     "metadata": {},
     "output_type": "execute_result"
    }
   ],
   "source": [
    "corr_matrix = dataset_normalized.corr()\n",
    "corr_matrix"
   ]
  },
  {
   "cell_type": "markdown",
   "metadata": {},
   "source": [
    "getting a list (series) of correlations between the target and all features. I am interested in magnitude, so I will take absoulute values. Then I will sort them in descending order. Items in the top of the list are likely to be more important factors."
   ]
  },
  {
   "cell_type": "code",
   "execution_count": 31,
   "metadata": {
    "scrolled": false
   },
   "outputs": [
    {
     "data": {
      "text/plain": [
       "response                                              1.000000\n",
       "v192                                                  0.194025\n",
       "v191                                                  0.194025\n",
       "v29                                                   0.172579\n",
       "v204_wifi                                             0.148913\n",
       "v204_business                                         0.105443\n",
       "v204_cellular                                         0.097367\n",
       "v204_residential                                      0.077241\n",
       "v002                                                  0.072353\n",
       "v182                                                  0.066963\n",
       "v120                                                  0.051613\n",
       "v177                                                  0.048428\n",
       "v172.1_N                                              0.045414\n",
       "v174                                                  0.044762\n",
       "v173                                                  0.042317\n",
       "v195_Low                                              0.034318\n",
       "v197                                                  0.034318\n",
       "v196                                                  0.034318\n",
       "v172.1_Y                                              0.032629\n",
       "v201_Moderate+By+Proxy+Reputation+And+Country+Code    0.030191\n",
       "v201_Moderate Risk                                    0.029653\n",
       "v200                                                  0.029653\n",
       "v184_Moderate+Fraud+Risk                              0.027249\n",
       "v186_Fraud+Score+301+to+600                           0.027249\n",
       "v181                                                  0.026332\n",
       "v204_mobile                                           0.024923\n",
       "v178_Certified                                        0.024196\n",
       "v193_Not+Sure                                         0.024085\n",
       "v180                                                  0.022540\n",
       "v193_Yes                                              0.022007\n",
       "                                                        ...   \n",
       "v193_No                                               0.012306\n",
       "v186_Fraud Score 601 to 799                           0.012306\n",
       "v184_Data Entry Review                                0.012306\n",
       "v178_EmailInexistent                                  0.012306\n",
       "v186_Fraud Score 301 to 600                           0.011599\n",
       "v184_Moderate Fraud Risk                              0.011599\n",
       "v178_nan                                              0.010840\n",
       "v199_Moderate                                         0.010840\n",
       "v203_nan                                              0.010840\n",
       "v203_No                                               0.010840\n",
       "v202_nan                                              0.010840\n",
       "v202_Good                                             0.010840\n",
       "v199_nan                                              0.010840\n",
       "v201_nan                                              0.010840\n",
       "v195_nan                                              0.010840\n",
       "v194_nan                                              0.010840\n",
       "v194_Yes                                              0.010840\n",
       "v193_nan                                              0.010840\n",
       "v186_nan                                              0.010840\n",
       "v184_nan                                              0.010840\n",
       "v172.1_nan                                            0.010840\n",
       "v172.1_P                                              0.010143\n",
       "v172.1_U                                              0.009589\n",
       "v4                                                    0.007668\n",
       "v186_Fraud Score 1 to 100                             0.007036\n",
       "v204_nan                                              0.005322\n",
       "v201_Moderate By Proxy Reputation And Country Code    0.005017\n",
       "v204_wired                                            0.002650\n",
       "v123                                                  0.001951\n",
       "v198                                                       NaN\n",
       "Name: response, Length: 77, dtype: float64"
      ]
     },
     "execution_count": 31,
     "metadata": {},
     "output_type": "execute_result"
    }
   ],
   "source": [
    "corr_with_target_abs_desc = corr_matrix[target].apply(np.abs).sort_values(ascending=False)\n",
    "corr_with_target_abs_desc"
   ]
  },
  {
   "cell_type": "markdown",
   "metadata": {},
   "source": [
    " "
   ]
  },
  {
   "cell_type": "markdown",
   "metadata": {},
   "source": [
    "It can be seen that many features have the same correlation with the target (e.g. v191 and v192). Thus, I can exclude some redundant features (e.g. dimensionality reduction). \n",
    "Below I define a function that will exclude redundant features and return a list of 'unique' features."
   ]
  },
  {
   "cell_type": "code",
   "execution_count": 32,
   "metadata": {
    "collapsed": true
   },
   "outputs": [],
   "source": [
    "def exclude_similar_features_and_get_unique(corr_with_target_series, similarity_param = 0.000001):\n",
    "    exclusion_boolean_list = [True] # first item not to be excluded\n",
    "    for i in range(1, len(corr_with_target_series)):\n",
    "        #print(i,')')\n",
    "        #print('corr_with_target_series[i] =',corr_with_target_series[i])\n",
    "        #print('corr_with_target_series[i-1] =',corr_with_target_series[i-1])\n",
    "        if np.isnan(corr_with_target_series[i]):\n",
    "            exclusion_boolean_list.append(False)\n",
    "            #print('is NAN')\n",
    "        elif (corr_with_target_series[i-1] - corr_with_target_series[i])<=similarity_param:\n",
    "            exclusion_boolean_list.append(False)\n",
    "            #print('similar')\n",
    "        else:\n",
    "            exclusion_boolean_list.append(True)\n",
    "            #print('not_similar')\n",
    "    unique_features = list(corr_with_target_series[exclusion_boolean_list].index)\n",
    "    #print()\n",
    "    #print(boolean_list)\n",
    "    #print()\n",
    "    #print(len(boolean_list))\n",
    "    #print()\n",
    "    #print(len(corr_with_target_series))\n",
    "    return unique_features\n",
    "    #return boolean_list\n",
    "    "
   ]
  },
  {
   "cell_type": "code",
   "execution_count": 33,
   "metadata": {},
   "outputs": [],
   "source": [
    "unique_features = exclude_similar_features_and_get_unique(corr_with_target_abs_desc)"
   ]
  },
  {
   "cell_type": "code",
   "execution_count": 34,
   "metadata": {
    "scrolled": false
   },
   "outputs": [
    {
     "data": {
      "text/plain": [
       "['response',\n",
       " 'v192',\n",
       " 'v29',\n",
       " 'v204_wifi',\n",
       " 'v204_business',\n",
       " 'v204_cellular',\n",
       " 'v204_residential',\n",
       " 'v002',\n",
       " 'v182',\n",
       " 'v120',\n",
       " 'v177',\n",
       " 'v172.1_N',\n",
       " 'v174',\n",
       " 'v173',\n",
       " 'v195_Low',\n",
       " 'v172.1_Y',\n",
       " 'v201_Moderate+By+Proxy+Reputation+And+Country+Code',\n",
       " 'v201_Moderate Risk',\n",
       " 'v184_Moderate+Fraud+Risk',\n",
       " 'v181',\n",
       " 'v204_mobile',\n",
       " 'v178_Certified',\n",
       " 'v193_Not+Sure',\n",
       " 'v180',\n",
       " 'v193_Yes',\n",
       " 'v178_ValidDomain',\n",
       " 'v183',\n",
       " 'v176',\n",
       " 'v178_Verified',\n",
       " 'v195_Moderate',\n",
       " 'v185',\n",
       " 'v184_Lower Fraud Risk',\n",
       " 'v14',\n",
       " 'v186_Fraud Score 101 to 300',\n",
       " 'v204_dialup',\n",
       " 'v001',\n",
       " 'v175',\n",
       " 'v193_Not Sure',\n",
       " 'v5',\n",
       " 'v193_No',\n",
       " 'v186_Fraud Score 301 to 600',\n",
       " 'v178_nan',\n",
       " 'v172.1_P',\n",
       " 'v172.1_U',\n",
       " 'v4',\n",
       " 'v186_Fraud Score 1 to 100',\n",
       " 'v204_nan',\n",
       " 'v201_Moderate By Proxy Reputation And Country Code',\n",
       " 'v204_wired',\n",
       " 'v123']"
      ]
     },
     "execution_count": 34,
     "metadata": {},
     "output_type": "execute_result"
    }
   ],
   "source": [
    "unique_features"
   ]
  },
  {
   "cell_type": "markdown",
   "metadata": {},
   "source": [
    "I will create a new dataset that will contain only the target and 'unique' features.\n",
    "\n",
    "_Note: in fact I have tried to run the logistic regression both with redundant features and without. The results are the same. So it is mainly about computational efficiency._"
   ]
  },
  {
   "cell_type": "code",
   "execution_count": 35,
   "metadata": {},
   "outputs": [],
   "source": [
    "dataset_normalized_unique_features=dataset_normalized[unique_features]"
   ]
  },
  {
   "cell_type": "code",
   "execution_count": null,
   "metadata": {
    "collapsed": true
   },
   "outputs": [],
   "source": []
  },
  {
   "cell_type": "markdown",
   "metadata": {},
   "source": [
    "**_3) Trying the model with basic settings_**"
   ]
  },
  {
   "cell_type": "markdown",
   "metadata": {},
   "source": [
    "To determine the strongest predictors logistic regression is a good ML-algorithm. I choose Regression, because it will expclicitly show which factors have more impact on the target and which less. I will use L2 and L1 regularization that allows to deal with collinearity and overfitting. "
   ]
  },
  {
   "cell_type": "markdown",
   "metadata": {},
   "source": [
    "(b) I will split the data to the train and test sets. Training set will be used to train and calibrate the model. Test set is used to assess the final model. Test set is 20% of the data and train set - 80%. Random state is set to 1, so that the data is split in the same manner every time I run the split function."
   ]
  },
  {
   "cell_type": "code",
   "execution_count": 36,
   "metadata": {
    "collapsed": true
   },
   "outputs": [],
   "source": [
    "train, test = train_test_split(dataset_normalized_unique_features, test_size=0.2, random_state=1)"
   ]
  },
  {
   "cell_type": "markdown",
   "metadata": {},
   "source": [
    "(c) Creating a model. C (L2 regularization parameter) is set to 1, but will be calibrated later. I will fit intercept to have less biased coefficient. "
   ]
  },
  {
   "cell_type": "code",
   "execution_count": 37,
   "metadata": {
    "collapsed": true
   },
   "outputs": [],
   "source": [
    "log_reg = LogisticRegression(penalty='l2', C=1, fit_intercept=True, random_state=1)"
   ]
  },
  {
   "cell_type": "markdown",
   "metadata": {},
   "source": [
    "(d) getting predictor names "
   ]
  },
  {
   "cell_type": "code",
   "execution_count": 41,
   "metadata": {
    "collapsed": true
   },
   "outputs": [],
   "source": [
    "#get columns names except the target\n",
    "predictors = get_col_names_without_target(dataset_normalized_unique_features, target='response')"
   ]
  },
  {
   "cell_type": "markdown",
   "metadata": {},
   "source": [
    "(e) I use cross validation to see what is the accuracy of the model with basic settings"
   ]
  },
  {
   "cell_type": "code",
   "execution_count": 42,
   "metadata": {
    "collapsed": true
   },
   "outputs": [],
   "source": [
    "# here I define a function to conveniently do cross-validation and print the results\n",
    "def print_scores(model, X_features, Y_target):\n",
    "    scores = cross_val_score(model, X_features, Y_target, cv=5)\n",
    "    print('accuracies =', scores)\n",
    "    print('mean accuracy =', scores.mean())    "
   ]
  },
  {
   "cell_type": "code",
   "execution_count": 43,
   "metadata": {},
   "outputs": [
    {
     "name": "stdout",
     "output_type": "stream",
     "text": [
      "accuracies = [ 0.79032258  0.83870968  0.76612903  0.79674797  0.83606557]\n",
      "mean accuracy = 0.805594966315\n"
     ]
    }
   ],
   "source": [
    "print_scores(log_reg, train[predictors], train[target])"
   ]
  },
  {
   "cell_type": "markdown",
   "metadata": {},
   "source": [
    "(f) It is good to compare performance of my model with majority class prediction model. This is the minimum accuracy that my model should achive. Majority class naive prediction is when you predict that every record belongs to a majority class. In this case it would give the following accuracy:"
   ]
  },
  {
   "cell_type": "code",
   "execution_count": 44,
   "metadata": {},
   "outputs": [
    {
     "data": {
      "text/plain": [
       "0.807131280388979"
      ]
     },
     "execution_count": 44,
     "metadata": {},
     "output_type": "execute_result"
    }
   ],
   "source": [
    "(1-train[target].mean())"
   ]
  },
  {
   "cell_type": "markdown",
   "metadata": {},
   "source": [
    "My model gives essentially the same results, so it is not a very bad model, but  also not a good one. Thus, need to calibrate it further."
   ]
  },
  {
   "cell_type": "markdown",
   "metadata": {},
   "source": [
    "**_3) Calibrating the model_**"
   ]
  },
  {
   "cell_type": "markdown",
   "metadata": {},
   "source": [
    "(a) we have an inbalanced dataset - 80.7% of data has response value of 0 and 19.3% - 1. I will try to use 'balanced' class_weight to tackle that. "
   ]
  },
  {
   "cell_type": "code",
   "execution_count": 45,
   "metadata": {
    "collapsed": true
   },
   "outputs": [],
   "source": [
    "log_reg_balanced = LogisticRegression(penalty='l2', C=1, fit_intercept=True, random_state=1, class_weight='balanced')"
   ]
  },
  {
   "cell_type": "code",
   "execution_count": 46,
   "metadata": {},
   "outputs": [
    {
     "name": "stdout",
     "output_type": "stream",
     "text": [
      "accuracies = [ 0.62903226  0.63709677  0.62096774  0.64227642  0.63114754]\n",
      "mean accuracy = 0.632104147588\n"
     ]
    }
   ],
   "source": [
    "print_scores(log_reg_balanced, train[predictors], train[target])"
   ]
  },
  {
   "cell_type": "markdown",
   "metadata": {},
   "source": [
    "This model is actually much worse, so no need to use class_weight functionality."
   ]
  },
  {
   "cell_type": "markdown",
   "metadata": {},
   "source": [
    "(b) trying Logistic Regression with L1 regularization"
   ]
  },
  {
   "cell_type": "code",
   "execution_count": 47,
   "metadata": {
    "collapsed": true
   },
   "outputs": [],
   "source": [
    "log_reg_l1 = LogisticRegression(penalty='l1', C=1, fit_intercept=True, random_state=1)"
   ]
  },
  {
   "cell_type": "code",
   "execution_count": 48,
   "metadata": {},
   "outputs": [
    {
     "name": "stdout",
     "output_type": "stream",
     "text": [
      "accuracies = [ 0.78225806  0.83870968  0.78225806  0.79674797  0.8442623 ]\n",
      "mean accuracy = 0.808847213803\n"
     ]
    }
   ],
   "source": [
    "print_scores(log_reg_l1, train[predictors], train[target])"
   ]
  },
  {
   "cell_type": "markdown",
   "metadata": {},
   "source": [
    "Log.reg. model with L1 regularization give better rezults than the majority class prediction model. It also outperforms log.reg. with L2  regularization. So, I will stick to that model."
   ]
  },
  {
   "cell_type": "markdown",
   "metadata": {},
   "source": [
    "(c) Calibration regularization parameter C. Firstly, I try a wide band of values."
   ]
  },
  {
   "cell_type": "code",
   "execution_count": 51,
   "metadata": {
    "scrolled": false
   },
   "outputs": [
    {
     "name": "stdout",
     "output_type": "stream",
     "text": [
      "c param = 0.01\n",
      "accuracies = [ 0.80645161  0.80645161  0.80645161  0.80487805  0.81147541]\n",
      "mean accuracy = 0.807141659465\n",
      "\n",
      "c param = 0.1\n",
      "accuracies = [ 0.80645161  0.81451613  0.80645161  0.81300813  0.83606557]\n",
      "mean accuracy = 0.815298611738\n",
      "\n",
      "c param = 0.5\n",
      "accuracies = [ 0.79032258  0.83870968  0.78225806  0.78861789  0.8442623 ]\n",
      "mean accuracy = 0.808834100768\n",
      "\n",
      "c param = 1\n",
      "accuracies = [ 0.78225806  0.83870968  0.78225806  0.79674797  0.8442623 ]\n",
      "mean accuracy = 0.808847213803\n",
      "\n",
      "c param = 2\n",
      "accuracies = [ 0.79032258  0.83870968  0.78225806  0.80487805  0.83606557]\n",
      "mean accuracy = 0.810446789026\n",
      "\n",
      "c param = 5\n",
      "accuracies = [ 0.79032258  0.83870968  0.76612903  0.78861789  0.83606557]\n",
      "mean accuracy = 0.803968950054\n",
      "\n",
      "c param = 15\n",
      "accuracies = [ 0.81451613  0.83870968  0.76612903  0.78861789  0.82786885]\n",
      "mean accuracy = 0.80716831547\n",
      "\n",
      "c param = 100\n",
      "accuracies = [ 0.81451613  0.83870968  0.76612903  0.78861789  0.81967213]\n",
      "mean accuracy = 0.805528971207\n",
      "\n"
     ]
    }
   ],
   "source": [
    "for C_param in [0.01, 0.1, 0.5, 1, 2, 5, 15, 100]:\n",
    "    log_reg_l1_diff_c = LogisticRegression(penalty='l1', C=C_param, fit_intercept=True, random_state=1)\n",
    "    print('c param =', C_param)\n",
    "    print_scores(log_reg_l1_diff_c, train[predictors], train[target])\n",
    "    print()"
   ]
  },
  {
   "cell_type": "markdown",
   "metadata": {},
   "source": [
    "The optimal C parameter is somewhere between 0.1 - 1, so I will narrow down the search in this interval."
   ]
  },
  {
   "cell_type": "code",
   "execution_count": 53,
   "metadata": {},
   "outputs": [
    {
     "name": "stdout",
     "output_type": "stream",
     "text": [
      "c param = 0.05\n",
      "accuracies = [ 0.80645161  0.80645161  0.80645161  0.80487805  0.81147541]\n",
      "mean accuracy = 0.807141659465\n",
      "\n",
      "c param = 0.1\n",
      "accuracies = [ 0.80645161  0.81451613  0.80645161  0.81300813  0.83606557]\n",
      "mean accuracy = 0.815298611738\n",
      "\n",
      "c param = 0.2\n",
      "accuracies = [ 0.80645161  0.83870968  0.7983871   0.81300813  0.83606557]\n",
      "mean accuracy = 0.81852441819\n",
      "\n",
      "c param = 0.3\n",
      "accuracies = [ 0.7983871   0.83870968  0.79032258  0.79674797  0.8442623 ]\n",
      "mean accuracy = 0.81368592348\n",
      "\n",
      "c param = 0.4\n",
      "accuracies = [ 0.7983871   0.83870968  0.78225806  0.78861789  0.8442623 ]\n",
      "mean accuracy = 0.810447003994\n",
      "\n",
      "c param = 0.5\n",
      "accuracies = [ 0.79032258  0.83870968  0.78225806  0.78861789  0.8442623 ]\n",
      "mean accuracy = 0.808834100768\n",
      "\n",
      "c param = 0.6\n",
      "accuracies = [ 0.7983871   0.83870968  0.78225806  0.78861789  0.8442623 ]\n",
      "mean accuracy = 0.810447003994\n",
      "\n",
      "c param = 0.7\n",
      "accuracies = [ 0.79032258  0.83870968  0.78225806  0.78861789  0.8442623 ]\n",
      "mean accuracy = 0.808834100768\n",
      "\n",
      "c param = 0.8\n",
      "accuracies = [ 0.78225806  0.83870968  0.78225806  0.78861789  0.8442623 ]\n",
      "mean accuracy = 0.807221197542\n",
      "\n",
      "c param = 1\n",
      "accuracies = [ 0.78225806  0.83870968  0.78225806  0.79674797  0.8442623 ]\n",
      "mean accuracy = 0.808847213803\n",
      "\n"
     ]
    }
   ],
   "source": [
    "for C_param in [0.05, 0.1, 0.2, 0.3, 0.4, 0.5, 0.6, 0.7, 0.8, 1]:\n",
    "    log_reg_l1_diff_c = LogisticRegression(penalty='l1', C=C_param, fit_intercept=True, random_state=1)\n",
    "    print('c param =', C_param)\n",
    "    print_scores(log_reg_l1_diff_c, train[predictors], train[target])\n",
    "    print()"
   ]
  },
  {
   "cell_type": "markdown",
   "metadata": {},
   "source": [
    "The optimal value is 0.2. I will use that."
   ]
  },
  {
   "cell_type": "markdown",
   "metadata": {},
   "source": [
    "d) Will look for optimal Tolerance for stopping criteria (tol)."
   ]
  },
  {
   "cell_type": "code",
   "execution_count": 55,
   "metadata": {},
   "outputs": [
    {
     "name": "stdout",
     "output_type": "stream",
     "text": [
      "tol param = 1e-08\n",
      "accuracies = [ 0.80645161  0.83870968  0.7983871   0.81300813  0.83606557]\n",
      "mean accuracy = 0.81852441819\n",
      "\n",
      "tol param = 1e-06\n",
      "accuracies = [ 0.80645161  0.83870968  0.7983871   0.81300813  0.83606557]\n",
      "mean accuracy = 0.81852441819\n",
      "\n",
      "tol param = 0.0001\n",
      "accuracies = [ 0.80645161  0.83870968  0.7983871   0.81300813  0.83606557]\n",
      "mean accuracy = 0.81852441819\n",
      "\n",
      "tol param = 0.01\n",
      "accuracies = [ 0.80645161  0.83870968  0.7983871   0.81300813  0.83606557]\n",
      "mean accuracy = 0.81852441819\n",
      "\n",
      "tol param = 0.1\n",
      "accuracies = [ 0.80645161  0.83870968  0.7983871   0.81300813  0.83606557]\n",
      "mean accuracy = 0.81852441819\n",
      "\n"
     ]
    }
   ],
   "source": [
    "for tol in [1e-8, 1e-6, 1e-4, 1e-2, 1e-1]:\n",
    "    log_reg_l1_diff_tol = LogisticRegression(penalty='l1', C=0.2, tol = tol, fit_intercept=True, random_state=1)\n",
    "    print('tol param =', tol)\n",
    "    print_scores(log_reg_l1_diff_tol, train[predictors], train[target])\n",
    "    print()"
   ]
  },
  {
   "cell_type": "markdown",
   "metadata": {},
   "source": [
    "All give the same results, so I will stick to the default value of 1e-4"
   ]
  },
  {
   "cell_type": "markdown",
   "metadata": {},
   "source": [
    "e) I will perform cross-validation of the model with optimal parameters on the training set. Then, will check it's performance on the whole train set and the check it on the test set."
   ]
  },
  {
   "cell_type": "code",
   "execution_count": 63,
   "metadata": {},
   "outputs": [
    {
     "name": "stdout",
     "output_type": "stream",
     "text": [
      "accuracies = [ 0.80645161  0.83870968  0.7983871   0.81300813  0.83606557]\n",
      "mean accuracy = 0.81852441819\n"
     ]
    }
   ],
   "source": [
    "# cross validation on train set\n",
    "log_reg_final = LogisticRegression(penalty='l1', C=0.2, fit_intercept=True, random_state=1)\n",
    "print_scores(log_reg_final, train[predictors], train[target])"
   ]
  },
  {
   "cell_type": "code",
   "execution_count": 64,
   "metadata": {},
   "outputs": [
    {
     "data": {
      "text/plain": [
       "0.82495948136142627"
      ]
     },
     "execution_count": 64,
     "metadata": {},
     "output_type": "execute_result"
    }
   ],
   "source": [
    "# train the model on train-set and evaluate on train set\n",
    "log_reg_final.fit(train[predictors], train[target])\n",
    "log_reg_final.score(train[predictors], train[target])"
   ]
  },
  {
   "cell_type": "code",
   "execution_count": 65,
   "metadata": {
    "scrolled": true
   },
   "outputs": [
    {
     "data": {
      "text/plain": [
       "0.84516129032258069"
      ]
     },
     "execution_count": 65,
     "metadata": {},
     "output_type": "execute_result"
    }
   ],
   "source": [
    "# check model on the test set\n",
    "log_reg_final.score(test[predictors], test[target])"
   ]
  },
  {
   "cell_type": "markdown",
   "metadata": {},
   "source": [
    "Accuracy is consistent (from 0.7984 to 0.8452). Model is not overfitting, since the score on the whole train set is 0.8249 which is consistent with other scores."
   ]
  },
  {
   "cell_type": "code",
   "execution_count": null,
   "metadata": {
    "collapsed": true
   },
   "outputs": [],
   "source": []
  },
  {
   "cell_type": "markdown",
   "metadata": {},
   "source": [
    "**_4) Determening the key factors with the final model_**"
   ]
  },
  {
   "cell_type": "markdown",
   "metadata": {},
   "source": [
    "a) Will train the model on the whole dataset and check the score."
   ]
  },
  {
   "cell_type": "code",
   "execution_count": 68,
   "metadata": {},
   "outputs": [
    {
     "data": {
      "text/plain": [
       "0.82901554404145072"
      ]
     },
     "execution_count": 68,
     "metadata": {},
     "output_type": "execute_result"
    }
   ],
   "source": [
    "full_set = dataset_normalized_unique_features\n",
    "log_reg_final.score(full_set[predictors], full_set[target])"
   ]
  },
  {
   "cell_type": "code",
   "execution_count": null,
   "metadata": {
    "collapsed": true
   },
   "outputs": [],
   "source": [
    "log_reg_final"
   ]
  },
  {
   "cell_type": "markdown",
   "metadata": {},
   "source": [
    "b) getting the coefficients on the features"
   ]
  },
  {
   "cell_type": "code",
   "execution_count": 109,
   "metadata": {
    "scrolled": true
   },
   "outputs": [],
   "source": [
    "coef_array = log_reg_final.coef_"
   ]
  },
  {
   "cell_type": "code",
   "execution_count": 104,
   "metadata": {
    "collapsed": true
   },
   "outputs": [],
   "source": [
    "coef_series = pd.Series(coef_array[0], predictors)"
   ]
  },
  {
   "cell_type": "markdown",
   "metadata": {},
   "source": [
    "Similarly as with correlation coefficients, I will get the absolute values and sort them."
   ]
  },
  {
   "cell_type": "code",
   "execution_count": 112,
   "metadata": {},
   "outputs": [],
   "source": [
    "sorted_coefficients = coef_series.apply(np.abs).sort_values(ascending=False)"
   ]
  },
  {
   "cell_type": "code",
   "execution_count": null,
   "metadata": {
    "collapsed": true
   },
   "outputs": [],
   "source": []
  },
  {
   "cell_type": "markdown",
   "metadata": {},
   "source": [
    "c) findings"
   ]
  },
  {
   "cell_type": "markdown",
   "metadata": {},
   "source": [
    "Below is the list of factors from the most important factor (v29) to the least important factors (v184_Lower Fraud Risk and all below it)."
   ]
  },
  {
   "cell_type": "code",
   "execution_count": 113,
   "metadata": {},
   "outputs": [
    {
     "data": {
      "text/plain": [
       "v29                                                   0.554249\n",
       "v204_wifi                                             0.401453\n",
       "v192                                                  0.317430\n",
       "v204_business                                         0.234247\n",
       "v195_Low                                              0.156359\n",
       "v182                                                  0.150809\n",
       "v120                                                  0.111050\n",
       "v5                                                    0.108479\n",
       "v204_residential                                      0.104587\n",
       "v204_cellular                                         0.095842\n",
       "v002                                                  0.094742\n",
       "v177                                                  0.078584\n",
       "v172.1_P                                              0.051732\n",
       "v4                                                    0.046845\n",
       "v204_mobile                                           0.033140\n",
       "v178_Certified                                        0.023075\n",
       "v172.1_N                                              0.017328\n",
       "v123                                                  0.017047\n",
       "v184_Lower Fraud Risk                                 0.000000\n",
       "v172.1_Y                                              0.000000\n",
       "v201_Moderate By Proxy Reputation And Country Code    0.000000\n",
       "v204_nan                                              0.000000\n",
       "v186_Fraud Score 1 to 100                             0.000000\n",
       "v172.1_U                                              0.000000\n",
       "v178_nan                                              0.000000\n",
       "v186_Fraud Score 301 to 600                           0.000000\n",
       "v193_No                                               0.000000\n",
       "v193_Not Sure                                         0.000000\n",
       "v175                                                  0.000000\n",
       "v001                                                  0.000000\n",
       "v174                                                  0.000000\n",
       "v173                                                  0.000000\n",
       "v204_dialup                                           0.000000\n",
       "v201_Moderate+By+Proxy+Reputation+And+Country+Code    0.000000\n",
       "v185                                                  0.000000\n",
       "v201_Moderate Risk                                    0.000000\n",
       "v184_Moderate+Fraud+Risk                              0.000000\n",
       "v181                                                  0.000000\n",
       "v186_Fraud Score 101 to 300                           0.000000\n",
       "v14                                                   0.000000\n",
       "v193_Not+Sure                                         0.000000\n",
       "v180                                                  0.000000\n",
       "v193_Yes                                              0.000000\n",
       "v204_wired                                            0.000000\n",
       "v183                                                  0.000000\n",
       "v176                                                  0.000000\n",
       "v178_Verified                                         0.000000\n",
       "v195_Moderate                                         0.000000\n",
       "v178_ValidDomain                                      0.000000\n",
       "dtype: float64"
      ]
     },
     "execution_count": 113,
     "metadata": {},
     "output_type": "execute_result"
    }
   ],
   "source": [
    "sorted_coefficients"
   ]
  },
  {
   "cell_type": "markdown",
   "metadata": {},
   "source": [
    "The most important predictors are v29, v192, v204\\*, v195_Low\\**, v182, v120, v5. \n",
    "\n",
    "These findings are consistent with the correlation table obtained earlier. The former showed consistent results, where v192, v29, v204, v182, and v120 are top factors as well.\n",
    "\n",
    "Because of similarity/redundancy I have excluded some factors earlier. Most importantly, I have excluded v191 (which is identical to v192). But, I could say that v191 is also an important regressor. \n"
   ]
  },
  {
   "cell_type": "markdown",
   "metadata": {},
   "source": [
    "\\* from which I created several dummies. Important ones are - v204_wifi, v204_business, v204_residential, v204_cellular, v204_mobile; and not important - v204_nan, v204_dialup, v204_wired. But overall I can conclude that this feature is important.\n",
    "\n",
    "\\** Below I will do some F-tests, to check if some of the factors are important statistically. It is not really part of ML-approach, it is more out of curiosity."
   ]
  },
  {
   "cell_type": "markdown",
   "metadata": {},
   "source": [
    "d) extra section - performing F tests on various predictors to assess their statistical significance."
   ]
  },
  {
   "cell_type": "code",
   "execution_count": 116,
   "metadata": {},
   "outputs": [],
   "source": [
    "from sklearn.feature_selection import f_regression"
   ]
  },
  {
   "cell_type": "markdown",
   "metadata": {},
   "source": [
    "f_regression is used to performa F tests. For the chosen predictors or groups of predictors I will show p-values of F-scores."
   ]
  },
  {
   "cell_type": "code",
   "execution_count": 131,
   "metadata": {
    "scrolled": true
   },
   "outputs": [
    {
     "data": {
      "text/plain": [
       "array([ 0.3409731,  0.5936604])"
      ]
     },
     "execution_count": 131,
     "metadata": {},
     "output_type": "execute_result"
    }
   ],
   "source": [
    "f_regression(full_set[['v195_Low','v195_Moderate']],full_set[target])[1]"
   ]
  },
  {
   "cell_type": "markdown",
   "metadata": {},
   "source": [
    "v195 - does not appear to be a statistically significatn factor."
   ]
  },
  {
   "cell_type": "code",
   "execution_count": 132,
   "metadata": {
    "scrolled": true
   },
   "outputs": [
    {
     "data": {
      "text/plain": [
       "array([  1.41016123e-06])"
      ]
     },
     "execution_count": 132,
     "metadata": {},
     "output_type": "execute_result"
    }
   ],
   "source": [
    "f_regression(full_set[['v29']],full_set[target])[1]"
   ]
  },
  {
   "cell_type": "code",
   "execution_count": 128,
   "metadata": {},
   "outputs": [
    {
     "data": {
      "text/plain": [
       "array([  5.51245921e-08])"
      ]
     },
     "execution_count": 128,
     "metadata": {},
     "output_type": "execute_result"
    }
   ],
   "source": [
    "f_regression(full_set[['v192']],full_set[target])[1]"
   ]
  },
  {
   "cell_type": "markdown",
   "metadata": {},
   "source": [
    "v29 and v129 - do appear to be a statistically significant factors."
   ]
  },
  {
   "cell_type": "code",
   "execution_count": null,
   "metadata": {
    "collapsed": true
   },
   "outputs": [],
   "source": []
  },
  {
   "cell_type": "code",
   "execution_count": null,
   "metadata": {
    "collapsed": true
   },
   "outputs": [],
   "source": []
  },
  {
   "cell_type": "code",
   "execution_count": null,
   "metadata": {
    "collapsed": true
   },
   "outputs": [],
   "source": []
  },
  {
   "cell_type": "markdown",
   "metadata": {},
   "source": [
    "## Task 3"
   ]
  },
  {
   "cell_type": "code",
   "execution_count": null,
   "metadata": {
    "collapsed": true
   },
   "outputs": [],
   "source": []
  },
  {
   "cell_type": "code",
   "execution_count": null,
   "metadata": {
    "collapsed": true
   },
   "outputs": [],
   "source": []
  },
  {
   "cell_type": "code",
   "execution_count": null,
   "metadata": {
    "collapsed": true
   },
   "outputs": [],
   "source": []
  },
  {
   "cell_type": "code",
   "execution_count": null,
   "metadata": {
    "collapsed": true
   },
   "outputs": [],
   "source": []
  },
  {
   "cell_type": "code",
   "execution_count": null,
   "metadata": {
    "collapsed": true
   },
   "outputs": [],
   "source": []
  },
  {
   "cell_type": "code",
   "execution_count": null,
   "metadata": {
    "collapsed": true
   },
   "outputs": [],
   "source": []
  },
  {
   "cell_type": "code",
   "execution_count": null,
   "metadata": {
    "collapsed": true
   },
   "outputs": [],
   "source": []
  },
  {
   "cell_type": "code",
   "execution_count": null,
   "metadata": {
    "collapsed": true
   },
   "outputs": [],
   "source": []
  },
  {
   "cell_type": "code",
   "execution_count": null,
   "metadata": {
    "collapsed": true
   },
   "outputs": [],
   "source": []
  },
  {
   "cell_type": "code",
   "execution_count": null,
   "metadata": {
    "collapsed": true
   },
   "outputs": [],
   "source": []
  },
  {
   "cell_type": "code",
   "execution_count": null,
   "metadata": {
    "collapsed": true
   },
   "outputs": [],
   "source": []
  },
  {
   "cell_type": "code",
   "execution_count": null,
   "metadata": {
    "collapsed": true
   },
   "outputs": [],
   "source": []
  },
  {
   "cell_type": "code",
   "execution_count": null,
   "metadata": {
    "collapsed": true
   },
   "outputs": [],
   "source": []
  },
  {
   "cell_type": "code",
   "execution_count": null,
   "metadata": {
    "collapsed": true
   },
   "outputs": [],
   "source": []
  },
  {
   "cell_type": "code",
   "execution_count": null,
   "metadata": {
    "collapsed": true
   },
   "outputs": [],
   "source": []
  },
  {
   "cell_type": "code",
   "execution_count": null,
   "metadata": {
    "collapsed": true
   },
   "outputs": [],
   "source": []
  },
  {
   "cell_type": "code",
   "execution_count": null,
   "metadata": {
    "collapsed": true
   },
   "outputs": [],
   "source": []
  },
  {
   "cell_type": "code",
   "execution_count": null,
   "metadata": {
    "collapsed": true
   },
   "outputs": [],
   "source": []
  },
  {
   "cell_type": "code",
   "execution_count": null,
   "metadata": {
    "collapsed": true
   },
   "outputs": [],
   "source": []
  },
  {
   "cell_type": "code",
   "execution_count": null,
   "metadata": {
    "collapsed": true
   },
   "outputs": [],
   "source": []
  },
  {
   "cell_type": "code",
   "execution_count": 79,
   "metadata": {
    "scrolled": true
   },
   "outputs": [
    {
     "data": {
      "text/plain": [
       "pandas.core.series.Series"
      ]
     },
     "execution_count": 79,
     "metadata": {},
     "output_type": "execute_result"
    }
   ],
   "source": [
    "type(corr_with_target_abs_desc)"
   ]
  },
  {
   "cell_type": "code",
   "execution_count": 80,
   "metadata": {},
   "outputs": [
    {
     "data": {
      "text/plain": [
       "(77,)"
      ]
     },
     "execution_count": 80,
     "metadata": {},
     "output_type": "execute_result"
    }
   ],
   "source": [
    "corr_with_target_abs_desc.shape"
   ]
  },
  {
   "cell_type": "code",
   "execution_count": null,
   "metadata": {
    "collapsed": true
   },
   "outputs": [],
   "source": []
  },
  {
   "cell_type": "code",
   "execution_count": null,
   "metadata": {
    "collapsed": true
   },
   "outputs": [],
   "source": []
  },
  {
   "cell_type": "code",
   "execution_count": null,
   "metadata": {
    "collapsed": true
   },
   "outputs": [],
   "source": []
  },
  {
   "cell_type": "code",
   "execution_count": null,
   "metadata": {
    "collapsed": true
   },
   "outputs": [],
   "source": []
  },
  {
   "cell_type": "code",
   "execution_count": null,
   "metadata": {
    "collapsed": true
   },
   "outputs": [],
   "source": []
  },
  {
   "cell_type": "code",
   "execution_count": null,
   "metadata": {
    "collapsed": true
   },
   "outputs": [],
   "source": []
  },
  {
   "cell_type": "code",
   "execution_count": null,
   "metadata": {
    "collapsed": true
   },
   "outputs": [],
   "source": []
  },
  {
   "cell_type": "code",
   "execution_count": null,
   "metadata": {
    "collapsed": true
   },
   "outputs": [],
   "source": []
  },
  {
   "cell_type": "code",
   "execution_count": null,
   "metadata": {},
   "outputs": [],
   "source": [
    "tmp_list = ['a','b','c']\n",
    "for i, item in enumerate(tmp_list,1):\n",
    "    print('i=',i)\n",
    "    print('item=',item)\n",
    "\n",
    "print()\n",
    "for j in range(1, len(tmp_list)):\n",
    "    print(tmp_list[j])"
   ]
  },
  {
   "cell_type": "code",
   "execution_count": null,
   "metadata": {
    "collapsed": true
   },
   "outputs": [],
   "source": []
  },
  {
   "cell_type": "code",
   "execution_count": null,
   "metadata": {
    "collapsed": true
   },
   "outputs": [],
   "source": []
  },
  {
   "cell_type": "code",
   "execution_count": null,
   "metadata": {
    "scrolled": false
   },
   "outputs": [],
   "source": [
    "corr_with_target_abs_desc[[True, True, True] + [False]*74]"
   ]
  },
  {
   "cell_type": "code",
   "execution_count": null,
   "metadata": {},
   "outputs": [],
   "source": [
    "corr_with_target_abs_desc[my_bool_list]"
   ]
  },
  {
   "cell_type": "code",
   "execution_count": null,
   "metadata": {},
   "outputs": [],
   "source": [
    "corr_with_target_abs_desc[my_bool_list].shape"
   ]
  },
  {
   "cell_type": "code",
   "execution_count": null,
   "metadata": {},
   "outputs": [],
   "source": [
    "corr_with_target_abs_desc.shape"
   ]
  },
  {
   "cell_type": "code",
   "execution_count": null,
   "metadata": {
    "collapsed": true
   },
   "outputs": [],
   "source": [
    "corr_with_target_abs_desc"
   ]
  },
  {
   "cell_type": "code",
   "execution_count": null,
   "metadata": {
    "collapsed": true
   },
   "outputs": [],
   "source": []
  },
  {
   "cell_type": "code",
   "execution_count": null,
   "metadata": {
    "collapsed": true
   },
   "outputs": [],
   "source": []
  },
  {
   "cell_type": "code",
   "execution_count": null,
   "metadata": {
    "collapsed": true
   },
   "outputs": [],
   "source": []
  },
  {
   "cell_type": "code",
   "execution_count": null,
   "metadata": {
    "collapsed": true
   },
   "outputs": [],
   "source": []
  },
  {
   "cell_type": "code",
   "execution_count": null,
   "metadata": {
    "collapsed": true
   },
   "outputs": [],
   "source": []
  },
  {
   "cell_type": "code",
   "execution_count": null,
   "metadata": {
    "collapsed": true
   },
   "outputs": [],
   "source": []
  },
  {
   "cell_type": "code",
   "execution_count": null,
   "metadata": {
    "collapsed": true
   },
   "outputs": [],
   "source": []
  },
  {
   "cell_type": "code",
   "execution_count": null,
   "metadata": {},
   "outputs": [],
   "source": [
    "log_reg.fit(train[predictors], train[target])"
   ]
  },
  {
   "cell_type": "code",
   "execution_count": null,
   "metadata": {},
   "outputs": [],
   "source": [
    "log_reg.score(train[predictors], train[target])"
   ]
  },
  {
   "cell_type": "code",
   "execution_count": null,
   "metadata": {},
   "outputs": [],
   "source": [
    "log_reg.score(test[predictors], test[target])"
   ]
  },
  {
   "cell_type": "code",
   "execution_count": null,
   "metadata": {},
   "outputs": [],
   "source": [
    "log_reg.get_params()"
   ]
  },
  {
   "cell_type": "code",
   "execution_count": null,
   "metadata": {},
   "outputs": [],
   "source": [
    "log_reg.coef_"
   ]
  },
  {
   "cell_type": "code",
   "execution_count": null,
   "metadata": {},
   "outputs": [],
   "source": [
    "coef_df = pd.DataFrame(log_reg.coef_, columns=predictors)\n",
    "coef_df"
   ]
  },
  {
   "cell_type": "code",
   "execution_count": null,
   "metadata": {},
   "outputs": [],
   "source": [
    "max(coef_df)"
   ]
  },
  {
   "cell_type": "code",
   "execution_count": null,
   "metadata": {},
   "outputs": [],
   "source": [
    "log_reg.intercept_"
   ]
  },
  {
   "cell_type": "code",
   "execution_count": null,
   "metadata": {
    "collapsed": true
   },
   "outputs": [],
   "source": []
  },
  {
   "cell_type": "code",
   "execution_count": null,
   "metadata": {
    "collapsed": true
   },
   "outputs": [],
   "source": []
  },
  {
   "cell_type": "code",
   "execution_count": null,
   "metadata": {
    "collapsed": true
   },
   "outputs": [],
   "source": []
  },
  {
   "cell_type": "code",
   "execution_count": null,
   "metadata": {
    "collapsed": true
   },
   "outputs": [],
   "source": []
  },
  {
   "cell_type": "code",
   "execution_count": null,
   "metadata": {
    "collapsed": true
   },
   "outputs": [],
   "source": []
  },
  {
   "cell_type": "code",
   "execution_count": null,
   "metadata": {},
   "outputs": [],
   "source": [
    "dataset_normalized.corr()['response'].apply(np.abs).sort_values(ascending=False)"
   ]
  },
  {
   "cell_type": "code",
   "execution_count": null,
   "metadata": {
    "scrolled": true
   },
   "outputs": [],
   "source": [
    "plt_plot = plt.matshow(dataset_filled.corr())"
   ]
  },
  {
   "cell_type": "code",
   "execution_count": null,
   "metadata": {},
   "outputs": [],
   "source": [
    "plt_fig = plt_plot.get_figure()\n",
    "plt_fig.savefig('fig_plt.png')"
   ]
  },
  {
   "cell_type": "code",
   "execution_count": null,
   "metadata": {},
   "outputs": [],
   "source": [
    "plt.savefig('graph_1.png', bbox_inches='tight')"
   ]
  },
  {
   "cell_type": "code",
   "execution_count": null,
   "metadata": {},
   "outputs": [],
   "source": [
    "%matplotlib notebook"
   ]
  },
  {
   "cell_type": "code",
   "execution_count": null,
   "metadata": {},
   "outputs": [],
   "source": [
    "%pylab qt"
   ]
  },
  {
   "cell_type": "code",
   "execution_count": null,
   "metadata": {
    "collapsed": true
   },
   "outputs": [],
   "source": [
    "%matplotlib inline"
   ]
  },
  {
   "cell_type": "code",
   "execution_count": null,
   "metadata": {},
   "outputs": [],
   "source": [
    "%matplotlib qt"
   ]
  },
  {
   "cell_type": "code",
   "execution_count": null,
   "metadata": {},
   "outputs": [],
   "source": [
    "plt.matshow(dataset_filled.corr())"
   ]
  },
  {
   "cell_type": "code",
   "execution_count": null,
   "metadata": {},
   "outputs": [],
   "source": [
    "dataset_filled.corr()"
   ]
  },
  {
   "cell_type": "code",
   "execution_count": null,
   "metadata": {
    "collapsed": true
   },
   "outputs": [],
   "source": []
  },
  {
   "cell_type": "code",
   "execution_count": null,
   "metadata": {
    "collapsed": true
   },
   "outputs": [],
   "source": []
  },
  {
   "cell_type": "code",
   "execution_count": null,
   "metadata": {
    "collapsed": true
   },
   "outputs": [],
   "source": []
  },
  {
   "cell_type": "code",
   "execution_count": null,
   "metadata": {},
   "outputs": [],
   "source": [
    "import seaborn as sns\n",
    "corr = dataset_filled.corr()\n",
    "myplot_seaborn=sns.heatmap(corr, \n",
    "            xticklabels=corr.columns.values,\n",
    "            yticklabels=corr.columns.values)"
   ]
  },
  {
   "cell_type": "code",
   "execution_count": null,
   "metadata": {},
   "outputs": [],
   "source": [
    "myfig_seaborn = myplot_seaborn.get_figure()\n",
    "myfig_seaborn.savefig('fig_seaborn.png')"
   ]
  },
  {
   "cell_type": "code",
   "execution_count": null,
   "metadata": {
    "collapsed": true
   },
   "outputs": [],
   "source": []
  },
  {
   "cell_type": "code",
   "execution_count": null,
   "metadata": {
    "collapsed": true
   },
   "outputs": [],
   "source": []
  },
  {
   "cell_type": "code",
   "execution_count": null,
   "metadata": {
    "collapsed": true
   },
   "outputs": [],
   "source": []
  },
  {
   "cell_type": "code",
   "execution_count": null,
   "metadata": {
    "collapsed": true
   },
   "outputs": [],
   "source": []
  },
  {
   "cell_type": "code",
   "execution_count": null,
   "metadata": {
    "collapsed": true
   },
   "outputs": [],
   "source": []
  },
  {
   "cell_type": "code",
   "execution_count": null,
   "metadata": {
    "collapsed": true
   },
   "outputs": [],
   "source": [
    "take only text columns "
   ]
  },
  {
   "cell_type": "code",
   "execution_count": null,
   "metadata": {
    "collapsed": true
   },
   "outputs": [],
   "source": [
    "replace ',' with '.' in floats => use regex (*[N*int','M*int])"
   ]
  },
  {
   "cell_type": "markdown",
   "metadata": {},
   "source": [
    "impute missing values!!!"
   ]
  },
  {
   "cell_type": "markdown",
   "metadata": {
    "collapsed": true
   },
   "source": [
    "normalize all data"
   ]
  },
  {
   "cell_type": "markdown",
   "metadata": {},
   "source": [
    "one hot encoder / create dummies for text information"
   ]
  },
  {
   "cell_type": "code",
   "execution_count": null,
   "metadata": {
    "collapsed": true
   },
   "outputs": [],
   "source": []
  },
  {
   "cell_type": "markdown",
   "metadata": {
    "collapsed": true
   },
   "source": [
    "train regularized regression "
   ]
  },
  {
   "cell_type": "markdown",
   "metadata": {},
   "source": [
    "dimensionality reduction"
   ]
  },
  {
   "cell_type": "code",
   "execution_count": null,
   "metadata": {
    "collapsed": true
   },
   "outputs": [],
   "source": []
  },
  {
   "cell_type": "code",
   "execution_count": null,
   "metadata": {
    "collapsed": true
   },
   "outputs": [],
   "source": []
  },
  {
   "cell_type": "markdown",
   "metadata": {},
   "source": [
    "## Task 4"
   ]
  },
  {
   "cell_type": "markdown",
   "metadata": {},
   "source": [
    "1) Deal with imbalaced dataset. Out of 798 observations, response variable is 0 in 645 observations, and it is 1 in 153 cases. It is not a very big disbalance, but it is possible that prediction accuracy would be better if I would deal with this imbalancing. (a) The simplest approach is to randomly remove 492 rows where response variable is 0, this would result in a balaced dataset where we have 153 cases of response variable being 0 and 153 casee being 1. (b) A bit better approach would be to put more weight on obseravations where response is 1. Each such observation would weigh 4.2 (645/153). (c) Employ some of the many other approaches of dealing with imbalanced dataset."
   ]
  },
  {
   "cell_type": "markdown",
   "metadata": {},
   "source": [
    "2) Columns v173, v175 and v177 contain some date information. It would be good to understand what these dates are about and then to extract some valuable features. It could be: duration, starting and end time in hours, days, months, etc. Such information could be helpful at making better predictions.\n"
   ]
  },
  {
   "cell_type": "markdown",
   "metadata": {},
   "source": [
    "3) I am mainly removing columns with many NAs. For rows I was more conservative - I was removing only those that had all NA values except for key columns. It might be beneficial to apply a threshold and remove rows that has too many missing values (similarly as I did with columns)."
   ]
  },
  {
   "cell_type": "markdown",
   "metadata": {
    "collapsed": true
   },
   "source": [
    "4) Use better techniques for dimensionality reduction"
   ]
  },
  {
   "cell_type": "markdown",
   "metadata": {},
   "source": [
    "5) Use SVM for sparse datasets"
   ]
  },
  {
   "cell_type": "markdown",
   "metadata": {
    "collapsed": true
   },
   "source": [
    "6) Drop columns that has too few variations."
   ]
  },
  {
   "cell_type": "code",
   "execution_count": null,
   "metadata": {
    "collapsed": true
   },
   "outputs": [],
   "source": []
  },
  {
   "cell_type": "code",
   "execution_count": null,
   "metadata": {
    "collapsed": true
   },
   "outputs": [],
   "source": [
    "##############################################################################################################################"
   ]
  },
  {
   "cell_type": "code",
   "execution_count": null,
   "metadata": {
    "collapsed": true
   },
   "outputs": [],
   "source": []
  },
  {
   "cell_type": "code",
   "execution_count": null,
   "metadata": {
    "collapsed": true
   },
   "outputs": [],
   "source": []
  },
  {
   "cell_type": "code",
   "execution_count": null,
   "metadata": {
    "collapsed": true
   },
   "outputs": [],
   "source": []
  },
  {
   "cell_type": "code",
   "execution_count": null,
   "metadata": {
    "collapsed": true
   },
   "outputs": [],
   "source": []
  },
  {
   "cell_type": "code",
   "execution_count": null,
   "metadata": {
    "collapsed": true
   },
   "outputs": [],
   "source": [
    "len(dataset_full_with_dummies.median())"
   ]
  },
  {
   "cell_type": "code",
   "execution_count": null,
   "metadata": {
    "collapsed": true
   },
   "outputs": [],
   "source": []
  },
  {
   "cell_type": "code",
   "execution_count": null,
   "metadata": {
    "collapsed": true
   },
   "outputs": [],
   "source": [
    "def get_col_names_without_target(dataframe, target = target):\n",
    "    column_names_list = list(dataframe.columns)\n",
    "    if target in column_names_list:\n",
    "        column_names_list.remove(target)\n",
    "    return column_names_list"
   ]
  },
  {
   "cell_type": "code",
   "execution_count": null,
   "metadata": {
    "collapsed": true
   },
   "outputs": [],
   "source": []
  },
  {
   "cell_type": "code",
   "execution_count": null,
   "metadata": {
    "collapsed": true
   },
   "outputs": [],
   "source": []
  },
  {
   "cell_type": "code",
   "execution_count": null,
   "metadata": {
    "collapsed": true
   },
   "outputs": [],
   "source": []
  },
  {
   "cell_type": "code",
   "execution_count": null,
   "metadata": {
    "collapsed": true
   },
   "outputs": [],
   "source": [
    "def get_col_names_without_target(dataframe, target = target):\n",
    "    all_column_names_list = list(dataframe.columns)\n",
    "    col_names_without_target = all_column_names_list.remove[target]\n",
    "    return list(col_names_without_target)"
   ]
  },
  {
   "cell_type": "code",
   "execution_count": null,
   "metadata": {},
   "outputs": [],
   "source": [
    "mylist = ['a', 'b', 'c']\n",
    "mylist"
   ]
  },
  {
   "cell_type": "code",
   "execution_count": null,
   "metadata": {},
   "outputs": [],
   "source": [
    "mylist.remove('a')\n",
    "mylist"
   ]
  },
  {
   "cell_type": "code",
   "execution_count": null,
   "metadata": {
    "collapsed": true
   },
   "outputs": [],
   "source": []
  },
  {
   "cell_type": "code",
   "execution_count": null,
   "metadata": {},
   "outputs": [],
   "source": [
    "'a' in mylist"
   ]
  },
  {
   "cell_type": "code",
   "execution_count": null,
   "metadata": {
    "collapsed": true
   },
   "outputs": [],
   "source": []
  },
  {
   "cell_type": "code",
   "execution_count": null,
   "metadata": {
    "collapsed": true,
    "scrolled": false
   },
   "outputs": [],
   "source": [
    "dataset_orange.domain"
   ]
  },
  {
   "cell_type": "code",
   "execution_count": null,
   "metadata": {
    "collapsed": true
   },
   "outputs": [],
   "source": [
    "dataset_orange.save(\"output_dataset_orange.csv\")"
   ]
  },
  {
   "cell_type": "code",
   "execution_count": null,
   "metadata": {
    "collapsed": true,
    "scrolled": true
   },
   "outputs": [],
   "source": [
    "dataset_normalized"
   ]
  },
  {
   "cell_type": "code",
   "execution_count": null,
   "metadata": {
    "collapsed": true
   },
   "outputs": [],
   "source": [
    "dataset_normalized.to_csv(\"output_dataset_normalized.csv\")"
   ]
  },
  {
   "cell_type": "code",
   "execution_count": null,
   "metadata": {
    "collapsed": true
   },
   "outputs": [],
   "source": [
    "dataset_full_not_cleaned_keys_dropped.to_csv('output_dataset_full_not_cleaned_keys_dropped.csv')"
   ]
  },
  {
   "cell_type": "code",
   "execution_count": null,
   "metadata": {
    "collapsed": true
   },
   "outputs": [],
   "source": [
    "set(dataset_full_with_dummies.dtypes)"
   ]
  },
  {
   "cell_type": "code",
   "execution_count": null,
   "metadata": {
    "collapsed": true
   },
   "outputs": [],
   "source": []
  },
  {
   "cell_type": "code",
   "execution_count": null,
   "metadata": {
    "collapsed": true
   },
   "outputs": [],
   "source": []
  },
  {
   "cell_type": "code",
   "execution_count": null,
   "metadata": {
    "collapsed": true
   },
   "outputs": [],
   "source": []
  },
  {
   "cell_type": "code",
   "execution_count": null,
   "metadata": {
    "collapsed": true
   },
   "outputs": [],
   "source": []
  },
  {
   "cell_type": "code",
   "execution_count": null,
   "metadata": {
    "collapsed": true
   },
   "outputs": [],
   "source": []
  },
  {
   "cell_type": "code",
   "execution_count": null,
   "metadata": {
    "collapsed": true
   },
   "outputs": [],
   "source": [
    "dataset_full_with_dummies_np[1]"
   ]
  },
  {
   "cell_type": "code",
   "execution_count": null,
   "metadata": {
    "collapsed": true
   },
   "outputs": [],
   "source": []
  },
  {
   "cell_type": "code",
   "execution_count": null,
   "metadata": {
    "collapsed": true
   },
   "outputs": [],
   "source": []
  },
  {
   "cell_type": "code",
   "execution_count": null,
   "metadata": {
    "collapsed": true
   },
   "outputs": [],
   "source": []
  },
  {
   "cell_type": "code",
   "execution_count": null,
   "metadata": {
    "collapsed": true
   },
   "outputs": [],
   "source": []
  },
  {
   "cell_type": "code",
   "execution_count": null,
   "metadata": {
    "collapsed": true
   },
   "outputs": [],
   "source": []
  },
  {
   "cell_type": "code",
   "execution_count": null,
   "metadata": {
    "collapsed": true
   },
   "outputs": [],
   "source": []
  },
  {
   "cell_type": "code",
   "execution_count": null,
   "metadata": {
    "collapsed": true
   },
   "outputs": [],
   "source": []
  },
  {
   "cell_type": "code",
   "execution_count": null,
   "metadata": {
    "collapsed": true
   },
   "outputs": [],
   "source": []
  },
  {
   "cell_type": "code",
   "execution_count": null,
   "metadata": {
    "collapsed": true
   },
   "outputs": [],
   "source": [
    "dataset_full_np2"
   ]
  },
  {
   "cell_type": "code",
   "execution_count": null,
   "metadata": {
    "collapsed": true
   },
   "outputs": [],
   "source": [
    "len(dataset_full_np2)"
   ]
  },
  {
   "cell_type": "code",
   "execution_count": null,
   "metadata": {
    "collapsed": true
   },
   "outputs": [],
   "source": [
    "dataset_full_np2.shape"
   ]
  },
  {
   "cell_type": "code",
   "execution_count": null,
   "metadata": {
    "collapsed": true
   },
   "outputs": [],
   "source": [
    "dataset_full_np2[0]"
   ]
  },
  {
   "cell_type": "code",
   "execution_count": null,
   "metadata": {
    "collapsed": true
   },
   "outputs": [],
   "source": []
  },
  {
   "cell_type": "code",
   "execution_count": null,
   "metadata": {
    "collapsed": true
   },
   "outputs": [],
   "source": []
  },
  {
   "cell_type": "code",
   "execution_count": null,
   "metadata": {
    "collapsed": true
   },
   "outputs": [],
   "source": []
  },
  {
   "cell_type": "code",
   "execution_count": null,
   "metadata": {
    "collapsed": true
   },
   "outputs": [],
   "source": []
  },
  {
   "cell_type": "code",
   "execution_count": null,
   "metadata": {
    "collapsed": true
   },
   "outputs": [],
   "source": [
    "dataset_full_np.shape"
   ]
  },
  {
   "cell_type": "code",
   "execution_count": null,
   "metadata": {
    "collapsed": true
   },
   "outputs": [],
   "source": [
    "len(dataset_full_np)"
   ]
  },
  {
   "cell_type": "code",
   "execution_count": null,
   "metadata": {
    "collapsed": true
   },
   "outputs": [],
   "source": [
    "type(dataset_full_np)"
   ]
  },
  {
   "cell_type": "code",
   "execution_count": null,
   "metadata": {
    "collapsed": true
   },
   "outputs": [],
   "source": [
    "dataset_full_np"
   ]
  },
  {
   "cell_type": "code",
   "execution_count": null,
   "metadata": {
    "collapsed": true
   },
   "outputs": [],
   "source": [
    "dataset_full"
   ]
  },
  {
   "cell_type": "code",
   "execution_count": null,
   "metadata": {
    "collapsed": true
   },
   "outputs": [],
   "source": []
  },
  {
   "cell_type": "code",
   "execution_count": null,
   "metadata": {
    "collapsed": true
   },
   "outputs": [],
   "source": []
  },
  {
   "cell_type": "code",
   "execution_count": null,
   "metadata": {
    "collapsed": true
   },
   "outputs": [],
   "source": []
  },
  {
   "cell_type": "code",
   "execution_count": null,
   "metadata": {
    "collapsed": true
   },
   "outputs": [],
   "source": []
  },
  {
   "cell_type": "code",
   "execution_count": null,
   "metadata": {
    "collapsed": true
   },
   "outputs": [],
   "source": []
  },
  {
   "cell_type": "code",
   "execution_count": null,
   "metadata": {
    "collapsed": true
   },
   "outputs": [],
   "source": []
  },
  {
   "cell_type": "code",
   "execution_count": null,
   "metadata": {
    "collapsed": true
   },
   "outputs": [],
   "source": []
  },
  {
   "cell_type": "code",
   "execution_count": null,
   "metadata": {
    "collapsed": true
   },
   "outputs": [],
   "source": []
  },
  {
   "cell_type": "code",
   "execution_count": null,
   "metadata": {
    "collapsed": true
   },
   "outputs": [],
   "source": [
    "dataset_0_and_1"
   ]
  },
  {
   "cell_type": "code",
   "execution_count": null,
   "metadata": {
    "collapsed": true
   },
   "outputs": [],
   "source": [
    "dataset_full.loc[:5]"
   ]
  },
  {
   "cell_type": "code",
   "execution_count": null,
   "metadata": {
    "collapsed": true
   },
   "outputs": [],
   "source": [
    "len(dataset_full)"
   ]
  },
  {
   "cell_type": "code",
   "execution_count": null,
   "metadata": {
    "collapsed": true
   },
   "outputs": [],
   "source": [
    "dataset_full_with_dummies.loc[:5]"
   ]
  },
  {
   "cell_type": "code",
   "execution_count": null,
   "metadata": {
    "collapsed": true
   },
   "outputs": [],
   "source": [
    "set(dataset_full_with_dummies.dtypes)"
   ]
  },
  {
   "cell_type": "code",
   "execution_count": null,
   "metadata": {
    "collapsed": true
   },
   "outputs": [],
   "source": [
    "dataset_full_with_dummies.to_csv('output_dataset_full_with_dummies.csv')"
   ]
  },
  {
   "cell_type": "code",
   "execution_count": null,
   "metadata": {
    "collapsed": true
   },
   "outputs": [],
   "source": [
    "dataset_full_time_converted.loc[5:]"
   ]
  },
  {
   "cell_type": "code",
   "execution_count": null,
   "metadata": {
    "collapsed": true
   },
   "outputs": [],
   "source": [
    "dataset_full_time_converted.dtypes"
   ]
  },
  {
   "cell_type": "code",
   "execution_count": null,
   "metadata": {
    "collapsed": true
   },
   "outputs": [],
   "source": [
    "dataset_full_time_converted.to_csv('output_dataset_full_time_converted.csv')"
   ]
  },
  {
   "cell_type": "code",
   "execution_count": null,
   "metadata": {
    "collapsed": true
   },
   "outputs": [],
   "source": [
    "dataset_filled.to_csv('output_dataset_filled.csv')"
   ]
  },
  {
   "cell_type": "code",
   "execution_count": null,
   "metadata": {
    "collapsed": true
   },
   "outputs": [],
   "source": []
  },
  {
   "cell_type": "code",
   "execution_count": null,
   "metadata": {
    "collapsed": true
   },
   "outputs": [],
   "source": [
    "dataset_0.shape[1]"
   ]
  },
  {
   "cell_type": "code",
   "execution_count": null,
   "metadata": {
    "collapsed": true
   },
   "outputs": [],
   "source": [
    "dataset_example = dataset_1.copy(deep=True)\n",
    "dataset_example.shape"
   ]
  },
  {
   "cell_type": "code",
   "execution_count": null,
   "metadata": {
    "collapsed": true
   },
   "outputs": [],
   "source": []
  },
  {
   "cell_type": "code",
   "execution_count": null,
   "metadata": {
    "collapsed": true
   },
   "outputs": [],
   "source": [
    "#dataset_example = dataset_example.dropna(axis=0, how='all', subset=all_columns_no_key)"
   ]
  },
  {
   "cell_type": "code",
   "execution_count": null,
   "metadata": {
    "collapsed": true
   },
   "outputs": [],
   "source": [
    "#dataset_example"
   ]
  },
  {
   "cell_type": "code",
   "execution_count": null,
   "metadata": {
    "collapsed": true
   },
   "outputs": [],
   "source": []
  },
  {
   "cell_type": "code",
   "execution_count": null,
   "metadata": {
    "collapsed": true
   },
   "outputs": [],
   "source": [
    "list(dataset_0)"
   ]
  },
  {
   "cell_type": "code",
   "execution_count": null,
   "metadata": {
    "collapsed": true
   },
   "outputs": [],
   "source": [
    "dataset_0"
   ]
  },
  {
   "cell_type": "code",
   "execution_count": null,
   "metadata": {
    "collapsed": true
   },
   "outputs": [],
   "source": [
    "#set(dataset_1)"
   ]
  },
  {
   "cell_type": "code",
   "execution_count": null,
   "metadata": {
    "collapsed": true
   },
   "outputs": [],
   "source": [
    "dataset_1"
   ]
  },
  {
   "cell_type": "code",
   "execution_count": null,
   "metadata": {
    "collapsed": true
   },
   "outputs": [],
   "source": [
    "#list(dataset_2)"
   ]
  },
  {
   "cell_type": "code",
   "execution_count": null,
   "metadata": {
    "collapsed": true
   },
   "outputs": [],
   "source": [
    "dataset_2"
   ]
  },
  {
   "cell_type": "code",
   "execution_count": null,
   "metadata": {
    "collapsed": true
   },
   "outputs": [],
   "source": []
  },
  {
   "cell_type": "code",
   "execution_count": null,
   "metadata": {
    "collapsed": true
   },
   "outputs": [],
   "source": []
  },
  {
   "cell_type": "code",
   "execution_count": null,
   "metadata": {
    "collapsed": true
   },
   "outputs": [],
   "source": []
  },
  {
   "cell_type": "code",
   "execution_count": null,
   "metadata": {},
   "outputs": [],
   "source": [
    " df1 = pd.DataFrame({'A': ['yes', 'yes', 'no', 'maybe'],\n",
    "                        'B': ['cat1', 'cat1', 'cat2', np.nan],\n",
    "                        'C': [1.6, 5.3, 0.0, 7.3],\n",
    "                        'D': [6, 3, 2, 2]},  index=[0, 1, 2, 3])\n",
    "df1    "
   ]
  },
  {
   "cell_type": "code",
   "execution_count": null,
   "metadata": {
    "collapsed": true
   },
   "outputs": [],
   "source": [
    "pd.get_dummies(df1, dummy_na=True)"
   ]
  },
  {
   "cell_type": "code",
   "execution_count": null,
   "metadata": {
    "collapsed": true
   },
   "outputs": [],
   "source": []
  },
  {
   "cell_type": "code",
   "execution_count": null,
   "metadata": {},
   "outputs": [],
   "source": [
    "df2 = pd.DataFrame({'A': [1, 3, 4, 5],\n",
    "                        'B': [3.5, 6.6, 7.89, np.nan],\n",
    "                        'C': [1.6, 5.3, 0.0, 7.3],\n",
    "                        'D': [6, 3, np.nan, 2]},  index=[0, 1, 2, 3])\n",
    "df2    "
   ]
  },
  {
   "cell_type": "code",
   "execution_count": null,
   "metadata": {
    "collapsed": true
   },
   "outputs": [],
   "source": [
    "df2_np = df2.values\n",
    "df2_np"
   ]
  },
  {
   "cell_type": "code",
   "execution_count": null,
   "metadata": {},
   "outputs": [],
   "source": [
    "df3 = pd.DataFrame({'E': [4, 3, 3, 5]})\n",
    "df3"
   ]
  },
  {
   "cell_type": "code",
   "execution_count": null,
   "metadata": {},
   "outputs": [],
   "source": [
    "df2['e'] = df3\n",
    "df2"
   ]
  },
  {
   "cell_type": "code",
   "execution_count": null,
   "metadata": {
    "collapsed": true
   },
   "outputs": [],
   "source": []
  },
  {
   "cell_type": "code",
   "execution_count": null,
   "metadata": {
    "collapsed": true
   },
   "outputs": [],
   "source": []
  },
  {
   "cell_type": "code",
   "execution_count": null,
   "metadata": {
    "collapsed": true
   },
   "outputs": [],
   "source": [
    "domain = Orange.data.Domain([size, height, shape], speed)"
   ]
  },
  {
   "cell_type": "code",
   "execution_count": null,
   "metadata": {
    "collapsed": true
   },
   "outputs": [],
   "source": [
    "#df2_orange = Orange.data.Table(my_domain, df2_np)\n",
    "#df2_orange"
   ]
  },
  {
   "cell_type": "code",
   "execution_count": null,
   "metadata": {
    "collapsed": true
   },
   "outputs": [],
   "source": [
    "df2_orange.domain"
   ]
  },
  {
   "cell_type": "code",
   "execution_count": null,
   "metadata": {
    "collapsed": true
   },
   "outputs": [],
   "source": [
    "type(df2_orange.domain)"
   ]
  },
  {
   "cell_type": "code",
   "execution_count": null,
   "metadata": {
    "collapsed": true
   },
   "outputs": [],
   "source": []
  },
  {
   "cell_type": "code",
   "execution_count": null,
   "metadata": {
    "collapsed": true
   },
   "outputs": [],
   "source": []
  },
  {
   "cell_type": "code",
   "execution_count": null,
   "metadata": {
    "collapsed": true
   },
   "outputs": [],
   "source": [
    "set_np = np.array([[1, 2, 3], [5, 9.8, 14.7],\n",
    "                    [2, 4, np.nan], [1, 2, 3.5], \n",
    "                    [1, 2, 3], [3, 6.1, 8.9],\n",
    "                    [2, 4, 6], [3, 5.9, np.nan],\n",
    "                    [1, 2, 3], [1, 1.8, 3.3]],)\n",
    "set_np"
   ]
  },
  {
   "cell_type": "code",
   "execution_count": null,
   "metadata": {
    "collapsed": true
   },
   "outputs": [],
   "source": [
    "set_pd = pd.DataFrame(set_np, columns = ['A', 'B', 'C'])\n",
    "set_pd"
   ]
  },
  {
   "cell_type": "code",
   "execution_count": null,
   "metadata": {
    "collapsed": true
   },
   "outputs": [],
   "source": [
    "set_filled=set_pd.copy(deep=True)\n",
    "set_filled.fillna(set_pd.median())"
   ]
  },
  {
   "cell_type": "code",
   "execution_count": null,
   "metadata": {
    "collapsed": true
   },
   "outputs": [],
   "source": [
    "set_pd.median()"
   ]
  },
  {
   "cell_type": "code",
   "execution_count": null,
   "metadata": {
    "collapsed": true
   },
   "outputs": [],
   "source": []
  },
  {
   "cell_type": "code",
   "execution_count": null,
   "metadata": {
    "collapsed": true
   },
   "outputs": [],
   "source": [
    "orange_set = Orange.data.Table(set_np)\n",
    "orange_set"
   ]
  },
  {
   "cell_type": "code",
   "execution_count": null,
   "metadata": {
    "collapsed": true
   },
   "outputs": [],
   "source": [
    "from Orange.preprocess import Impute\n",
    "imputer = Orange.preprocess.Impute.ModelConstructor()\n",
    "imputer.learner_continuous = imputer.learner_discrete = Orange.classification.tree.TreeLearner(min_subset=20)\n",
    "#imputer.learner_continuous = Orange.ensemble.forest.RandomForestLearner\n",
    "imputer = imputer(orange_set)"
   ]
  },
  {
   "cell_type": "code",
   "execution_count": null,
   "metadata": {
    "collapsed": true
   },
   "outputs": [],
   "source": [
    "from Orange.preprocess import Impute"
   ]
  },
  {
   "cell_type": "code",
   "execution_count": null,
   "metadata": {
    "collapsed": true
   },
   "outputs": [],
   "source": []
  },
  {
   "cell_type": "code",
   "execution_count": null,
   "metadata": {
    "collapsed": true
   },
   "outputs": [],
   "source": []
  },
  {
   "cell_type": "code",
   "execution_count": null,
   "metadata": {
    "collapsed": true
   },
   "outputs": [],
   "source": []
  },
  {
   "cell_type": "code",
   "execution_count": null,
   "metadata": {
    "collapsed": true
   },
   "outputs": [],
   "source": []
  },
  {
   "cell_type": "code",
   "execution_count": null,
   "metadata": {
    "collapsed": true
   },
   "outputs": [],
   "source": []
  },
  {
   "cell_type": "code",
   "execution_count": null,
   "metadata": {
    "collapsed": true
   },
   "outputs": [],
   "source": []
  },
  {
   "cell_type": "code",
   "execution_count": null,
   "metadata": {},
   "outputs": [],
   "source": [
    "na_df = pd.DataFrame([[1, 7, np.nan, np.nan, np.nan], [1, 7, np.nan, np.nan, np.nan],\n",
    "                    [1, 2, 3, 4, 5], [3, 4, 5, 1, np.nan],\n",
    "                    [6, 4, 5, np.nan, np.nan], [1, 2, np.nan, np.nan, np.nan], \n",
    "                    [1, 7, np.nan, np.nan, np.nan], [1, 7, np.nan, np.nan, np.nan],\n",
    "                    [1, 7, np.nan, np.nan, np.nan], [1, 7, np.nan, np.nan, np.nan],\n",
    "                    [1, 7, np.nan, np.nan, np.nan], [1, 7, np.nan, np.nan, np.nan]],\n",
    "                    columns=['key1','A','B','C','D'])\n",
    "na_df"
   ]
  },
  {
   "cell_type": "code",
   "execution_count": null,
   "metadata": {},
   "outputs": [],
   "source": [
    "na_df4 = na_df.copy(deep=True)\n",
    "na_df4 = drop_rows_and_cols_with_NA_below_thresholds(na_df4, key_names=key_names, col_thresh=0.1, row_thresh=0.6).loc[:100]\n",
    "na_df4"
   ]
  },
  {
   "cell_type": "code",
   "execution_count": null,
   "metadata": {
    "collapsed": true
   },
   "outputs": [],
   "source": [
    "na_df4 = na_df.copy(deep=True)\n",
    "na_df4 = na_df4.dropna(axis=1, thresh=1) # droping NA columns\n",
    "na_df4"
   ]
  },
  {
   "cell_type": "markdown",
   "metadata": {},
   "source": []
  },
  {
   "cell_type": "code",
   "execution_count": null,
   "metadata": {
    "collapsed": true
   },
   "outputs": [],
   "source": []
  },
  {
   "cell_type": "code",
   "execution_count": null,
   "metadata": {
    "collapsed": true
   },
   "outputs": [],
   "source": [
    "na_df2=na_df.copy(deep=True)\n",
    "na_df2 = na_df2.dropna(axis=0, how='all',subset={'B','C','A'})\n",
    "na_df2"
   ]
  },
  {
   "cell_type": "code",
   "execution_count": null,
   "metadata": {
    "collapsed": true
   },
   "outputs": [],
   "source": [
    "na_df_columns = list(na_df.columns)\n",
    "na_df_columns"
   ]
  },
  {
   "cell_type": "code",
   "execution_count": null,
   "metadata": {
    "collapsed": true
   },
   "outputs": [],
   "source": [
    "na_df_columns_set=set(na_df_columns)\n",
    "na_df_columns_set"
   ]
  },
  {
   "cell_type": "code",
   "execution_count": null,
   "metadata": {
    "collapsed": true
   },
   "outputs": [],
   "source": [
    "list(na_df_columns_set)"
   ]
  },
  {
   "cell_type": "code",
   "execution_count": null,
   "metadata": {
    "collapsed": true
   },
   "outputs": [],
   "source": [
    "set(na_df2)"
   ]
  },
  {
   "cell_type": "code",
   "execution_count": null,
   "metadata": {
    "collapsed": true
   },
   "outputs": [],
   "source": [
    "na_df3=na_df.copy(deep=True)\n",
    "drop_NA_only_columns_and_rows(na_df3)"
   ]
  },
  {
   "cell_type": "code",
   "execution_count": null,
   "metadata": {
    "collapsed": true
   },
   "outputs": [],
   "source": []
  },
  {
   "cell_type": "code",
   "execution_count": null,
   "metadata": {
    "collapsed": true
   },
   "outputs": [],
   "source": [
    "[1,2,3] - [1,2]"
   ]
  },
  {
   "cell_type": "code",
   "execution_count": null,
   "metadata": {
    "collapsed": true
   },
   "outputs": [],
   "source": [
    "set([1,2,3]) - set([1,2,4])"
   ]
  },
  {
   "cell_type": "code",
   "execution_count": null,
   "metadata": {
    "collapsed": true
   },
   "outputs": [],
   "source": []
  },
  {
   "cell_type": "code",
   "execution_count": null,
   "metadata": {
    "collapsed": true
   },
   "outputs": [],
   "source": [
    "#old drop NA function v1\n",
    "def drop_NA_only_columns_and_rows(input_df, key_names=key_names):\n",
    "    df = input_df.copy(deep=True)\n",
    "    df_columns = set(df)\n",
    "    df_columns_without_keys = df_columns - set(key_names)\n",
    "    df = df.dropna(axis=0, how='all', subset=df_columns_without_keys) # droping rows that have all NA values except for keys\n",
    "    df = df.dropna(axis=1, how='all') # droping NA columns\n",
    "    return df"
   ]
  },
  {
   "cell_type": "code",
   "execution_count": null,
   "metadata": {
    "collapsed": true
   },
   "outputs": [],
   "source": [
    "#old drop NA function v2\n",
    "def drop_rows_with_NA_only_and_cols_with_NA_below_threshold(input_df, key_names=key_names, threshold_percent=0.20):\n",
    "    df = input_df.copy(deep=True)\n",
    "    \n",
    "    df_columns = set(df)\n",
    "    df_columns_without_keys = df_columns - set(key_names)\n",
    "    df = df.dropna(axis=0, how='all', subset=df_columns_without_keys) # droping rows that have all NA values except for keys\n",
    "    \n",
    "    number_of_rows = len(df)\n",
    "    threshold_integer = round(threshold_percent * number_of_rows)\n",
    "    df = df.dropna(axis=1, thresh=threshold_integer) # droping columns that have non-NA cell count is below threshold\n",
    "    return df"
   ]
  },
  {
   "cell_type": "code",
   "execution_count": null,
   "metadata": {
    "collapsed": true
   },
   "outputs": [],
   "source": [
    "#old with regex\n",
    "#function to replace ',' with '.'\n",
    "#import re\n",
    "def replace_commas_with_dots_in_string(single_string):\n",
    "    if type(single_string) == str:\n",
    "        ##df = input_dataframe.copy(deep=True)\n",
    "        ##regex_input = '^[0-9]+,[0-9]+$'\n",
    "        ##regex_output = '^[0-9]+\\.[0-9]+$'\n",
    "        ##single_string = re.sub('^[0-9]+,[0-9]+$', '^[0-9]+\\.[0-9]+$', single_string)\n",
    "        ##df.replace(to_replace=regex_input, value=regex_output, regex=True)\n",
    "        single_string = single_string.replace(',','.')\n",
    "    return single_string"
   ]
  },
  {
   "cell_type": "code",
   "execution_count": null,
   "metadata": {
    "collapsed": true
   },
   "outputs": [],
   "source": [
    "dataset_full_clean"
   ]
  },
  {
   "cell_type": "code",
   "execution_count": null,
   "metadata": {
    "collapsed": true
   },
   "outputs": [],
   "source": [
    "list(dataset_full_clean.columns)"
   ]
  },
  {
   "cell_type": "code",
   "execution_count": null,
   "metadata": {
    "collapsed": true
   },
   "outputs": [],
   "source": [
    "col_names_no_key_no_target = get_col_names_without_target_and_keys(dataset_full_clean)"
   ]
  },
  {
   "cell_type": "code",
   "execution_count": null,
   "metadata": {
    "collapsed": true
   },
   "outputs": [],
   "source": [
    "dataset_full_clean[col_names_no_key_no_target]"
   ]
  },
  {
   "cell_type": "code",
   "execution_count": null,
   "metadata": {
    "collapsed": true
   },
   "outputs": [],
   "source": [
    "dataset_full_clean[col_names_no_key_no_target].shape"
   ]
  },
  {
   "cell_type": "code",
   "execution_count": null,
   "metadata": {
    "collapsed": true
   },
   "outputs": [],
   "source": [
    "dataset_full_clean.shape"
   ]
  },
  {
   "cell_type": "code",
   "execution_count": null,
   "metadata": {
    "collapsed": true
   },
   "outputs": [],
   "source": [
    "dataset_full_clean[col_names_no_key_no_target]"
   ]
  },
  {
   "cell_type": "code",
   "execution_count": null,
   "metadata": {
    "collapsed": true
   },
   "outputs": [],
   "source": [
    "col_names_no_key_no_target"
   ]
  },
  {
   "cell_type": "code",
   "execution_count": null,
   "metadata": {
    "collapsed": true
   },
   "outputs": [],
   "source": []
  },
  {
   "cell_type": "code",
   "execution_count": null,
   "metadata": {
    "collapsed": true
   },
   "outputs": [],
   "source": []
  },
  {
   "cell_type": "code",
   "execution_count": null,
   "metadata": {
    "collapsed": true
   },
   "outputs": [],
   "source": [
    "dataset_full_clean.dtypes"
   ]
  },
  {
   "cell_type": "code",
   "execution_count": null,
   "metadata": {
    "collapsed": true
   },
   "outputs": [],
   "source": [
    "dataset_full_clean['v4']"
   ]
  },
  {
   "cell_type": "code",
   "execution_count": null,
   "metadata": {
    "collapsed": true
   },
   "outputs": [],
   "source": [
    "dataset_full_clean['v12']"
   ]
  },
  {
   "cell_type": "code",
   "execution_count": null,
   "metadata": {
    "collapsed": true
   },
   "outputs": [],
   "source": []
  },
  {
   "cell_type": "code",
   "execution_count": null,
   "metadata": {
    "collapsed": true
   },
   "outputs": [],
   "source": [
    "na_df = pd.DataFrame([[1.5, \"2,5\", 3, 4, 5], [3.5, 4.5, 5, 1, np.nan],\n",
    "                    [6, \"4,4\", 5, \"text with 4,5\", \"4,5 another text\"], [1, 2, np.nan, np.nan, np.nan]],\n",
    "                    columns=['key1','A','B','C','D'])\n",
    "na_df"
   ]
  },
  {
   "cell_type": "code",
   "execution_count": null,
   "metadata": {
    "collapsed": true
   },
   "outputs": [],
   "source": [
    "na_df = na_df.applymap(replace_commas_with_dots_in_string)\n",
    "na_df"
   ]
  },
  {
   "cell_type": "code",
   "execution_count": null,
   "metadata": {
    "collapsed": true
   },
   "outputs": [],
   "source": [
    "na_df.dtypes"
   ]
  },
  {
   "cell_type": "code",
   "execution_count": null,
   "metadata": {
    "collapsed": true
   },
   "outputs": [],
   "source": [
    "na_df = na_df.applymap(convert_floats_in_string_to_floats)\n",
    "na_df"
   ]
  },
  {
   "cell_type": "code",
   "execution_count": null,
   "metadata": {
    "collapsed": true
   },
   "outputs": [],
   "source": [
    "na_df.dtypes"
   ]
  },
  {
   "cell_type": "code",
   "execution_count": null,
   "metadata": {
    "collapsed": true
   },
   "outputs": [],
   "source": []
  },
  {
   "cell_type": "code",
   "execution_count": null,
   "metadata": {
    "collapsed": true
   },
   "outputs": [],
   "source": [
    "replace_commas_with_dots_in_df(na_df)"
   ]
  },
  {
   "cell_type": "code",
   "execution_count": null,
   "metadata": {
    "collapsed": true
   },
   "outputs": [],
   "source": [
    "na_df.replace(\",\",\".\")"
   ]
  },
  {
   "cell_type": "code",
   "execution_count": null,
   "metadata": {
    "collapsed": true
   },
   "outputs": [],
   "source": []
  },
  {
   "cell_type": "code",
   "execution_count": null,
   "metadata": {
    "collapsed": true
   },
   "outputs": [],
   "source": [
    "na_df"
   ]
  },
  {
   "cell_type": "code",
   "execution_count": null,
   "metadata": {
    "collapsed": true
   },
   "outputs": [],
   "source": [
    "na_df.drop('B', axis=1)"
   ]
  },
  {
   "cell_type": "code",
   "execution_count": null,
   "metadata": {
    "collapsed": true
   },
   "outputs": [],
   "source": [
    "na_df = na_df.drop(['A','B'], axis=1)\n",
    "na_df"
   ]
  },
  {
   "cell_type": "code",
   "execution_count": null,
   "metadata": {
    "collapsed": true
   },
   "outputs": [],
   "source": [
    "na_df"
   ]
  },
  {
   "cell_type": "code",
   "execution_count": null,
   "metadata": {
    "collapsed": true
   },
   "outputs": [],
   "source": []
  },
  {
   "cell_type": "code",
   "execution_count": null,
   "metadata": {
    "collapsed": true
   },
   "outputs": [],
   "source": []
  },
  {
   "cell_type": "code",
   "execution_count": null,
   "metadata": {
    "collapsed": true
   },
   "outputs": [],
   "source": [
    "dataset_full.to_csv('output_dataset_full.csv')"
   ]
  },
  {
   "cell_type": "code",
   "execution_count": null,
   "metadata": {
    "collapsed": true
   },
   "outputs": [],
   "source": [
    "dataset_full"
   ]
  },
  {
   "cell_type": "code",
   "execution_count": null,
   "metadata": {
    "collapsed": true,
    "scrolled": true
   },
   "outputs": [],
   "source": [
    "dataset_full.dtypes"
   ]
  },
  {
   "cell_type": "code",
   "execution_count": null,
   "metadata": {
    "collapsed": true
   },
   "outputs": [],
   "source": []
  },
  {
   "cell_type": "code",
   "execution_count": null,
   "metadata": {
    "collapsed": true
   },
   "outputs": [],
   "source": [
    "int(5.5)"
   ]
  },
  {
   "cell_type": "code",
   "execution_count": null,
   "metadata": {
    "collapsed": true
   },
   "outputs": [],
   "source": []
  },
  {
   "cell_type": "code",
   "execution_count": null,
   "metadata": {
    "collapsed": true
   },
   "outputs": [],
   "source": [
    "dataset_full_not_cleaned"
   ]
  },
  {
   "cell_type": "code",
   "execution_count": null,
   "metadata": {
    "collapsed": true
   },
   "outputs": [],
   "source": []
  },
  {
   "cell_type": "code",
   "execution_count": null,
   "metadata": {
    "collapsed": true
   },
   "outputs": [],
   "source": [
    "df_string_only = dataset_full.select_dtypes(include=['object']).copy(deep=True)"
   ]
  },
  {
   "cell_type": "code",
   "execution_count": null,
   "metadata": {
    "collapsed": true
   },
   "outputs": [],
   "source": [
    "df_string_only.drop(['v173','v175','v177'], axis=1)"
   ]
  },
  {
   "cell_type": "code",
   "execution_count": null,
   "metadata": {
    "collapsed": true
   },
   "outputs": [],
   "source": [
    "df_string_only = df_string_only.drop(['v173','v175','v177'], axis=1).copy(deep=True)"
   ]
  },
  {
   "cell_type": "code",
   "execution_count": null,
   "metadata": {
    "collapsed": true
   },
   "outputs": [],
   "source": [
    "df_string_only"
   ]
  },
  {
   "cell_type": "code",
   "execution_count": null,
   "metadata": {
    "collapsed": true
   },
   "outputs": [],
   "source": [
    "pd.get_dummies(df_string_only)"
   ]
  },
  {
   "cell_type": "code",
   "execution_count": null,
   "metadata": {
    "collapsed": true
   },
   "outputs": [],
   "source": []
  },
  {
   "cell_type": "code",
   "execution_count": null,
   "metadata": {
    "collapsed": true
   },
   "outputs": [],
   "source": []
  },
  {
   "cell_type": "code",
   "execution_count": null,
   "metadata": {
    "collapsed": true
   },
   "outputs": [],
   "source": [
    "df1 = pd.DataFrame([['A', \"B\", 'YES', 4, 5], ['A', \"B\", 'YES', 1, np.nan],\n",
    "                    ['C', \"D\", 'NO', 5, 4], ['C',np.nan, 'NO', np.nan, np.nan]],\n",
    "                    columns=['col1','col2','col3','col4','col5'])\n",
    "df1"
   ]
  },
  {
   "cell_type": "code",
   "execution_count": null,
   "metadata": {
    "collapsed": true
   },
   "outputs": [],
   "source": [
    "pd.get_dummies(df1)"
   ]
  },
  {
   "cell_type": "code",
   "execution_count": null,
   "metadata": {
    "collapsed": true
   },
   "outputs": [],
   "source": [
    "pd.get_dummies(df1, dummy_na=True)"
   ]
  },
  {
   "cell_type": "code",
   "execution_count": null,
   "metadata": {
    "collapsed": true
   },
   "outputs": [],
   "source": []
  },
  {
   "cell_type": "code",
   "execution_count": null,
   "metadata": {
    "collapsed": true
   },
   "outputs": [],
   "source": []
  },
  {
   "cell_type": "code",
   "execution_count": null,
   "metadata": {
    "collapsed": true
   },
   "outputs": [],
   "source": []
  },
  {
   "cell_type": "code",
   "execution_count": null,
   "metadata": {
    "collapsed": true
   },
   "outputs": [],
   "source": [
    "pd.core.dtypes.common.is_datetime_or_timedelta_dtype(dates)"
   ]
  },
  {
   "cell_type": "code",
   "execution_count": null,
   "metadata": {
    "collapsed": true
   },
   "outputs": [],
   "source": [
    "pd.core.dtypes.common.is_datetime64_ns_dtype(dates)|pd.core.dtypes.common.is_timedelta64_ns_dtype(dates)"
   ]
  },
  {
   "cell_type": "code",
   "execution_count": null,
   "metadata": {
    "collapsed": true
   },
   "outputs": [],
   "source": [
    "pd.to_datetime(dates, errors='raise', dayfirst=False, yearfirst=False, utc=None, box=True, format=None, exact=True, unit=None, infer_datetime_format=False, origin='unix')"
   ]
  },
  {
   "cell_type": "code",
   "execution_count": null,
   "metadata": {
    "collapsed": true
   },
   "outputs": [],
   "source": []
  },
  {
   "cell_type": "code",
   "execution_count": null,
   "metadata": {
    "collapsed": true
   },
   "outputs": [],
   "source": [
    "fake_dates = dataset_full['v197'].copy(deep=True)"
   ]
  },
  {
   "cell_type": "code",
   "execution_count": null,
   "metadata": {
    "collapsed": true
   },
   "outputs": [],
   "source": [
    "fake_dates.loc[:10]"
   ]
  },
  {
   "cell_type": "code",
   "execution_count": null,
   "metadata": {
    "collapsed": true
   },
   "outputs": [],
   "source": []
  },
  {
   "cell_type": "code",
   "execution_count": null,
   "metadata": {
    "collapsed": true
   },
   "outputs": [],
   "source": []
  },
  {
   "cell_type": "code",
   "execution_count": null,
   "metadata": {
    "collapsed": true
   },
   "outputs": [],
   "source": []
  },
  {
   "cell_type": "code",
   "execution_count": null,
   "metadata": {
    "collapsed": true
   },
   "outputs": [],
   "source": []
  },
  {
   "cell_type": "code",
   "execution_count": null,
   "metadata": {
    "collapsed": true
   },
   "outputs": [],
   "source": [
    "#old\n",
    "def get_col_names_without_target_and_keys(dataframe, key_names = key_names, target = target):\n",
    "    all_column_names_set = set(dataframe)\n",
    "    col_names_without_target_and_keys = all_column_names_set - set(key_names) - set([target])\n",
    "    return list(col_names_without_target_and_keys)"
   ]
  },
  {
   "cell_type": "code",
   "execution_count": null,
   "metadata": {
    "collapsed": true
   },
   "outputs": [],
   "source": []
  },
  {
   "cell_type": "code",
   "execution_count": null,
   "metadata": {
    "collapsed": true
   },
   "outputs": [],
   "source": [
    "import re\n",
    "def check_if_date(element):\n",
    "    if type(element) == str:\n",
    "        ##df = input_dataframe.copy(deep=True)\n",
    "        ##regex_input = '^[0-9]+,[0-9]+$'\n",
    "        ##regex_output = '^[0-9]+\\.[0-9]+$'\n",
    "        ##single_string = re.sub('^[0-9]+,[0-9]+$', '^[0-9]+\\.[0-9]+$', single_string)\n",
    "        ##df.replace(to_replace=regex_input, value=regex_output, regex=True)\n",
    "        single_string = single_string.replace(',','.')\n",
    "    return single_string"
   ]
  },
  {
   "cell_type": "code",
   "execution_count": null,
   "metadata": {
    "collapsed": true
   },
   "outputs": [],
   "source": []
  },
  {
   "cell_type": "code",
   "execution_count": null,
   "metadata": {
    "collapsed": true
   },
   "outputs": [],
   "source": [
    "#old"
   ]
  },
  {
   "cell_type": "markdown",
   "metadata": {},
   "source": [
    "(d) Python uses '.' as a decimal point. However, in datasets sometimes we get ',' as a decimal point. Need to replace ',' with '.'. After this is done, will need to convert floats stored as string to Python floats. Integer columns will also be converted to floats."
   ]
  },
  {
   "cell_type": "code",
   "execution_count": null,
   "metadata": {
    "collapsed": true
   },
   "outputs": [],
   "source": [
    "def replace_commas_with_dots_in_string(single_string):\n",
    "    if type(single_string) == str:\n",
    "        single_string = single_string.replace(',','.')\n",
    "    return single_string"
   ]
  },
  {
   "cell_type": "code",
   "execution_count": null,
   "metadata": {
    "collapsed": true
   },
   "outputs": [],
   "source": [
    "# applying a function on each cell of a dataframe\n",
    "dataset_full = dataset_full.applymap(replace_commas_with_dots_in_string)"
   ]
  },
  {
   "cell_type": "code",
   "execution_count": null,
   "metadata": {
    "collapsed": true
   },
   "outputs": [],
   "source": [
    "#function to convert floats stored as string to floats\n",
    "def convert_floats_in_string_to_floats(element):\n",
    "    if type(element) == str or type(element) == int:\n",
    "        try:\n",
    "            return float(element)\n",
    "        except (ValueError, TypeError):\n",
    "            return element\n",
    "    return element"
   ]
  },
  {
   "cell_type": "markdown",
   "metadata": {},
   "source": [
    "We do not want to convert key and response columns to float, so need to obtain a list of all columns except for keys and target."
   ]
  },
  {
   "cell_type": "code",
   "execution_count": null,
   "metadata": {
    "collapsed": true
   },
   "outputs": [],
   "source": [
    "columns_to_convert = get_col_names_without_target_and_keys(dataset_full)"
   ]
  },
  {
   "cell_type": "markdown",
   "metadata": {},
   "source": [
    "Converting all columns except for keys and response."
   ]
  },
  {
   "cell_type": "code",
   "execution_count": null,
   "metadata": {
    "collapsed": true
   },
   "outputs": [],
   "source": [
    "dataset_full.loc[:,columns_to_convert] = (dataset_full[columns_to_convert]).applymap(convert_floats_in_string_to_floats)"
   ]
  },
  {
   "cell_type": "code",
   "execution_count": null,
   "metadata": {
    "collapsed": true
   },
   "outputs": [],
   "source": []
  },
  {
   "cell_type": "code",
   "execution_count": null,
   "metadata": {
    "collapsed": true
   },
   "outputs": [],
   "source": []
  },
  {
   "cell_type": "code",
   "execution_count": null,
   "metadata": {
    "collapsed": true
   },
   "outputs": [],
   "source": []
  },
  {
   "cell_type": "code",
   "execution_count": null,
   "metadata": {
    "collapsed": true
   },
   "outputs": [],
   "source": [
    "pd.to_datetime(dataset_full_copy, format='%Y-%m-%d %H:%M', errors='ignore')"
   ]
  },
  {
   "cell_type": "code",
   "execution_count": null,
   "metadata": {
    "collapsed": true
   },
   "outputs": [],
   "source": [
    "pd.to_datetime(500, format='%Y-%m-%d %H:%M', errors='ignore')"
   ]
  },
  {
   "cell_type": "code",
   "execution_count": null,
   "metadata": {
    "collapsed": true
   },
   "outputs": [],
   "source": [
    "pd.to_datetime(date, format='%Y-%m-%d %H:%M', errors='ignore').loc[:5]"
   ]
  },
  {
   "cell_type": "code",
   "execution_count": null,
   "metadata": {
    "collapsed": true
   },
   "outputs": [],
   "source": [
    "date = dataset_full['v173'].copy(deep=True)\n",
    "date.loc[:5]"
   ]
  },
  {
   "cell_type": "code",
   "execution_count": null,
   "metadata": {
    "collapsed": true
   },
   "outputs": [],
   "source": []
  },
  {
   "cell_type": "code",
   "execution_count": null,
   "metadata": {
    "collapsed": true
   },
   "outputs": [],
   "source": []
  },
  {
   "cell_type": "code",
   "execution_count": null,
   "metadata": {
    "collapsed": true
   },
   "outputs": [],
   "source": []
  },
  {
   "cell_type": "code",
   "execution_count": null,
   "metadata": {
    "collapsed": true
   },
   "outputs": [],
   "source": []
  },
  {
   "cell_type": "code",
   "execution_count": null,
   "metadata": {
    "collapsed": true
   },
   "outputs": [],
   "source": []
  },
  {
   "cell_type": "code",
   "execution_count": null,
   "metadata": {
    "collapsed": true
   },
   "outputs": [],
   "source": [
    "#!!!!!!!!!!!!!!!!!!!!!!!!!!!!!!!!!!"
   ]
  },
  {
   "cell_type": "code",
   "execution_count": null,
   "metadata": {
    "collapsed": true
   },
   "outputs": [],
   "source": [
    "#old\n",
    "def col_to_datetime(input_col):\n",
    "    if input_col.dtype=='O':\n",
    "        col=pd.to_datetime(input_col, format='%Y-%m-%d %H:%M', errors='ignore')\n",
    "        return col\n",
    "    else:\n",
    "        return input_col    "
   ]
  },
  {
   "cell_type": "code",
   "execution_count": null,
   "metadata": {
    "collapsed": true
   },
   "outputs": [],
   "source": [
    "import datetime as dt\n",
    "\n",
    "def col_to_datetime(input_col):\n",
    "    if input_col.dtype=='O': #in pandas dataframe columns containing Strings, has type Object, or 'O'\n",
    "        col_datetime=pd.to_datetime(input_col, format='%Y-%m-%d %H:%M', errors='ignore') #convert to datetime only if format is '%Y-%m-%d %H:%M'\n",
    "        if col_datetime.dtype=='datetime64[ns]': \n",
    "            epoch_timestamp_col = col_datetime - dt.datetime(1970, 1, 1)\n",
    "            sec_float_col = epoch_timestamp_col / np.timedelta64(1, 's')\n",
    "            return sec_float_col\n",
    "        return col_datetime\n",
    "    else:\n",
    "        return input_col           "
   ]
  },
  {
   "cell_type": "code",
   "execution_count": null,
   "metadata": {
    "collapsed": true
   },
   "outputs": [],
   "source": [
    "dates.loc[:5]"
   ]
  },
  {
   "cell_type": "code",
   "execution_count": null,
   "metadata": {
    "collapsed": true
   },
   "outputs": [],
   "source": [
    "dates2=dates.apply(col_to_datetime)\n",
    "dates2.loc[:5]"
   ]
  },
  {
   "cell_type": "code",
   "execution_count": null,
   "metadata": {
    "collapsed": true
   },
   "outputs": [],
   "source": [
    "type(dates2)"
   ]
  },
  {
   "cell_type": "code",
   "execution_count": null,
   "metadata": {
    "collapsed": true
   },
   "outputs": [],
   "source": [
    "dates2.dtypes"
   ]
  },
  {
   "cell_type": "code",
   "execution_count": null,
   "metadata": {
    "collapsed": true
   },
   "outputs": [],
   "source": []
  },
  {
   "cell_type": "code",
   "execution_count": null,
   "metadata": {
    "collapsed": true
   },
   "outputs": [],
   "source": []
  },
  {
   "cell_type": "code",
   "execution_count": null,
   "metadata": {
    "collapsed": true
   },
   "outputs": [],
   "source": [
    "#!!!!!!!!!!!!!!!!!!!!!!!!!!!!!!!!!!\n",
    "dates3=dataset_full_copy.apply(col_to_datetime)\n",
    "dates3.loc[:5]"
   ]
  },
  {
   "cell_type": "code",
   "execution_count": null,
   "metadata": {
    "collapsed": true
   },
   "outputs": [],
   "source": [
    "dates3.dtypes"
   ]
  },
  {
   "cell_type": "code",
   "execution_count": null,
   "metadata": {
    "collapsed": true
   },
   "outputs": [],
   "source": []
  },
  {
   "cell_type": "code",
   "execution_count": null,
   "metadata": {
    "collapsed": true
   },
   "outputs": [],
   "source": []
  },
  {
   "cell_type": "code",
   "execution_count": null,
   "metadata": {
    "collapsed": true
   },
   "outputs": [],
   "source": [
    "dataset_full_copy"
   ]
  },
  {
   "cell_type": "code",
   "execution_count": null,
   "metadata": {
    "collapsed": true
   },
   "outputs": [],
   "source": [
    "dataset_full_copy.dtypes"
   ]
  },
  {
   "cell_type": "code",
   "execution_count": null,
   "metadata": {
    "collapsed": true
   },
   "outputs": [],
   "source": []
  },
  {
   "cell_type": "code",
   "execution_count": null,
   "metadata": {
    "collapsed": true
   },
   "outputs": [],
   "source": []
  },
  {
   "cell_type": "code",
   "execution_count": null,
   "metadata": {
    "collapsed": true
   },
   "outputs": [],
   "source": [
    "dates = dataset_full[['v173','v175','v177']].copy(deep=True)\n",
    "dates.loc[:5]"
   ]
  },
  {
   "cell_type": "code",
   "execution_count": null,
   "metadata": {
    "collapsed": true
   },
   "outputs": [],
   "source": [
    "type(dates)"
   ]
  },
  {
   "cell_type": "code",
   "execution_count": null,
   "metadata": {
    "collapsed": true
   },
   "outputs": [],
   "source": []
  },
  {
   "cell_type": "code",
   "execution_count": null,
   "metadata": {
    "collapsed": true
   },
   "outputs": [],
   "source": [
    "dataset_full_copy = dataset_full.copy(deep=True)"
   ]
  },
  {
   "cell_type": "code",
   "execution_count": null,
   "metadata": {
    "collapsed": true
   },
   "outputs": [],
   "source": []
  },
  {
   "cell_type": "code",
   "execution_count": null,
   "metadata": {
    "collapsed": true
   },
   "outputs": [],
   "source": [
    "#old - removed because Orange does not have imputation library"
   ]
  },
  {
   "cell_type": "markdown",
   "metadata": {
    "collapsed": true
   },
   "source": [
    "(a) In Pandas, Numpy and Scikit learn packages there is no possibility to impute missing values with machine learning algorithms (e.g. to predict value). For that I would need to use Orange package. But to use that package I would need to tranform dataframes from Pandas to Orange.\n",
    "\n",
    "_Note: Both Pandas and Orange dataframes are just wrapers for NumPay, so doing this transformation is not computationally expensive._"
   ]
  },
  {
   "cell_type": "code",
   "execution_count": null,
   "metadata": {
    "collapsed": true
   },
   "outputs": [],
   "source": [
    "# 2 functions to convert Pandas dataframe to Orange table/dataframe\n",
    "def get_feature_description_for_orange_from_pandas(pandas_df):\n",
    "    feature_list = [Orange.data.ContinuousVariable(col) for col in list(pandas_df.columns)]\n",
    "    return Domain(feature_list)\n",
    "\n",
    "def pandas_to_orange_df(pandas_df):\n",
    "    np_array = pandas_df.values\n",
    "    orange_table_domain = get_feature_description_for_orange_from_pandas(pandas_df)\n",
    "    orange_table = Orange.data.Table(orange_table_domain, np_array)\n",
    "    return orange_table"
   ]
  },
  {
   "cell_type": "code",
   "execution_count": null,
   "metadata": {
    "collapsed": true
   },
   "outputs": [],
   "source": [
    "dataset_orange = pandas_to_orange_df(dataset_full_with_dummies)"
   ]
  }
 ],
 "metadata": {
  "kernelspec": {
   "display_name": "Python 3",
   "language": "python",
   "name": "python3"
  },
  "language_info": {
   "codemirror_mode": {
    "name": "ipython",
    "version": 3
   },
   "file_extension": ".py",
   "mimetype": "text/x-python",
   "name": "python",
   "nbconvert_exporter": "python",
   "pygments_lexer": "ipython3",
   "version": "3.6.3"
  }
 },
 "nbformat": 4,
 "nbformat_minor": 2
}
